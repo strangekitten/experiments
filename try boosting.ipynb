{
 "cells": [
  {
   "cell_type": "code",
   "execution_count": 1,
   "metadata": {},
   "outputs": [],
   "source": [
    "import numpy as np\n",
    "from scipy.optimize import differential_evolution\n",
    "from scipy.special import expit\n",
    "from sklearn.metrics import roc_auc_score\n",
    "\n",
    "\n",
    "class Boosting_Elcl:\n",
    "    def __init__(self, tol=0.4, max_iter=100):\n",
    "        self.tol = tol\n",
    "        self.max_iter = max_iter\n",
    "        pass\n",
    "    def fit(self, X_train, y_train, max_elems):\n",
    "        self.max_elems = max_elems\n",
    "        \n",
    "        def W(x):\n",
    "            y2, y1, sigma = x[0], x[1], x[2:]\n",
    "            res = np.prod(X_train <= sigma[None, :], axis=1)\n",
    "            ans = res\n",
    "            ans[res == 1] = y1\n",
    "            ans[res == 0] = y2    \n",
    "            return np.sum((ans - target) ** 2)\n",
    "\n",
    "                \n",
    "        self.sigmas = []\n",
    "        target = y_train.copy()\n",
    "        # меняем обозначение класса с 0 на -1\n",
    "        target[target == 0] = -1\n",
    "        \n",
    "        #границы для y1, y2\n",
    "        bounds = [(-1, 1), (-1, 1)]\n",
    "        #границы для значений сигма\n",
    "        bounds.extend([(0, i) for i in max_elems])\n",
    "        \n",
    "        \n",
    "        ans = np.zeros(X_train.shape[0])\n",
    "        \n",
    "        for _ in range(self.max_iter):\n",
    "            #Подбор нового эл.кл.\n",
    "            tmp = differential_evolution(W, bounds).x\n",
    "            self.sigmas.append((tmp[0], tmp[1], tmp[2:]))\n",
    "            \n",
    "            #Получение предсказания композиции уже подобранных эл.кл.\n",
    "            sigma = tmp[2:]\n",
    "            res = np.prod(X_train <= sigma[None, :], axis=1)\n",
    "            ans[res == 1] += tmp[1]\n",
    "            ans[res == 0] += tmp[0]\n",
    "            prob = 1 / (1 + np.exp(-ans))\n",
    "            loss = np.mean(np.logaddexp(0, -y_train * ans))\n",
    "            if loss < self.tol:\n",
    "                break\n",
    "            \n",
    "            #Вычисление нового target\n",
    "            target = y_train * expit(-y_train * ans)\n",
    "            \n",
    "            \n",
    "    def predict(self, X_test):\n",
    "        ans = np.zeros(X_test.shape[0])\n",
    "        \n",
    "        for y2, y1, sigma in self.sigmas:\n",
    "            res = np.prod(X_test <= sigma[None, :], axis=1)\n",
    "            ans[res == 1] += y1\n",
    "            ans[res == 0] += y2\n",
    "            \n",
    "        #Вероятность класса 1\n",
    "        proba = expit(ans)[:, np.newaxis]\n",
    "        #np.hstack((proba, 1 - proba))\n",
    "        \n",
    "        # Получаем метки\n",
    "        tmp = np.sign(ans)\n",
    "        tmp[tmp == -1] = 0\n",
    "        tmp = tmp.astype(np.int)\n",
    "        \n",
    "        return proba\n",
    "        "
   ]
  },
  {
   "cell_type": "code",
   "execution_count": 2,
   "metadata": {},
   "outputs": [],
   "source": [
    "class One_vs_all:\n",
    "    def __init__(self):\n",
    "        pass\n",
    "    def fit(self, X, y, max_elems):\n",
    "        self.classes = np.unique(y)\n",
    "        self.models = []\n",
    "        for k in self.classes:\n",
    "            tmp_model = Boosting_Elcl()\n",
    "            y_tmp = y.copy()\n",
    "            y_tmp[y == k] = 1\n",
    "            y_tmp[y != k] = -1\n",
    "            tmp_model.fit(X, y_tmp, max_elems)\n",
    "            self.models.append(tmp_model)\n",
    "            \n",
    "    def predict(self, X):\n",
    "        res = np.zeros((X.shape[0], len(self.classes)))\n",
    "        for k, model in enumerate(self.models):\n",
    "            res[:, k] = model.predict(X)[:, 0]\n",
    "            \n",
    "        return np.argmax(res, axis=1)\n",
    "            "
   ]
  },
  {
   "cell_type": "code",
   "execution_count": 3,
   "metadata": {},
   "outputs": [],
   "source": [
    "from sklearn.datasets import make_classification\n",
    "\n",
    "max_el = 17\n",
    "\n",
    "X, y = make_classification(n_samples=40, n_features=5, n_informative=3, n_redundant=2, n_classes=4) \n",
    "max_elems = np.ones(X.shape[1], dtype=np.int) * max_el\n",
    "X = (X % max_el).astype(int)"
   ]
  },
  {
   "cell_type": "code",
   "execution_count": 6,
   "metadata": {},
   "outputs": [],
   "source": [
    "m = One_vs_all()\n",
    "m.fit(X, y, max_elems)\n",
    "ans = m.predict(X)"
   ]
  },
  {
   "cell_type": "code",
   "execution_count": 7,
   "metadata": {},
   "outputs": [
    {
     "data": {
      "text/plain": [
       "0.5"
      ]
     },
     "execution_count": 7,
     "metadata": {},
     "output_type": "execute_result"
    }
   ],
   "source": [
    "def ohe(target, classes):\n",
    "    return (classes == target[:, None]).astype(int)\n",
    "\n",
    "\n",
    "classes = np.arange(len(np.unique(y)))\n",
    "tmp =  ohe(y, classes)\n",
    "\n",
    "roc_auc_score(tmp, ohe(ans, classes), average='macro')"
   ]
  },
  {
   "cell_type": "code",
   "execution_count": null,
   "metadata": {},
   "outputs": [],
   "source": []
  }
 ],
 "metadata": {
  "kernelspec": {
   "display_name": "Python 3",
   "language": "python",
   "name": "python3"
  },
  "language_info": {
   "codemirror_mode": {
    "name": "ipython",
    "version": 3
   },
   "file_extension": ".py",
   "mimetype": "text/x-python",
   "name": "python",
   "nbconvert_exporter": "python",
   "pygments_lexer": "ipython3",
   "version": "3.7.3"
  }
 },
 "nbformat": 4,
 "nbformat_minor": 4
}
