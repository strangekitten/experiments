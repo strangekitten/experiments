{
  "nbformat": 4,
  "nbformat_minor": 0,
  "metadata": {
    "colab": {
      "name": "try boosting_ lax.ipynb",
      "provenance": [],
      "collapsed_sections": []
    },
    "kernelspec": {
      "display_name": "Python 3",
      "language": "python",
      "name": "python3"
    },
    "language_info": {
      "codemirror_mode": {
        "name": "ipython",
        "version": 3
      },
      "file_extension": ".py",
      "mimetype": "text/x-python",
      "name": "python",
      "nbconvert_exporter": "python",
      "pygments_lexer": "ipython3",
      "version": "3.7.3"
    }
  },
  "cells": [
    {
      "cell_type": "code",
      "metadata": {
        "colab": {
          "base_uri": "https://localhost:8080/"
        },
        "id": "ku0HFSxkGRDz",
        "outputId": "63ce1a29-ae47-4684-ace4-77d439d4c12f"
      },
      "source": [
        "pip install CatBoost"
      ],
      "execution_count": 1,
      "outputs": [
        {
          "output_type": "stream",
          "text": [
            "Collecting CatBoost\n",
            "\u001b[?25l  Downloading https://files.pythonhosted.org/packages/96/3b/bb419654adcf7efff42ed8a3f84e50c8f236424b7ed1cc8ccd290852e003/catboost-0.24.4-cp37-none-manylinux1_x86_64.whl (65.7MB)\n",
            "\u001b[K     |████████████████████████████████| 65.7MB 58kB/s \n",
            "\u001b[?25hRequirement already satisfied: plotly in /usr/local/lib/python3.7/dist-packages (from CatBoost) (4.4.1)\n",
            "Requirement already satisfied: graphviz in /usr/local/lib/python3.7/dist-packages (from CatBoost) (0.10.1)\n",
            "Requirement already satisfied: pandas>=0.24.0 in /usr/local/lib/python3.7/dist-packages (from CatBoost) (1.1.5)\n",
            "Requirement already satisfied: matplotlib in /usr/local/lib/python3.7/dist-packages (from CatBoost) (3.2.2)\n",
            "Requirement already satisfied: six in /usr/local/lib/python3.7/dist-packages (from CatBoost) (1.15.0)\n",
            "Requirement already satisfied: scipy in /usr/local/lib/python3.7/dist-packages (from CatBoost) (1.4.1)\n",
            "Requirement already satisfied: numpy>=1.16.0 in /usr/local/lib/python3.7/dist-packages (from CatBoost) (1.19.5)\n",
            "Requirement already satisfied: retrying>=1.3.3 in /usr/local/lib/python3.7/dist-packages (from plotly->CatBoost) (1.3.3)\n",
            "Requirement already satisfied: pytz>=2017.2 in /usr/local/lib/python3.7/dist-packages (from pandas>=0.24.0->CatBoost) (2018.9)\n",
            "Requirement already satisfied: python-dateutil>=2.7.3 in /usr/local/lib/python3.7/dist-packages (from pandas>=0.24.0->CatBoost) (2.8.1)\n",
            "Requirement already satisfied: kiwisolver>=1.0.1 in /usr/local/lib/python3.7/dist-packages (from matplotlib->CatBoost) (1.3.1)\n",
            "Requirement already satisfied: cycler>=0.10 in /usr/local/lib/python3.7/dist-packages (from matplotlib->CatBoost) (0.10.0)\n",
            "Requirement already satisfied: pyparsing!=2.0.4,!=2.1.2,!=2.1.6,>=2.0.1 in /usr/local/lib/python3.7/dist-packages (from matplotlib->CatBoost) (2.4.7)\n",
            "Installing collected packages: CatBoost\n",
            "Successfully installed CatBoost-0.24.4\n"
          ],
          "name": "stdout"
        }
      ]
    },
    {
      "cell_type": "code",
      "metadata": {
        "id": "cHOka93ncQz1"
      },
      "source": [
        "import numpy as np\n",
        "from scipy.optimize import differential_evolution\n",
        "from scipy.special import expit\n",
        "from scipy.optimize import minimize_scalar\n",
        "from sklearn.metrics import roc_auc_score\n",
        "import pandas as pd\n",
        "import math\n",
        "from sklearn.tree import DecisionTreeRegressor\n",
        "import xgboost as xgb\n",
        "import lightgbm as lgb\n",
        "from sklearn.model_selection import cross_val_predict\n",
        "from catboost import CatBoostClassifier\n",
        "import matplotlib.pyplot as plt\n",
        "import math\n",
        "import time\n",
        "\n",
        "import torch\n",
        "import torch.nn as nn\n",
        "import torch.nn.functional as F\n",
        "import torch.optim as optim\n",
        "from torch.autograd import Variable\n",
        "from torch.nn import Parameter\n",
        "from torchvision import datasets, transforms"
      ],
      "execution_count": 2,
      "outputs": []
    },
    {
      "cell_type": "code",
      "metadata": {
        "id": "DPtms3ChcUMJ",
        "colab": {
          "base_uri": "https://localhost:8080/"
        },
        "outputId": "f56c993f-badc-4817-cee0-6447360b0755"
      },
      "source": [
        "from google.colab import drive\n",
        "drive.mount('/content/drive')"
      ],
      "execution_count": 3,
      "outputs": [
        {
          "output_type": "stream",
          "text": [
            "Mounted at /content/drive\n"
          ],
          "name": "stdout"
        }
      ]
    },
    {
      "cell_type": "markdown",
      "metadata": {
        "id": "J3u-yn7Dciyp"
      },
      "source": [
        ""
      ]
    },
    {
      "cell_type": "code",
      "metadata": {
        "id": "gWphUweH6QOC"
      },
      "source": [
        "class Net(nn.Module):\n",
        "    def __init__(self, num_features):\n",
        "        super().__init__()\n",
        "        self.weights = nn.Parameter(torch.randn(num_features, 1) / math.sqrt(num_features))\n",
        "        self.bias = nn.Parameter(torch.zeros(1))\n",
        "        self.input_dim =  num_features\n",
        "        self.hidden_dim = 32\n",
        "        self.output_dim = 1\n",
        "        self.hid_blocks = 4\n",
        "        self.use_bn = False\n",
        "        self.use_dropout = False\n",
        "        self.drop_rate = 0.9\n",
        "        layers = []\n",
        "        layers.append(nn.Linear(self.input_dim, self.hidden_dim))\n",
        "        layers.append(nn.ReLU())\n",
        "        for i in range(self.hid_blocks):\n",
        "            if self.use_bn:\n",
        "                layers.append(nn.BatchNorm1d(self.hidden_dim))\n",
        "            layers.append(nn.Linear(self.hidden_dim, self.hidden_dim))\n",
        "            layers.append(nn.ReLU())\n",
        "            if i == self.hid_blocks - 1 and self.use_dropout:\n",
        "                layers.append(nn.Dropout(self.drop_rate))\n",
        "                \n",
        "        layers.append(nn.Linear(self.hidden_dim, 1))\n",
        "        self.layers = nn.ModuleList(layers)\n",
        "\n",
        "    def forward(self, x):\n",
        "        for layer in self.layers:\n",
        "            x = layer(x)\n",
        "        return x\n",
        "\n",
        "\n",
        "\n",
        "def f(b):\n",
        "    round_b = torch.round(torch.clamp(b, 0))\n",
        "    print((X < round_b[None, :]).all(axis=1).int())\n",
        "    return (((X < round_b[None, :]).all(axis=1).int() - y) ** 2).mean()\n",
        "\n",
        "def lax(optimized_f, num_features, max_elems, optimizer_type, alpha1=0.1, alpha2=0.1):\n",
        "\n",
        "    pred_f = 1e10\n",
        "    mu = torch.from_numpy(max_elems/ 2).float()\n",
        "    #mu = torch.zeros(num_features)\n",
        "    #mu = torch.normal(torch.from_numpy(max_elems).float(), 10 * torch.ones(num_features))\n",
        "    log_sigma = torch.ones(num_features)\n",
        "    model = Net(num_features)\n",
        "    optimizer1 = optimizer_type([mu, log_sigma])\n",
        "    optimizer2 = optimizer_type(model.parameters())\n",
        "\n",
        "    while True:\n",
        "        optimizer1.zero_grad()\n",
        "        optimizer2.zero_grad()\n",
        "        \n",
        "        eps = torch.normal(torch.zeros(num_features), torch.ones(num_features))\n",
        "        b = mu + eps * torch.exp(log_sigma)\n",
        "        b.requires_grad_()\n",
        "        pred = model.forward(b)\n",
        "\n",
        "        pred.backward(retain_graph=True)\n",
        "        #optimizer1.step()\n",
        "        step_mu = (optimized_f(b) - pred) * (b - mu) / (torch.exp(log_sigma) ** 2 + 1e-8) + b.grad \n",
        "        step_sigma = (optimized_f(b) - pred)  * ((b - mu)** 2 / (torch.exp(log_sigma) ** 2 + 1e-8) - 1) + b.grad * eps * torch.exp(log_sigma)\n",
        "        g_theta = (step_mu.sum() + step_sigma.sum()) ** 2\n",
        "        g_theta.backward()\n",
        "        optimizer2.step()\n",
        "\n",
        "        with torch.no_grad():\n",
        "            log_sigma -= alpha2 * step_sigma * torch.exp(log_sigma)\n",
        "            log_sigma = torch.clamp(log_sigma, -10, 10)\n",
        "            mu -= alpha1 * step_mu\n",
        "            mu = torch.clamp(mu, 0, max(max_elems))\n",
        "            print(mu)\n",
        "            if optimized_f(b) <= pred_f and pred_f - optimized_f(b) < 0.00001:\n",
        "                #print(\"r\", pred_f, optimized_f(b))\n",
        "                break\n",
        "            pred_f = optimized_f(b)\n",
        "            \n",
        "    print(\"R\", torch.round(torch.clamp(mu, 0)))\n",
        "    return torch.round(torch.clamp(mu, 0))\n"
      ],
      "execution_count": 48,
      "outputs": []
    },
    {
      "cell_type": "code",
      "metadata": {
        "id": "7wHav9iH7f91",
        "colab": {
          "base_uri": "https://localhost:8080/"
        },
        "outputId": "b09ac3db-1b52-49a5-b0a5-2b7b7b378dd9"
      },
      "source": [
        "get_rocauc(Xd, X, y, 5, c)\n"
      ],
      "execution_count": 49,
      "outputs": [
        {
          "output_type": "stream",
          "text": [
            "tensor([20.1199,  1.0979, 24.1710, 44.7504,  1.9810,  1.2537,  1.1731,  0.3874,\n",
            "         0.5250, 19.9896,  1.5431, 24.2203, 44.8099,  2.2165,  1.4885])\n",
            "tensor([20.1312,  0.0000, 24.1659, 45.3494,  2.0416,  1.1625,  1.0405,  0.3714,\n",
            "         0.5694, 20.0536,  1.5750, 24.7739, 44.9243,  2.1777,  1.5483])\n",
            "R tensor([20.,  0., 24., 45.,  2.,  1.,  1.,  0.,  1., 20.,  2., 25., 45.,  2.,\n",
            "         2.])\n",
            "tensor([ 1.3379, 75.5902, 45.1961,  2.8569,  1.5472,  0.9225,  0.3521,  0.6353,\n",
            "         0.4509,  1.4981, 75.4306, 44.9719,  3.0211,  1.8173])\n",
            "tensor([ 1.0904, 75.5256, 44.8563,  2.6764,  1.5183,  0.9533,  0.3459,  0.6319,\n",
            "         0.4539,  1.5311, 75.4120, 44.9211,  3.0487,  0.0000])\n",
            "R tensor([ 1., 76., 45.,  3.,  2.,  1.,  0.,  1.,  0.,  2., 75., 45.,  3.,  0.])\n",
            "tensor([20.0408,  1.6961, 23.9579, 75.3801,  3.1997,  2.0879,  1.1863,  1.0116,\n",
            "         0.7399, 20.0234,  1.3884, 23.9858, 75.6106,  2.9818,  2.3693,  1.4186])\n",
            "tensor([20.0793,  2.0427, 23.9685, 75.3995,  3.0480,  2.1049,  0.2767,  1.0810,\n",
            "         0.9485, 20.0409,  1.3540, 23.9505, 75.5330,  2.9844, 24.8769,  1.5961])\n",
            "R tensor([20.,  2., 24., 75.,  3.,  2.,  0.,  1.,  1., 20.,  1., 24., 76.,  3.,\n",
            "        25.,  2.])\n",
            "tensor([23.6643, 75.7321,  3.0875,  1.8906,  1.5970,  0.9506,  0.9116,  0.5802,\n",
            "         0.3174, 24.0412, 75.6129,  3.0521,  1.8919,  1.2374])\n",
            "tensor([19.7565, 75.7954,  2.9003,  1.8864,  1.5533,  0.9754,  0.9362,  0.5724,\n",
            "         0.1471, 24.0777, 75.6416,  3.0408,  2.1161,  0.5655])\n",
            "R tensor([20., 76.,  3.,  2.,  2.,  1.,  1.,  1.,  0., 24., 76.,  3.,  2.,  1.])\n",
            "tensor([23.9442, 75.6192, 44.8738,  3.1854,  0.9138,  0.8460,  1.1466,  0.6804,\n",
            "         0.5661, 23.8827, 75.4785, 44.9856,  2.8565])\n",
            "tensor([23.9303, 75.5348, 45.0468,  2.7575,  0.9056, 13.4503,  1.1098,  0.7552,\n",
            "         0.5982, 23.8617, 75.4526, 44.9948,  2.7151])\n",
            "R tensor([24., 76., 45.,  3.,  1., 13.,  1.,  1.,  1., 24., 75., 45.,  3.])\n",
            "tensor([20.1374,  1.4509,  1.8618,  1.5127,  0.5269,  0.3167,  0.6982,  0.5863,\n",
            "         0.4565, 19.6496,  1.5554,  1.7493,  1.5442])\n",
            "tensor([20.0399,  1.4220,  1.9226,  1.5145,  0.0000,  0.1993,  1.1287,  0.6163,\n",
            "         0.4643, 18.9575,  1.4472,  2.4394,  1.5052])\n",
            "R tensor([20.,  1.,  2.,  2.,  0.,  0.,  1.,  1.,  0., 19.,  1.,  2.,  2.])\n",
            "tensor([ 1.4658, 23.9296, 75.6057, 44.9430,  2.8536,  2.0471,  1.6002,  0.5927,\n",
            "         0.5113,  1.2177, 23.9496, 75.5716, 44.6110,  2.7753,  2.2175,  1.4733])\n",
            "tensor([ 1.4210, 23.8052, 75.6977, 44.9509,  2.7151,  1.9955,  1.5687,  0.6877,\n",
            "         0.5870,  0.9994, 24.0115, 75.6291,  0.0000,  3.3832,  2.6623,  1.4466])\n",
            "R tensor([ 1., 24., 76., 45.,  3.,  2.,  2.,  1.,  1.,  1., 24., 76.,  0.,  3.,\n",
            "         3.,  1.])\n",
            "tensor([19.9034,  1.5116, 44.8381,  1.7595,  1.5420,  1.0510,  0.7141,  0.3055,\n",
            "         0.7819, 20.1498,  1.3472, 45.0022,  1.9865,  1.5956])\n",
            "tensor([19.8565,  1.5352, 44.8196,  1.7492,  1.5429,  1.0324,  0.6515,  0.5731,\n",
            "         1.7970, 20.2279,  1.2668, 44.9443,  2.0917,  1.6361])\n",
            "R tensor([20.,  2., 45.,  2.,  2.,  1.,  1.,  1.,  2., 20.,  1., 45.,  2.,  2.])\n",
            "tensor([19.7741, 24.1209, 75.6266, 45.1926,  2.8559,  1.0839,  0.5631,  0.4630,\n",
            "         0.5768, 20.0981, 24.1778, 75.5296, 44.9117,  2.9206])\n",
            "tensor([19.8381, 23.9952, 75.6923, 44.9357,  2.5890,  1.0488,  0.5844,  0.4221,\n",
            "         0.6023, 20.0524, 24.6072, 75.6016, 44.9591,  2.9390])\n",
            "R tensor([20., 24., 76., 45.,  3.,  1.,  1.,  0.,  1., 20., 25., 76., 45.,  3.])\n",
            "tensor([20.3489, 44.9690,  3.2598,  1.6129,  1.1359,  0.4592,  1.0406,  0.6234,\n",
            "         0.6365, 19.9805, 45.1421,  3.0108,  1.8617])\n",
            "tensor([16.4722, 45.0405,  4.4395,  1.6729,  0.8618,  0.4515,  1.0372,  0.6745,\n",
            "         0.6920, 20.0141, 45.0350,  2.9862, 19.9269])\n",
            "R tensor([16., 45.,  4.,  2.,  1.,  0.,  1.,  1.,  1., 20., 45.,  3., 20.])\n",
            "tensor([19.7925,  1.3526, 75.8385,  3.0801,  2.2026,  1.2263,  1.1198,  0.2352,\n",
            "         0.5074, 20.1721,  1.6319, 75.8200,  2.9128,  2.0190])\n",
            "tensor([19.7524,  1.3850, 77.4198,  2.9917,  2.6425,  1.2887,  1.1216,  0.7377,\n",
            "         0.5119, 20.3116,  1.6622, 74.8012,  2.8657,  2.0324])\n",
            "R tensor([20.,  1., 77.,  3.,  3.,  1.,  1.,  1.,  1., 20.,  2., 75.,  3.,  2.])\n",
            "tensor([20.2102,  1.4068, 23.9011, 44.8235,  1.5799,  0.5766,  1.1213,  0.3298,\n",
            "         0.6380, 20.1798,  1.5764, 24.0528, 44.9197,  1.4021])\n",
            "tensor([20.3911,  1.3643, 23.9044, 44.7109,  1.5924,  0.6998,  1.0709,  0.7607,\n",
            "         0.6616, 20.2999,  1.5614, 23.9958, 44.9113,  1.4508])\n",
            "R tensor([20.,  1., 24., 45.,  2.,  1.,  1.,  1.,  1., 20.,  2., 24., 45.,  1.])\n",
            "tensor([20.0306,  1.3673, 44.7961,  3.1414,  2.1519,  0.8987,  0.5438,  0.9352,\n",
            "         0.5394, 19.9079,  1.4128, 44.7615,  3.1673,  2.1530])\n",
            "tensor([20.1134,  1.5261, 44.7184,  3.1419,  2.0947,  0.8609,  0.6336,  0.9804,\n",
            "         0.4419, 19.9317,  1.5239, 43.7048,  3.3341,  2.2051])\n",
            "R tensor([20.,  2., 45.,  3.,  2.,  1.,  1.,  1.,  0., 20.,  2., 44.,  3.,  2.])\n",
            "tensor([23.8453, 75.4768, 45.0096,  2.9123,  2.1170,  0.9388,  0.3083,  0.7227,\n",
            "         0.2919, 24.1517, 75.2554, 45.1792,  2.9142,  1.9489])\n",
            "tensor([23.8898, 75.5139, 44.9993,  2.9136,  2.1800,  0.9404,  0.4123,  2.7548,\n",
            "         0.0000, 24.2324, 73.8775, 45.1764,  2.9907,  1.9770])\n",
            "R tensor([24., 76., 45.,  3.,  2.,  1.,  0.,  3.,  0., 24., 74., 45.,  3.,  2.])\n",
            "tensor([19.9653,  1.5118, 24.2019,  2.9101,  0.9347,  0.5234,  1.1715,  0.6725,\n",
            "         0.6420, 19.5500,  1.3317, 23.9824,  3.0332])\n",
            "tensor([19.9877,  1.5578, 24.6744,  2.8948,  0.8725,  0.4214,  1.1851,  0.5475,\n",
            "         0.7111,  0.0000,  1.0171, 24.0056,  2.9696])\n",
            "R tensor([20.,  2., 25.,  3.,  1.,  0.,  1.,  1.,  1.,  0.,  1., 24.,  3.])\n"
          ],
          "name": "stdout"
        },
        {
          "output_type": "execute_result",
          "data": {
            "text/plain": [
              "[0.5, 0.7563241106719367, 0.763570487483531, 0.8059288537549407]"
            ]
          },
          "metadata": {
            "tags": []
          },
          "execution_count": 49
        }
      ]
    },
    {
      "cell_type": "code",
      "metadata": {
        "id": "24sVvlPucQz8"
      },
      "source": [
        "class Boosting_Elcl:\n",
        "    def __init__(self, tol=0.4, max_iter=100, inv_feat=0, feature_subset=0.7):\n",
        "        self.tol = tol\n",
        "        self.max_iter = max_iter\n",
        "        self.inv_feat = inv_feat\n",
        "        self.feature_subset = feature_subset\n",
        "        self.method = \"lax\"\n",
        "        pass\n",
        "    def fit(self, X_train, y_train, max_elems, **kwargs):\n",
        "        self.max_elems = max_elems\n",
        "        self.trees = []            \n",
        "        self.sigmas = []\n",
        "        target = y_train.copy()\n",
        "        # меняем обозначение класса с 0 на -1\n",
        "        target[target == 0] = -1\n",
        "        y_train[y_train == 0] = -1\n",
        "        #границы для y1, y2\n",
        "        A = 10/self.max_iter\n",
        "        bounds = [(-A, A), (-A, A)]\n",
        "        #границы для значений сигма\n",
        "        #bounds.extend([(0, 3 * i) for i in max_elems])\n",
        "        \n",
        "        ans = np.zeros(X_train.shape[0])\n",
        "        ttarget = target.copy()\n",
        "        tans = ans.copy()\n",
        "\n",
        "        def optimized_f_for_evolution(x):\n",
        "            y2, y1, sigma = x[0], x[1], x[2:]\n",
        "            tmp_res = np.all(new_X_train <= sigma[None, :], axis=1)\n",
        "            tmp_ans = np.zeros(tmp_res.shape)\n",
        "            tmp_ans[tmp_res == True] = y1\n",
        "            tmp_ans[tmp_res == False] = y2 \n",
        "            return np.sum((tmp_ans - target) ** 2)\n",
        "\n",
        "\n",
        "        for _ in range(self.max_iter):\n",
        "            new_X_train = X_train.copy()\n",
        "            feature_idx = np.arange(X_train.shape[1])\n",
        "            if self.feature_subset != 1:\n",
        "                \n",
        "                tmp = int((X_train.shape[1] - self.inv_feat) * self.feature_subset)\n",
        "                feature_idx = np.sort(np.random.choice(X_train.shape[1] - self.inv_feat, tmp, \n",
        "                                                       replace=False))\n",
        "                tmp_max_elems = max_elems[feature_idx]\n",
        "                \n",
        "                feature_idx = np.append(feature_idx, feature_idx + X_train.shape[1] - self.inv_feat)\n",
        "                feature_idx = feature_idx[feature_idx < new_X_train.shape[1]]\n",
        "                new_X_train = new_X_train[:, feature_idx]\n",
        "\n",
        "\n",
        "            #Подбор нового эл.кл.\n",
        "            if self.method == \"diff_evolution\":\n",
        "                bounds = [(-A, A), (-A, A)]\n",
        "                bounds.extend([(0, 10 * i) for i in max_elems[feature_idx]])\n",
        "                tmp = differential_evolution(optimized_f_for_evolution,  bounds, popsize=15, **kwargs).x\n",
        "\n",
        "                sigma = max_elems.copy()\n",
        "                sigma[feature_idx] = tmp[2:]\n",
        "                self.sigmas.append((tmp[0], tmp[1], sigma))\n",
        "\n",
        "            elif self.method == \"lax\":\n",
        "                def optimized_f_for_lax(sigma):\n",
        "                    tmp_res = (torch.from_numpy(new_X_train) <= sigma[None, :]).all(axis=1)\n",
        "                    tmp_ans = torch.zeros(tmp_res.shape)\n",
        "                    tmp_ans[tmp_res == True] = A\n",
        "                    tmp_ans[tmp_res == False] = -A\n",
        "                    return ((tmp_ans - target) ** 2).mean()\n",
        "                sigma = max_elems.copy()\n",
        "                sigma[feature_idx] = lax(optimized_f_for_lax, new_X_train.shape[1], max_elems[feature_idx], optim.Adam).detach().numpy()\n",
        "                def sc_f1(x):\n",
        "                    tmp_res = (X_train <= sigma[None, :]).all(axis=1)\n",
        "                    tmp_ans = np.zeros(tmp_res.shape)\n",
        "                    tmp_ans[tmp_res == True] = x\n",
        "                    tmp_ans[tmp_res == False] = 0\n",
        "                    return ((tmp_ans - target) ** 2).mean()\n",
        "                \n",
        "                y1 = minimize_scalar(sc_f1, bounds=(-1, 1), method='bounded').x\n",
        "                \n",
        "                def sc_f2(x):\n",
        "                    tmp_res = (X_train <= sigma[None, :]).all(axis=1)\n",
        "                    tmp_ans = np.zeros(tmp_res.shape)\n",
        "                    tmp_ans[tmp_res == True] = y1\n",
        "                    tmp_ans[tmp_res == False] = x\n",
        "                    return ((tmp_ans - target) ** 2).mean() \n",
        "                y2 =  minimize_scalar(sc_f2, bounds=(-1, 1), method='bounded').x    \n",
        "                #print(y1, y2)\n",
        "                self.sigmas.append((y2, y1, sigma))\n",
        "            #print(sigma)\n",
        "            #Получение предсказания композиции уже подобранных эл.кл.\n",
        "            #print(np.all(X_train <= sigma[None, :], axis=1))\n",
        "            res = np.all(X_train <= sigma[None, :], axis=1)\n",
        "            ans[res == True] += self.sigmas[-1][1]\n",
        "            ans[res == False] += self.sigmas[-1][0]\n",
        "            prob = expit(ans)\n",
        "            \n",
        "            loss = np.mean(np.logaddexp(0, -y_train * ans))\n",
        "            \n",
        "            if loss < self.tol:\n",
        "                break\n",
        "            \n",
        "            #Вычисление нового target\n",
        "            target = y_train * expit(-y_train * ans)\n",
        "            #print(target)\n",
        "            #print(np.round(target, 4))\n",
        "            \n",
        "            tree = DecisionTreeRegressor(max_depth=1)\n",
        "            tree.fit(X_train, ttarget)\n",
        "            self.trees.append(tree)\n",
        "            tans += tree.predict(X_train)\n",
        "            ttarget = y_train * expit(-y_train * tans)\n",
        "\n",
        "            #print(\"elcl \", loss, \" tree \", np.mean(np.logaddexp(0, -y_train * tans)))\n",
        "            #print(np.sum((np.logaddexp(0, -y_train * tans) - np.logaddexp(0, -y_train * ans))** 2)**0.5)\n",
        "        y_train[y_train == -1] = 0\n",
        "\n",
        "    def predict(self, X_test):\n",
        "        ans = np.zeros(X_test.shape[0])\n",
        "        tans = ans.copy()\n",
        "        for y2, y1, sigma in self.sigmas:\n",
        "            res = np.all(X_test <= sigma[None, :], axis=1)\n",
        "            ans[res == True] += y1\n",
        "            ans[res == False] += y2\n",
        "            \n",
        "        \n",
        "        #Вероятность класса 1\n",
        "        proba = expit(ans)[:, np.newaxis]\n",
        "        #np.hstack((proba, 1 - proba))\n",
        "        \n",
        "        # Получаем метки\n",
        "        tmp = np.sign(ans)\n",
        "        tmp[tmp == -1] = 0\n",
        "        tmp = tmp.astype(np.int)\n",
        "\n",
        "        for tree in self.trees:\n",
        "            tans += tree.predict(X_test)\n",
        "        \n",
        "        return 1 - expit(ans)[:, np.newaxis] #proba\n",
        "        "
      ],
      "execution_count": 43,
      "outputs": []
    },
    {
      "cell_type": "code",
      "metadata": {
        "id": "TS8SXuMLcQz_"
      },
      "source": [
        "class One_vs_all:\n",
        "    def __init__(self, tol=0.4, max_iter=100, inv_feat=0):\n",
        "        self.tol = tol\n",
        "        self.max_iter = max_iter\n",
        "        self.inv_feat = inv_feat\n",
        "\n",
        "    def fit(self, X, y, max_elems, **kwargs):\n",
        "        self.classes = np.unique(y)\n",
        "        self.models = []\n",
        "\n",
        "        if len(self.classes) == 2:\n",
        "            tmp_model = Boosting_Elcl(tol=self.tol, max_iter=self.max_iter, inv_feat=self.inv_feat)\n",
        "            y_tmp = y.copy()\n",
        "            y_tmp[y == 1] = 1\n",
        "            y_tmp[y != 1] = -1\n",
        "            tmp_model.fit(X, y_tmp, max_elems, **kwargs)\n",
        "            self.models.append(tmp_model)\n",
        "            return\n",
        "        \n",
        "        for k in self.classes:\n",
        "            tmp_model = Boosting_Elcl(tol=self.tol, max_iter=self.max_iter, inv_feat=self.inv_feat)\n",
        "            y_tmp = y.copy()\n",
        "            y_tmp[y == k] = 1\n",
        "            y_tmp[y != k] = -1\n",
        "            tmp_model.fit(X, y_tmp, max_elems, **kwargs)\n",
        "            self.models.append(tmp_model)\n",
        "            \n",
        "    def predict(self, X):\n",
        "        res = np.zeros((X.shape[0], len(self.classes)))\n",
        "\n",
        "        if len(self.classes) == 2:\n",
        "            res[:, 1] = self.models[0].predict(X)[:, 0]\n",
        "            res[:, 0] = 1 - res[:, 1]\n",
        "\n",
        "        else:\n",
        "            for k, model in enumerate(self.models):\n",
        "                res[:, k] = model.predict(X)[:, 0]\n",
        "        #print(res)\n",
        "        return np.argmax(res, axis=1)\n",
        "            "
      ],
      "execution_count": 6,
      "outputs": []
    },
    {
      "cell_type": "code",
      "metadata": {
        "id": "9kC0jnNouIQ8"
      },
      "source": [
        "def my_cv(X, y, tol, num_runs, inv_feat, cv = 3, **kwargs):\n",
        "    ans = np.zeros((X.shape[0]))\n",
        "    ind = np.random.shuffle(np.arange(X.shape[0]))\n",
        "    for i in range(cv):\n",
        "        a, b = (X.shape[0] // cv) * i, (X.shape[0] // cv) * (i + 1)\n",
        "        m = One_vs_all(tol=tol, max_iter=num_runs, inv_feat=inv_feat)\n",
        "        m.fit(np.vstack((X[:a], X[b:])), np.append(y[:a], y[b:]), np.max(X, axis=0), **kwargs)\n",
        "        ans[a:b] = m.predict(X[a:b])\n",
        "    \n",
        "    return ans"
      ],
      "execution_count": 7,
      "outputs": []
    },
    {
      "cell_type": "code",
      "metadata": {
        "id": "i6eMmPNccQ0B"
      },
      "source": [
        "def enc(X, thr):\n",
        "    newX = X.copy()\n",
        "    inv = X.shape[1] - 1\n",
        "    c = 0\n",
        "    for i in range(X.shape[1]):\n",
        "        encode = {k:j for j, k in enumerate(sorted(np.unique(X[:, i])))}\n",
        "        if max(encode.values()) < thr:\n",
        "            new_i = inv\n",
        "            inv -= 1\n",
        "        else:\n",
        "            new_i = c\n",
        "            c += 1\n",
        "        for j in range(X.shape[0]):\n",
        "            newX[j, new_i] = encode[X[j, i]]\n",
        "\n",
        "    return newX, c"
      ],
      "execution_count": 8,
      "outputs": []
    },
    {
      "cell_type": "code",
      "metadata": {
        "id": "-zp-s0HgcQ0E"
      },
      "source": [
        "def add_inverse(X, size):\n",
        "    #a = np.arange(X.shape[1])\n",
        "    #ind = np.random.choice(a, size=size, replace=False)\n",
        "    ind = np.arange(size)\n",
        "    newX = np.zeros((X.shape[0], X.shape[1] + len(ind)), dtype=np.int)\n",
        "    newX[:, : X.shape[1]] = X\n",
        "    for j, i in enumerate(ind):\n",
        "        newX[:, X.shape[1] + j] = np.max(X[:, i]) - X[:, i]\n",
        "    return newX"
      ],
      "execution_count": 9,
      "outputs": []
    },
    {
      "cell_type": "code",
      "metadata": {
        "id": "8snm_bV2cQ0G"
      },
      "source": [
        "\n",
        "def ohe(target, classes):\n",
        "    return (classes == target[:, None]).astype(int)"
      ],
      "execution_count": 10,
      "outputs": []
    },
    {
      "cell_type": "code",
      "metadata": {
        "id": "HmEk77QH0FsS"
      },
      "source": [
        "def get_rocauc(Xd, X, y, n_estimators, inv_feat, cv=3, **kwargs):\n",
        "\n",
        "    ans = my_cv(Xd, y, tol=0.1, num_runs=n_estimators, inv_feat=inv_feat, cv=cv, **kwargs)\n",
        "\n",
        "    lgbm = lgb.LGBMClassifier(n_estimators=n_estimators)\n",
        "    ans_lgbm = cross_val_predict(lgbm, X, y, cv=cv)\n",
        "\n",
        "    xgbm = xgb.XGBClassifier(n_estimators=n_estimators)\n",
        "    ans_xgbm = cross_val_predict(xgbm, X, y, cv=cv)\n",
        "\n",
        "    cb = CatBoostClassifier(iterations=n_estimators, verbose=False)\n",
        "    ans_cb = cross_val_predict(cb, X, y, cv=cv)\n",
        "\n",
        "    classes = np.arange(len(np.unique(y)))\n",
        "    tmp = ohe(y, classes)\n",
        "\n",
        "    return [roc_auc_score(tmp, ohe(ans, classes), average='macro'), roc_auc_score(tmp, ohe(ans_lgbm, classes), average='macro'),\n",
        "            roc_auc_score(tmp, ohe(ans_xgbm, classes), average='macro'), roc_auc_score(tmp, ohe(ans_cb.reshape(-1, ), classes), average='macro')]"
      ],
      "execution_count": 11,
      "outputs": []
    },
    {
      "cell_type": "code",
      "metadata": {
        "id": "bs0enKcVW53b"
      },
      "source": [
        "def get_rocauc_hist(X, y, n_estimators, cv=3, **kwargs):\n",
        "\n",
        "    lgbm = lgb.LGBMClassifier(n_estimators=n_estimators)\n",
        "    ans_lgbm = cross_val_predict(lgbm, X, y, cv=cv)\n",
        "\n",
        "    xgbm = xgb.XGBClassifier(n_estimators=n_estimators)\n",
        "    ans_xgbm = cross_val_predict(xgbm, X, y, cv=cv)\n",
        "\n",
        "    cb = CatBoostClassifier(iterations=n_estimators, verbose=False)\n",
        "    ans_cb = cross_val_predict(cb, X, y, cv=cv)\n",
        "\n",
        "    classes = np.arange(len(np.unique(y)))\n",
        "    tmp = ohe(y, classes)\n",
        "\n",
        "    return [roc_auc_score(tmp, ohe(ans_lgbm, classes), average='macro'),\n",
        "            roc_auc_score(tmp, ohe(ans_xgbm, classes), average='macro'), roc_auc_score(tmp, ohe(ans_cb.reshape(-1, ), classes), average='macro')]"
      ],
      "execution_count": 12,
      "outputs": []
    },
    {
      "cell_type": "code",
      "metadata": {
        "id": "9vNUdUKtcQ0R"
      },
      "source": [
        "data_ph = pd.read_csv('/content/drive/My Drive/datasets_81236_188723_ph-data.csv')\n",
        "X = data_ph.drop(columns=['label']).values.astype(int)\n",
        "y = data_ph[['label']].values[:, 0]"
      ],
      "execution_count": 183,
      "outputs": []
    },
    {
      "cell_type": "code",
      "metadata": {
        "colab": {
          "base_uri": "https://localhost:8080/"
        },
        "id": "bp97BkVocQ0T",
        "outputId": "7d4fe525-1272-4c4e-a641-f659621bed13"
      },
      "source": [
        "X1, c = enc(X, thr=3)\n",
        "Xd = add_inverse(X1, c)\n",
        "feature_subset = 0.8\n",
        "cv = 3\n",
        "feature_subset = 1\n",
        "'m = ' + str(math.ceil(Xd.shape[0]*(cv-1)/cv)), 'k = ' + str(np.max(Xd) + 1),\\\n",
        "'n = ' + str(int(Xd.shape[1] * feature_subset))"
      ],
      "execution_count": 184,
      "outputs": [
        {
          "output_type": "execute_result",
          "data": {
            "text/plain": [
              "('m = 436', 'k = 186', 'n = 6')"
            ]
          },
          "metadata": {
            "tags": []
          },
          "execution_count": 184
        }
      ]
    },
    {
      "cell_type": "code",
      "metadata": {
        "colab": {
          "base_uri": "https://localhost:8080/"
        },
        "id": "qWFq_s16q5w5",
        "outputId": "a1a6696a-a42a-406f-a247-65582e2bec9b"
      },
      "source": [
        "get_rocauc(Xd, X, y, 40, c)"
      ],
      "execution_count": 185,
      "outputs": [
        {
          "output_type": "execute_result",
          "data": {
            "text/plain": [
              "[0.4930718218025182, 0.83558131114237, 0.8436865268659353, 0.8398102877267543]"
            ]
          },
          "metadata": {
            "tags": []
          },
          "execution_count": 185
        }
      ]
    },
    {
      "cell_type": "code",
      "metadata": {
        "colab": {
          "base_uri": "https://localhost:8080/",
          "height": 206
        },
        "id": "Q3pk0wC4FWsT",
        "outputId": "2d35d006-1810-45c8-84df-222014def3f3"
      },
      "source": [
        "classes = np.arange(len(np.unique(y)))\n",
        "tmp = ohe(y, classes)\n",
        "\n",
        "roc_auc_score(tmp, ohe(ans, classes), average='macro')"
      ],
      "execution_count": null,
      "outputs": [
        {
          "output_type": "error",
          "ename": "NameError",
          "evalue": "ignored",
          "traceback": [
            "\u001b[0;31m---------------------------------------------------------------------------\u001b[0m",
            "\u001b[0;31mNameError\u001b[0m                                 Traceback (most recent call last)",
            "\u001b[0;32m<ipython-input-17-0f00cae45770>\u001b[0m in \u001b[0;36m<module>\u001b[0;34m()\u001b[0m\n\u001b[1;32m      2\u001b[0m \u001b[0mtmp\u001b[0m \u001b[0;34m=\u001b[0m \u001b[0mohe\u001b[0m\u001b[0;34m(\u001b[0m\u001b[0my\u001b[0m\u001b[0;34m,\u001b[0m \u001b[0mclasses\u001b[0m\u001b[0;34m)\u001b[0m\u001b[0;34m\u001b[0m\u001b[0;34m\u001b[0m\u001b[0m\n\u001b[1;32m      3\u001b[0m \u001b[0;34m\u001b[0m\u001b[0m\n\u001b[0;32m----> 4\u001b[0;31m \u001b[0mroc_auc_score\u001b[0m\u001b[0;34m(\u001b[0m\u001b[0mtmp\u001b[0m\u001b[0;34m,\u001b[0m \u001b[0mohe\u001b[0m\u001b[0;34m(\u001b[0m\u001b[0mans\u001b[0m\u001b[0;34m,\u001b[0m \u001b[0mclasses\u001b[0m\u001b[0;34m)\u001b[0m\u001b[0;34m,\u001b[0m \u001b[0maverage\u001b[0m\u001b[0;34m=\u001b[0m\u001b[0;34m'macro'\u001b[0m\u001b[0;34m)\u001b[0m\u001b[0;34m\u001b[0m\u001b[0;34m\u001b[0m\u001b[0m\n\u001b[0m",
            "\u001b[0;31mNameError\u001b[0m: name 'ans' is not defined"
          ]
        }
      ]
    },
    {
      "cell_type": "code",
      "metadata": {
        "id": "9RO_RzyUEbuD"
      },
      "source": [
        "m = One_vs_all(max_iter=20)\n",
        "m.fit(Xd, y, np.max(Xd, axis=0))\n",
        "ans = m.predict(Xd)"
      ],
      "execution_count": null,
      "outputs": []
    },
    {
      "cell_type": "code",
      "metadata": {
        "id": "FEu_a_IWXo87"
      },
      "source": [
        "iter = [10, 20, 30, 40, 50]\n",
        "res = []\n",
        "for i in iter:\n",
        "    res.append(get_rocauc(Xd, X, y, i, c))"
      ],
      "execution_count": null,
      "outputs": []
    },
    {
      "cell_type": "code",
      "metadata": {
        "colab": {
          "base_uri": "https://localhost:8080/",
          "height": 354
        },
        "id": "7v1j7MMtX_KR",
        "outputId": "1be935fb-b802-4c96-f52b-9fcd7c7351ee"
      },
      "source": [
        "#fig, ax = plt.subplots(4, 1)\n",
        "plt.figure(figsize=(7, 5))\n",
        "name = [\"El.Cl. Boost\", \"LGBM\", \"XGBoost\", \"CatBoost\"]\n",
        "for i in range(4):\n",
        "    t = []\n",
        "    for elem in res:\n",
        "        t.append(elem[i])\n",
        "    plt.plot(iter, t, label=name[i])\n",
        "plt.legend()\n",
        "plt.title(\"cross validation ROC-AUC, ph-dataset\")\n",
        "#plt.savefig(\"ph-inv.pdf\")"
      ],
      "execution_count": null,
      "outputs": [
        {
          "output_type": "execute_result",
          "data": {
            "text/plain": [
              "Text(0.5, 1.0, 'cross validation ROC-AUC, ph-dataset')"
            ]
          },
          "metadata": {
            "tags": []
          },
          "execution_count": 20
        },
        {
          "output_type": "display_data",
          "data": {
            "image/png": "[encoded data removed]",
            "text/plain": [
              "<Figure size 504x360 with 1 Axes>"
            ]
          },
          "metadata": {
            "tags": [],
            "needs_background": "light"
          }
        }
      ]
    },
    {
      "cell_type": "code",
      "metadata": {
        "colab": {
          "base_uri": "https://localhost:8080/"
        },
        "id": "Q_xWSbAHcQ0d",
        "outputId": "85a2dc24-041c-4813-c674-6affb0e2b33a"
      },
      "source": [
        "data_heart = pd.read_csv('/content/drive/My Drive/datasets_33180_43520_heart.csv')\n",
        "data_heart = data_heart.sample(frac=1).reset_index(drop=True)\n",
        "X = data_heart.drop(columns=['target']).values.astype(int)\n",
        "y = data_heart[['target']].values[:, 0]\n",
        "\n",
        "X.shape, np.max(X)"
      ],
      "execution_count": 27,
      "outputs": [
        {
          "output_type": "execute_result",
          "data": {
            "text/plain": [
              "((303, 13), 564)"
            ]
          },
          "metadata": {
            "tags": []
          },
          "execution_count": 27
        }
      ]
    },
    {
      "cell_type": "code",
      "metadata": {
        "id": "r1XF9UWyve6a"
      },
      "source": [
        ""
      ],
      "execution_count": 27,
      "outputs": []
    },
    {
      "cell_type": "code",
      "metadata": {
        "id": "L4AFu3cDcQ0f"
      },
      "source": [
        "X1, c = enc(X, thr=3)\n",
        "\n",
        "inv_feat = c\n",
        "Xd = add_inverse(X1, c)\n",
        "cv = 3\n",
        "feature_subset = 0.8\n"
      ],
      "execution_count": 32,
      "outputs": []
    },
    {
      "cell_type": "code",
      "metadata": {
        "colab": {
          "base_uri": "https://localhost:8080/"
        },
        "id": "ylsDqXxMuHQf",
        "outputId": "a0d8a4ed-ca67-4313-b090-cd1d4651baaf"
      },
      "source": [
        "get_rocauc(Xd, X, y, 30, c)"
      ],
      "execution_count": 33,
      "outputs": [
        {
          "output_type": "stream",
          "text": [
            "[0.04950495 0.04950495 0.04950495 0.04950495 0.04950495]\n",
            "[0.06188372 0.06188372 0.06188372 0.06188372 0.06188372]\n",
            "[0.0711702 0.0711702 0.0711702 0.0711702 0.0711702]\n",
            "[0.07813763 0.07813763 0.07813763 0.07813763 0.07813763]\n",
            "[0.08336563 0.08336563 0.08336563 0.08336563 0.08336563]\n",
            "[0.08728876 0.08728876 0.08728876 0.08728876 0.08728876]\n",
            "[0.09023289 0.09023289 0.09023289 0.09023289 0.09023289]\n",
            "[0.09244244 0.09244244 0.09244244 0.09244244 0.09244244]\n",
            "[0.09410075 0.09410075 0.09410075 0.09410075 0.09410075]\n",
            "[0.09534538 0.09534538 0.09534538 0.09534538 0.09534538]\n",
            "[0.09627955 0.09627955 0.09627955 0.09627955 0.09627955]\n",
            "[0.09698071 0.09698071 0.09698071 0.09698071 0.09698071]\n",
            "[0.097507 0.097507 0.097507 0.097507 0.097507]\n",
            "[0.09790202 0.09790202 0.09790202 0.09790202 0.09790202]\n",
            "[0.09819852 0.09819852 0.09819852 0.09819852 0.09819852]\n",
            "[0.09842107 0.09842107 0.09842107 0.09842107 0.09842107]\n",
            "[0.09858812 0.09858812 0.09858812 0.09858812 0.09858812]\n",
            "[0.09871351 0.09871351 0.09871351 0.09871351 0.09871351]\n",
            "[0.09880763 0.09880763 0.09880763 0.09880763 0.09880763]\n",
            "[0.09887827 0.09887827 0.09887827 0.09887827 0.09887827]\n",
            "[0.0989313 0.0989313 0.0989313 0.0989313 0.0989313]\n",
            "[0.0989711 0.0989711 0.0989711 0.0989711 0.0989711]\n",
            "[0.09900098 0.09900098 0.09900098 0.09900098 0.09900098]\n",
            "[0.09902341 0.09902341 0.09902341 0.09902341 0.09902341]\n",
            "[0.09904024 0.09904024 0.09904024 0.09904024 0.09904024]\n",
            "[0.09905287 0.09905287 0.09905287 0.09905287 0.09905287]\n",
            "[0.09906236 0.09906236 0.09906236 0.09906236 0.09906236]\n",
            "[0.09906948 0.09906948 0.09906948 0.09906948 0.09906948]\n",
            "[0.09907482 0.09907482 0.09907482 0.09907482 0.09907482]\n",
            "[0.09907883 0.09907883 0.09907883 0.09907883 0.09907883]\n",
            "[0.0990099 0.0990099 0.0990099 0.0990099 0.0990099]\n",
            "[0.12378258 0.12378258 0.12378258 0.12378258 0.12378258]\n",
            "[0.14238134 0.14238134 0.14238134 0.14238134 0.14238134]\n",
            "[0.15635096 0.15635096 0.15635096 0.15635096 0.15635096]\n",
            "[0.16684761 0.16684761 0.16684761 0.16684761 0.16684761]\n",
            "[0.17473715 0.17473715 0.17473715 0.17473715 0.17473715]\n",
            "[0.18066863 0.18066863 0.18066863 0.18066863 0.18066863]\n",
            "[0.18512888 0.18512888 0.18512888 0.18512888 0.18512888]\n",
            "[0.18848334 0.18848334 0.18848334 0.18848334 0.18848334]\n",
            "[0.19100647 0.19100647 0.19100647 0.19100647 0.19100647]\n",
            "[0.19290445 0.19290445 0.19290445 0.19290445 0.19290445]\n",
            "[0.19433228 0.19433228 0.19433228 0.19433228 0.19433228]\n",
            "[0.19540648 0.19540648 0.19540648 0.19540648 0.19540648]\n",
            "[0.19621467 0.19621467 0.19621467 0.19621467 0.19621467]\n",
            "[0.19682273 0.19682273 0.19682273 0.19682273 0.19682273]\n",
            "[0.19728023 0.19728023 0.19728023 0.19728023 0.19728023]\n",
            "[0.19762446 0.19762446 0.19762446 0.19762446 0.19762446]\n",
            "[0.19788347 0.19788347 0.19788347 0.19788347 0.19788347]\n",
            "[0.19807836 0.19807836 0.19807836 0.19807836 0.19807836]\n",
            "[0.19822499 0.19822499 0.19822499 0.19822499 0.19822499]\n",
            "[0.19833533 0.19833533 0.19833533 0.19833533 0.19833533]\n",
            "[0.19841835 0.19841835 0.19841835 0.19841835 0.19841835]\n",
            "[0.19848082 0.19848082 0.19848082 0.19848082 0.19848082]\n",
            "[0.19852782 0.19852782 0.19852782 0.19852782 0.19852782]\n",
            "[0.19856319 0.19856319 0.19856319 0.19856319 0.19856319]\n",
            "[0.1985898 0.1985898 0.1985898 0.1985898 0.1985898]\n",
            "[0.19860983 0.19860983 0.19860983 0.19860983 0.19860983]\n",
            "[0.1986249 0.1986249 0.1986249 0.1986249 0.1986249]\n",
            "[0.19863623 0.19863623 0.19863623 0.19863623 0.19863623]\n",
            "[0.19864476 0.19864476 0.19864476 0.19864476 0.19864476]\n",
            "[0.11881188 0.11881188 0.11881188 0.11881188 0.11881188]\n",
            "[0.14854974 0.14854974 0.14854974 0.14854974 0.14854974]\n",
            "[0.17088639 0.17088639 0.17088639 0.17088639 0.17088639]\n",
            "[0.18767439 0.18767439 0.18767439 0.18767439 0.18767439]\n",
            "[0.20029897 0.20029897 0.20029897 0.20029897 0.20029897]\n",
            "[0.20979691 0.20979691 0.20979691 0.20979691 0.20979691]\n",
            "[0.21694516 0.21694516 0.21694516 0.21694516 0.21694516]\n",
            "[0.22232653 0.22232653 0.22232653 0.22232653 0.22232653]\n",
            "[0.22637866 0.22637866 0.22637866 0.22637866 0.22637866]\n",
            "[0.2294304 0.2294304 0.2294304 0.2294304 0.2294304]\n",
            "[0.23172902 0.23172902 0.23172902 0.23172902 0.23172902]\n",
            "[0.23346056 0.23346056 0.23346056 0.23346056 0.23346056]\n",
            "[0.23476502 0.23476502 0.23476502 0.23476502 0.23476502]\n",
            "[0.23574779 0.23574779 0.23574779 0.23574779 0.23574779]\n",
            "[0.23648824 0.23648824 0.23648824 0.23648824 0.23648824]\n",
            "[0.23704613 0.23704613 0.23704613 0.23704613 0.23704613]\n",
            "[0.23746648 0.23746648 0.23746648 0.23746648 0.23746648]\n",
            "[0.23778321 0.23778321 0.23778321 0.23778321 0.23778321]\n",
            "[0.23802187 0.23802187 0.23802187 0.23802187 0.23802187]\n",
            "[0.2382017 0.2382017 0.2382017 0.2382017 0.2382017]\n",
            "[0.2383372 0.2383372 0.2383372 0.2383372 0.2383372]\n",
            "[0.2384393 0.2384393 0.2384393 0.2384393 0.2384393]\n",
            "[0.23851624 0.23851624 0.23851624 0.23851624 0.23851624]\n",
            "[0.23857421 0.23857421 0.23857421 0.23857421 0.23857421]\n",
            "[0.2386179 0.2386179 0.2386179 0.2386179 0.2386179]\n",
            "[0.23865081 0.23865081 0.23865081 0.23865081 0.23865081]\n",
            "[0.23867562 0.23867562 0.23867562 0.23867562 0.23867562]\n",
            "[0.23869431 0.23869431 0.23869431 0.23869431 0.23869431]\n",
            "[0.23870839 0.23870839 0.23870839 0.23870839 0.23870839]\n",
            "[0.238719 0.238719 0.238719 0.238719 0.238719]\n"
          ],
          "name": "stdout"
        },
        {
          "output_type": "execute_result",
          "data": {
            "text/plain": [
              "[0.5, 0.8119894598155468, 0.7841238471673254, 0.7962450592885375]"
            ]
          },
          "metadata": {
            "tags": []
          },
          "execution_count": 33
        }
      ]
    },
    {
      "cell_type": "code",
      "metadata": {
        "colab": {
          "base_uri": "https://localhost:8080/"
        },
        "id": "_8HuY-DakafK",
        "outputId": "0536b74d-f57e-4e74-9799-34fa68db0a6b"
      },
      "source": [
        "|res"
      ],
      "execution_count": 151,
      "outputs": [
        {
          "output_type": "execute_result",
          "data": {
            "text/plain": [
              "[[0.9456521739130435,\n",
              "  0.8095520421607378,\n",
              "  0.8162055335968379,\n",
              "  0.8422266139657444],\n",
              " [0.9456521739130435,\n",
              "  0.8240447957839262,\n",
              "  0.8234519104084321,\n",
              "  0.8470355731225296],\n",
              " [0.9456521739130435,\n",
              "  0.8185770750988142,\n",
              "  0.814953886693017,\n",
              "  0.8409749670619235],\n",
              " [0.9456521739130435,\n",
              "  0.8185770750988142,\n",
              "  0.8022397891963109,\n",
              "  0.8464426877470356],\n",
              " [0.9456521739130435,\n",
              "  0.7980237154150198,\n",
              "  0.7961791831357048,\n",
              "  0.8379446640316206]]"
            ]
          },
          "metadata": {
            "tags": []
          },
          "execution_count": 151
        }
      ]
    },
    {
      "cell_type": "code",
      "metadata": {
        "id": "5hrXjV5vvfu3"
      },
      "source": [
        "iter = [10, 30, 50, 70, 100]\n",
        "res = []\n",
        "for i in iter:\n",
        "    res.append(get_rocauc(Xd, X, y, i, c, cv=5))"
      ],
      "execution_count": 182,
      "outputs": []
    },
    {
      "cell_type": "code",
      "metadata": {
        "id": "cAsEFa_uvpG2",
        "colab": {
          "base_uri": "https://localhost:8080/",
          "height": 354
        },
        "outputId": "50a5d737-cc40-4325-8d8b-e4a30db230e0"
      },
      "source": [
        "\n",
        "#fig, ax = plt.subplots(4, 1)\n",
        "plt.figure(figsize=(7, 5))\n",
        "name = [\"El.Cl.\", \"LGBM\", \"XGBoost\", \"CatBoost\"]\n",
        "for i in range(4):\n",
        "    t = []\n",
        "    for elem in res:\n",
        "        t.append(elem[i])\n",
        "    plt.plot(iter, t, label=name[i])\n",
        "plt.legend()\n",
        "plt.title(\"cross validation ROC-AUC, heart-dataset\")\n",
        "#plt.savefig(\"heart-inv.pdf\")"
      ],
      "execution_count": 150,
      "outputs": [
        {
          "output_type": "execute_result",
          "data": {
            "text/plain": [
              "Text(0.5, 1.0, 'cross validation ROC-AUC, heart-dataset')"
            ]
          },
          "metadata": {
            "tags": []
          },
          "execution_count": 150
        },
        {
          "output_type": "display_data",
          "data": {
            "image/png": "[encoded data removed]",
            "text/plain": [
              "<Figure size 504x360 with 1 Axes>"
            ]
          },
          "metadata": {
            "tags": [],
            "needs_background": "light"
          }
        }
      ]
    },
    {
      "cell_type": "code",
      "metadata": {
        "colab": {
          "base_uri": "https://localhost:8080/"
        },
        "id": "EUhBqnjeGwdn",
        "outputId": "f5b12c71-6ba2-40eb-8d4b-6f8e7c890a62"
      },
      "source": [
        "get_rocauc(Xd, X, y, 200, c)"
      ],
      "execution_count": null,
      "outputs": [
        {
          "output_type": "execute_result",
          "data": {
            "text/plain": [
              "[0.5814888010540185, 0.8234519104084321, 0.814361001317523]"
            ]
          },
          "metadata": {
            "tags": []
          },
          "execution_count": 76
        }
      ]
    },
    {
      "cell_type": "code",
      "metadata": {
        "id": "44Dob-a5cB6q"
      },
      "source": [
        "#m = One_vs_all(max_iter=20)\n",
        "ans=my_cv(Xd, y, tol=0.1, num_runs=15, strategy='best1exp',\n",
        "                                          mutation=(1.2, 1.5), recombination=0.8, maxiter=5)\n",
        "#ans = m.predict(Xd)"
      ],
      "execution_count": null,
      "outputs": []
    },
    {
      "cell_type": "code",
      "metadata": {
        "colab": {
          "base_uri": "https://localhost:8080/"
        },
        "id": "sLhJBO9HcE5I",
        "outputId": "0134b3d1-97e9-4637-bcb7-dbb1ff6653b5"
      },
      "source": [
        "classes = np.arange(len(np.unique(y)))\n",
        "tmp = ohe(y, classes)\n",
        "\n",
        "roc_auc_score(tmp, ohe(ans, classes), average='macro')"
      ],
      "execution_count": null,
      "outputs": [
        {
          "output_type": "execute_result",
          "data": {
            "text/plain": [
              "0.5005270092226615"
            ]
          },
          "metadata": {
            "tags": []
          },
          "execution_count": 63
        }
      ]
    },
    {
      "cell_type": "code",
      "metadata": {
        "id": "ZfpD4cUlcQ0h"
      },
      "source": [
        "data_dermatology = pd.read_csv('/content/drive/My Drive/dermatology.csv')\n",
        "\n",
        "X = data_dermatology.drop(columns=['class']).values.astype(int)\n",
        "y = data_dermatology[['class']].values[:, 0] - 1"
      ],
      "execution_count": null,
      "outputs": []
    },
    {
      "cell_type": "code",
      "metadata": {
        "colab": {
          "base_uri": "https://localhost:8080/"
        },
        "id": "mEBYqUCUcQ0j",
        "outputId": "fbe9e0d5-e87d-4148-e70f-fe749aba2aa6"
      },
      "source": [
        "X1, c = enc(X, thr=3)\n",
        "inv_feat = 0\n",
        "Xd = add_inverse(X1, c)\n",
        "cv = 3\n",
        "feature_subset = 0.6\n",
        "'m = ' + str(math.ceil(Xd.shape[0]*(cv-1)/cv)), 'k = ' + str(np.max(Xd)+ 1),\\\n",
        "'n = ' + str(int(Xd.shape[1] * feature_subset ))"
      ],
      "execution_count": null,
      "outputs": [
        {
          "output_type": "execute_result",
          "data": {
            "text/plain": [
              "('m = 244', 'k = 61', 'n = 39')"
            ]
          },
          "metadata": {
            "tags": []
          },
          "execution_count": 101
        }
      ]
    },
    {
      "cell_type": "code",
      "metadata": {
        "colab": {
          "base_uri": "https://localhost:8080/",
          "height": 320
        },
        "id": "upuYzBK-L3T7",
        "outputId": "a53b118c-d063-46fd-c330-6806e35ffb19"
      },
      "source": [
        "get_rocauc(Xd, X, y, 2, c)"
      ],
      "execution_count": null,
      "outputs": [
        {
          "output_type": "error",
          "ename": "KeyboardInterrupt",
          "evalue": "ignored",
          "traceback": [
            "\u001b[0;31m---------------------------------------------------------------------------\u001b[0m",
            "\u001b[0;31mKeyboardInterrupt\u001b[0m                         Traceback (most recent call last)",
            "\u001b[0;32m<ipython-input-102-471f71fb6f9d>\u001b[0m in \u001b[0;36m<module>\u001b[0;34m()\u001b[0m\n\u001b[0;32m----> 1\u001b[0;31m \u001b[0mget_rocauc\u001b[0m\u001b[0;34m(\u001b[0m\u001b[0mXd\u001b[0m\u001b[0;34m,\u001b[0m \u001b[0mX\u001b[0m\u001b[0;34m,\u001b[0m \u001b[0my\u001b[0m\u001b[0;34m,\u001b[0m \u001b[0;36m2\u001b[0m\u001b[0;34m,\u001b[0m \u001b[0mc\u001b[0m\u001b[0;34m)\u001b[0m\u001b[0;34m\u001b[0m\u001b[0;34m\u001b[0m\u001b[0m\n\u001b[0m",
            "\u001b[0;32m<ipython-input-34-c71239e1b414>\u001b[0m in \u001b[0;36mget_rocauc\u001b[0;34m(Xd, X, y, n_estimators, inv_feat, cv, **kwargs)\u001b[0m\n\u001b[1;32m      1\u001b[0m \u001b[0;32mdef\u001b[0m \u001b[0mget_rocauc\u001b[0m\u001b[0;34m(\u001b[0m\u001b[0mXd\u001b[0m\u001b[0;34m,\u001b[0m \u001b[0mX\u001b[0m\u001b[0;34m,\u001b[0m \u001b[0my\u001b[0m\u001b[0;34m,\u001b[0m \u001b[0mn_estimators\u001b[0m\u001b[0;34m,\u001b[0m \u001b[0minv_feat\u001b[0m\u001b[0;34m,\u001b[0m \u001b[0mcv\u001b[0m\u001b[0;34m=\u001b[0m\u001b[0;36m3\u001b[0m\u001b[0;34m,\u001b[0m \u001b[0;34m**\u001b[0m\u001b[0mkwargs\u001b[0m\u001b[0;34m)\u001b[0m\u001b[0;34m:\u001b[0m\u001b[0;34m\u001b[0m\u001b[0;34m\u001b[0m\u001b[0m\n\u001b[1;32m      2\u001b[0m \u001b[0;34m\u001b[0m\u001b[0m\n\u001b[0;32m----> 3\u001b[0;31m     \u001b[0mans\u001b[0m \u001b[0;34m=\u001b[0m \u001b[0mmy_cv\u001b[0m\u001b[0;34m(\u001b[0m\u001b[0mXd\u001b[0m\u001b[0;34m,\u001b[0m \u001b[0my\u001b[0m\u001b[0;34m,\u001b[0m \u001b[0mtol\u001b[0m\u001b[0;34m=\u001b[0m\u001b[0;36m0.1\u001b[0m\u001b[0;34m,\u001b[0m \u001b[0mnum_runs\u001b[0m\u001b[0;34m=\u001b[0m\u001b[0mn_estimators\u001b[0m\u001b[0;34m,\u001b[0m \u001b[0minv_feat\u001b[0m\u001b[0;34m=\u001b[0m\u001b[0minv_feat\u001b[0m\u001b[0;34m,\u001b[0m \u001b[0mcv\u001b[0m\u001b[0;34m=\u001b[0m\u001b[0mcv\u001b[0m\u001b[0;34m,\u001b[0m \u001b[0;34m**\u001b[0m\u001b[0mkwargs\u001b[0m\u001b[0;34m)\u001b[0m\u001b[0;34m\u001b[0m\u001b[0;34m\u001b[0m\u001b[0m\n\u001b[0m\u001b[1;32m      4\u001b[0m \u001b[0;34m\u001b[0m\u001b[0m\n\u001b[1;32m      5\u001b[0m     \u001b[0mlgbm\u001b[0m \u001b[0;34m=\u001b[0m \u001b[0mlgb\u001b[0m\u001b[0;34m.\u001b[0m\u001b[0mLGBMClassifier\u001b[0m\u001b[0;34m(\u001b[0m\u001b[0mn_estimators\u001b[0m\u001b[0;34m=\u001b[0m\u001b[0mn_estimators\u001b[0m\u001b[0;34m)\u001b[0m\u001b[0;34m\u001b[0m\u001b[0;34m\u001b[0m\u001b[0m\n",
            "\u001b[0;32m<ipython-input-32-4af37944b90a>\u001b[0m in \u001b[0;36mmy_cv\u001b[0;34m(X, y, tol, num_runs, inv_feat, cv, **kwargs)\u001b[0m\n\u001b[1;32m      5\u001b[0m         \u001b[0ma\u001b[0m\u001b[0;34m,\u001b[0m \u001b[0mb\u001b[0m \u001b[0;34m=\u001b[0m \u001b[0;34m(\u001b[0m\u001b[0mX\u001b[0m\u001b[0;34m.\u001b[0m\u001b[0mshape\u001b[0m\u001b[0;34m[\u001b[0m\u001b[0;36m0\u001b[0m\u001b[0;34m]\u001b[0m \u001b[0;34m//\u001b[0m \u001b[0mcv\u001b[0m\u001b[0;34m)\u001b[0m \u001b[0;34m*\u001b[0m \u001b[0mi\u001b[0m\u001b[0;34m,\u001b[0m \u001b[0;34m(\u001b[0m\u001b[0mX\u001b[0m\u001b[0;34m.\u001b[0m\u001b[0mshape\u001b[0m\u001b[0;34m[\u001b[0m\u001b[0;36m0\u001b[0m\u001b[0;34m]\u001b[0m \u001b[0;34m//\u001b[0m \u001b[0mcv\u001b[0m\u001b[0;34m)\u001b[0m \u001b[0;34m*\u001b[0m \u001b[0;34m(\u001b[0m\u001b[0mi\u001b[0m \u001b[0;34m+\u001b[0m \u001b[0;36m1\u001b[0m\u001b[0;34m)\u001b[0m\u001b[0;34m\u001b[0m\u001b[0;34m\u001b[0m\u001b[0m\n\u001b[1;32m      6\u001b[0m         \u001b[0mm\u001b[0m \u001b[0;34m=\u001b[0m \u001b[0mOne_vs_all\u001b[0m\u001b[0;34m(\u001b[0m\u001b[0mtol\u001b[0m\u001b[0;34m=\u001b[0m\u001b[0mtol\u001b[0m\u001b[0;34m,\u001b[0m \u001b[0mmax_iter\u001b[0m\u001b[0;34m=\u001b[0m\u001b[0mnum_runs\u001b[0m\u001b[0;34m,\u001b[0m \u001b[0minv_feat\u001b[0m\u001b[0;34m=\u001b[0m\u001b[0minv_feat\u001b[0m\u001b[0;34m)\u001b[0m\u001b[0;34m\u001b[0m\u001b[0;34m\u001b[0m\u001b[0m\n\u001b[0;32m----> 7\u001b[0;31m         \u001b[0mm\u001b[0m\u001b[0;34m.\u001b[0m\u001b[0mfit\u001b[0m\u001b[0;34m(\u001b[0m\u001b[0mnp\u001b[0m\u001b[0;34m.\u001b[0m\u001b[0mvstack\u001b[0m\u001b[0;34m(\u001b[0m\u001b[0;34m(\u001b[0m\u001b[0mX\u001b[0m\u001b[0;34m[\u001b[0m\u001b[0;34m:\u001b[0m\u001b[0ma\u001b[0m\u001b[0;34m]\u001b[0m\u001b[0;34m,\u001b[0m \u001b[0mX\u001b[0m\u001b[0;34m[\u001b[0m\u001b[0mb\u001b[0m\u001b[0;34m:\u001b[0m\u001b[0;34m]\u001b[0m\u001b[0;34m)\u001b[0m\u001b[0;34m)\u001b[0m\u001b[0;34m,\u001b[0m \u001b[0mnp\u001b[0m\u001b[0;34m.\u001b[0m\u001b[0mappend\u001b[0m\u001b[0;34m(\u001b[0m\u001b[0my\u001b[0m\u001b[0;34m[\u001b[0m\u001b[0;34m:\u001b[0m\u001b[0ma\u001b[0m\u001b[0;34m]\u001b[0m\u001b[0;34m,\u001b[0m \u001b[0my\u001b[0m\u001b[0;34m[\u001b[0m\u001b[0mb\u001b[0m\u001b[0;34m:\u001b[0m\u001b[0;34m]\u001b[0m\u001b[0;34m)\u001b[0m\u001b[0;34m,\u001b[0m \u001b[0mnp\u001b[0m\u001b[0;34m.\u001b[0m\u001b[0mmax\u001b[0m\u001b[0;34m(\u001b[0m\u001b[0mX\u001b[0m\u001b[0;34m,\u001b[0m \u001b[0maxis\u001b[0m\u001b[0;34m=\u001b[0m\u001b[0;36m0\u001b[0m\u001b[0;34m)\u001b[0m\u001b[0;34m,\u001b[0m \u001b[0;34m**\u001b[0m\u001b[0mkwargs\u001b[0m\u001b[0;34m)\u001b[0m\u001b[0;34m\u001b[0m\u001b[0;34m\u001b[0m\u001b[0m\n\u001b[0m\u001b[1;32m      8\u001b[0m         \u001b[0mans\u001b[0m\u001b[0;34m[\u001b[0m\u001b[0ma\u001b[0m\u001b[0;34m:\u001b[0m\u001b[0mb\u001b[0m\u001b[0;34m]\u001b[0m \u001b[0;34m=\u001b[0m \u001b[0mm\u001b[0m\u001b[0;34m.\u001b[0m\u001b[0mpredict\u001b[0m\u001b[0;34m(\u001b[0m\u001b[0mX\u001b[0m\u001b[0;34m[\u001b[0m\u001b[0ma\u001b[0m\u001b[0;34m:\u001b[0m\u001b[0mb\u001b[0m\u001b[0;34m]\u001b[0m\u001b[0;34m)\u001b[0m\u001b[0;34m\u001b[0m\u001b[0;34m\u001b[0m\u001b[0m\n\u001b[1;32m      9\u001b[0m \u001b[0;34m\u001b[0m\u001b[0m\n",
            "\u001b[0;32m<ipython-input-66-7929d1f0a04e>\u001b[0m in \u001b[0;36mfit\u001b[0;34m(self, X, y, max_elems, **kwargs)\u001b[0m\n\u001b[1;32m     23\u001b[0m             \u001b[0my_tmp\u001b[0m\u001b[0;34m[\u001b[0m\u001b[0my\u001b[0m \u001b[0;34m==\u001b[0m \u001b[0mk\u001b[0m\u001b[0;34m]\u001b[0m \u001b[0;34m=\u001b[0m \u001b[0;36m1\u001b[0m\u001b[0;34m\u001b[0m\u001b[0;34m\u001b[0m\u001b[0m\n\u001b[1;32m     24\u001b[0m             \u001b[0my_tmp\u001b[0m\u001b[0;34m[\u001b[0m\u001b[0my\u001b[0m \u001b[0;34m!=\u001b[0m \u001b[0mk\u001b[0m\u001b[0;34m]\u001b[0m \u001b[0;34m=\u001b[0m \u001b[0;34m-\u001b[0m\u001b[0;36m1\u001b[0m\u001b[0;34m\u001b[0m\u001b[0;34m\u001b[0m\u001b[0m\n\u001b[0;32m---> 25\u001b[0;31m             \u001b[0mtmp_model\u001b[0m\u001b[0;34m.\u001b[0m\u001b[0mfit\u001b[0m\u001b[0;34m(\u001b[0m\u001b[0mX\u001b[0m\u001b[0;34m,\u001b[0m \u001b[0my_tmp\u001b[0m\u001b[0;34m,\u001b[0m \u001b[0mmax_elems\u001b[0m\u001b[0;34m,\u001b[0m \u001b[0;34m**\u001b[0m\u001b[0mkwargs\u001b[0m\u001b[0;34m)\u001b[0m\u001b[0;34m\u001b[0m\u001b[0;34m\u001b[0m\u001b[0m\n\u001b[0m\u001b[1;32m     26\u001b[0m             \u001b[0mself\u001b[0m\u001b[0;34m.\u001b[0m\u001b[0mmodels\u001b[0m\u001b[0;34m.\u001b[0m\u001b[0mappend\u001b[0m\u001b[0;34m(\u001b[0m\u001b[0mtmp_model\u001b[0m\u001b[0;34m)\u001b[0m\u001b[0;34m\u001b[0m\u001b[0;34m\u001b[0m\u001b[0m\n\u001b[1;32m     27\u001b[0m \u001b[0;34m\u001b[0m\u001b[0m\n",
            "\u001b[0;32m<ipython-input-93-805a853e31dc>\u001b[0m in \u001b[0;36mfit\u001b[0;34m(self, X_train, y_train, max_elems, **kwargs)\u001b[0m\n\u001b[1;32m     64\u001b[0m             \u001b[0mbounds\u001b[0m \u001b[0;34m=\u001b[0m \u001b[0;34m[\u001b[0m\u001b[0;34m(\u001b[0m\u001b[0;34m-\u001b[0m\u001b[0mA\u001b[0m\u001b[0;34m,\u001b[0m \u001b[0mA\u001b[0m\u001b[0;34m)\u001b[0m\u001b[0;34m,\u001b[0m \u001b[0;34m(\u001b[0m\u001b[0;34m-\u001b[0m\u001b[0mA\u001b[0m\u001b[0;34m,\u001b[0m \u001b[0mA\u001b[0m\u001b[0;34m)\u001b[0m\u001b[0;34m]\u001b[0m\u001b[0;34m\u001b[0m\u001b[0;34m\u001b[0m\u001b[0m\n\u001b[1;32m     65\u001b[0m             \u001b[0mbounds\u001b[0m\u001b[0;34m.\u001b[0m\u001b[0mextend\u001b[0m\u001b[0;34m(\u001b[0m\u001b[0;34m[\u001b[0m\u001b[0;34m(\u001b[0m\u001b[0;36m0\u001b[0m\u001b[0;34m,\u001b[0m \u001b[0;36m5\u001b[0m \u001b[0;34m*\u001b[0m \u001b[0mi\u001b[0m\u001b[0;34m)\u001b[0m \u001b[0;32mfor\u001b[0m \u001b[0mi\u001b[0m \u001b[0;32min\u001b[0m \u001b[0mmax_elems\u001b[0m\u001b[0;34m[\u001b[0m\u001b[0mfeature_idx\u001b[0m\u001b[0;34m]\u001b[0m\u001b[0;34m]\u001b[0m\u001b[0;34m)\u001b[0m\u001b[0;34m\u001b[0m\u001b[0;34m\u001b[0m\u001b[0m\n\u001b[0;32m---> 66\u001b[0;31m             \u001b[0mtmp\u001b[0m \u001b[0;34m=\u001b[0m \u001b[0mdifferential_evolution\u001b[0m\u001b[0;34m(\u001b[0m\u001b[0mW\u001b[0m\u001b[0;34m,\u001b[0m  \u001b[0mbounds\u001b[0m\u001b[0;34m,\u001b[0m \u001b[0mpopsize\u001b[0m\u001b[0;34m=\u001b[0m\u001b[0;36m15\u001b[0m\u001b[0;34m,\u001b[0m \u001b[0;34m**\u001b[0m\u001b[0mkwargs\u001b[0m\u001b[0;34m)\u001b[0m\u001b[0;34m.\u001b[0m\u001b[0mx\u001b[0m\u001b[0;34m\u001b[0m\u001b[0;34m\u001b[0m\u001b[0m\n\u001b[0m\u001b[1;32m     67\u001b[0m \u001b[0;34m\u001b[0m\u001b[0m\n\u001b[1;32m     68\u001b[0m             \u001b[0;31m#tmp = differential_evolution(W1, bounds).x\u001b[0m\u001b[0;34m\u001b[0m\u001b[0;34m\u001b[0m\u001b[0;34m\u001b[0m\u001b[0m\n",
            "\u001b[0;32m/usr/local/lib/python3.6/dist-packages/scipy/optimize/_differentialevolution.py\u001b[0m in \u001b[0;36mdifferential_evolution\u001b[0;34m(func, bounds, args, strategy, maxiter, popsize, tol, mutation, recombination, seed, callback, disp, polish, init, atol, updating, workers, constraints)\u001b[0m\n\u001b[1;32m    304\u001b[0m                                      \u001b[0mworkers\u001b[0m\u001b[0;34m=\u001b[0m\u001b[0mworkers\u001b[0m\u001b[0;34m,\u001b[0m\u001b[0;34m\u001b[0m\u001b[0;34m\u001b[0m\u001b[0m\n\u001b[1;32m    305\u001b[0m                                      constraints=constraints) as solver:\n\u001b[0;32m--> 306\u001b[0;31m         \u001b[0mret\u001b[0m \u001b[0;34m=\u001b[0m \u001b[0msolver\u001b[0m\u001b[0;34m.\u001b[0m\u001b[0msolve\u001b[0m\u001b[0;34m(\u001b[0m\u001b[0;34m)\u001b[0m\u001b[0;34m\u001b[0m\u001b[0;34m\u001b[0m\u001b[0m\n\u001b[0m\u001b[1;32m    307\u001b[0m \u001b[0;34m\u001b[0m\u001b[0m\n\u001b[1;32m    308\u001b[0m     \u001b[0;32mreturn\u001b[0m \u001b[0mret\u001b[0m\u001b[0;34m\u001b[0m\u001b[0;34m\u001b[0m\u001b[0m\n",
            "\u001b[0;32m/usr/local/lib/python3.6/dist-packages/scipy/optimize/_differentialevolution.py\u001b[0m in \u001b[0;36msolve\u001b[0;34m(self)\u001b[0m\n\u001b[1;32m    751\u001b[0m             \u001b[0;31m# evolve the population by a generation\u001b[0m\u001b[0;34m\u001b[0m\u001b[0;34m\u001b[0m\u001b[0;34m\u001b[0m\u001b[0m\n\u001b[1;32m    752\u001b[0m             \u001b[0;32mtry\u001b[0m\u001b[0;34m:\u001b[0m\u001b[0;34m\u001b[0m\u001b[0;34m\u001b[0m\u001b[0m\n\u001b[0;32m--> 753\u001b[0;31m                 \u001b[0mnext\u001b[0m\u001b[0;34m(\u001b[0m\u001b[0mself\u001b[0m\u001b[0;34m)\u001b[0m\u001b[0;34m\u001b[0m\u001b[0;34m\u001b[0m\u001b[0m\n\u001b[0m\u001b[1;32m    754\u001b[0m             \u001b[0;32mexcept\u001b[0m \u001b[0mStopIteration\u001b[0m\u001b[0;34m:\u001b[0m\u001b[0;34m\u001b[0m\u001b[0;34m\u001b[0m\u001b[0m\n\u001b[1;32m    755\u001b[0m                 \u001b[0mwarning_flag\u001b[0m \u001b[0;34m=\u001b[0m \u001b[0;32mTrue\u001b[0m\u001b[0;34m\u001b[0m\u001b[0;34m\u001b[0m\u001b[0m\n",
            "\u001b[0;32m/usr/local/lib/python3.6/dist-packages/scipy/optimize/_differentialevolution.py\u001b[0m in \u001b[0;36m__next__\u001b[0;34m(self)\u001b[0m\n\u001b[1;32m   1056\u001b[0m \u001b[0;34m\u001b[0m\u001b[0m\n\u001b[1;32m   1057\u001b[0m                 \u001b[0;31m# create a trial solution\u001b[0m\u001b[0;34m\u001b[0m\u001b[0;34m\u001b[0m\u001b[0;34m\u001b[0m\u001b[0m\n\u001b[0;32m-> 1058\u001b[0;31m                 \u001b[0mtrial\u001b[0m \u001b[0;34m=\u001b[0m \u001b[0mself\u001b[0m\u001b[0;34m.\u001b[0m\u001b[0m_mutate\u001b[0m\u001b[0;34m(\u001b[0m\u001b[0mcandidate\u001b[0m\u001b[0;34m)\u001b[0m\u001b[0;34m\u001b[0m\u001b[0;34m\u001b[0m\u001b[0m\n\u001b[0m\u001b[1;32m   1059\u001b[0m \u001b[0;34m\u001b[0m\u001b[0m\n\u001b[1;32m   1060\u001b[0m                 \u001b[0;31m# ensuring that it's in the range [0, 1)\u001b[0m\u001b[0;34m\u001b[0m\u001b[0;34m\u001b[0m\u001b[0;34m\u001b[0m\u001b[0m\n",
            "\u001b[0;32m/usr/local/lib/python3.6/dist-packages/scipy/optimize/_differentialevolution.py\u001b[0m in \u001b[0;36m_mutate\u001b[0;34m(self, candidate)\u001b[0m\n\u001b[1;32m   1171\u001b[0m                                         self._select_samples(candidate, 5))\n\u001b[1;32m   1172\u001b[0m         \u001b[0;32melse\u001b[0m\u001b[0;34m:\u001b[0m\u001b[0;34m\u001b[0m\u001b[0;34m\u001b[0m\u001b[0m\n\u001b[0;32m-> 1173\u001b[0;31m             \u001b[0mbprime\u001b[0m \u001b[0;34m=\u001b[0m \u001b[0mself\u001b[0m\u001b[0;34m.\u001b[0m\u001b[0mmutation_func\u001b[0m\u001b[0;34m(\u001b[0m\u001b[0mself\u001b[0m\u001b[0;34m.\u001b[0m\u001b[0m_select_samples\u001b[0m\u001b[0;34m(\u001b[0m\u001b[0mcandidate\u001b[0m\u001b[0;34m,\u001b[0m \u001b[0;36m5\u001b[0m\u001b[0;34m)\u001b[0m\u001b[0;34m)\u001b[0m\u001b[0;34m\u001b[0m\u001b[0;34m\u001b[0m\u001b[0m\n\u001b[0m\u001b[1;32m   1174\u001b[0m \u001b[0;34m\u001b[0m\u001b[0m\n\u001b[1;32m   1175\u001b[0m         \u001b[0;32mif\u001b[0m \u001b[0mself\u001b[0m\u001b[0;34m.\u001b[0m\u001b[0mstrategy\u001b[0m \u001b[0;32min\u001b[0m \u001b[0mself\u001b[0m\u001b[0;34m.\u001b[0m\u001b[0m_binomial\u001b[0m\u001b[0;34m:\u001b[0m\u001b[0;34m\u001b[0m\u001b[0;34m\u001b[0m\u001b[0m\n",
            "\u001b[0;32m/usr/local/lib/python3.6/dist-packages/scipy/optimize/_differentialevolution.py\u001b[0m in \u001b[0;36m_select_samples\u001b[0;34m(self, candidate, number_samples)\u001b[0m\n\u001b[1;32m   1249\u001b[0m         \u001b[0midxs\u001b[0m \u001b[0;34m=\u001b[0m \u001b[0mlist\u001b[0m\u001b[0;34m(\u001b[0m\u001b[0mrange\u001b[0m\u001b[0;34m(\u001b[0m\u001b[0mself\u001b[0m\u001b[0;34m.\u001b[0m\u001b[0mnum_population_members\u001b[0m\u001b[0;34m)\u001b[0m\u001b[0;34m)\u001b[0m\u001b[0;34m\u001b[0m\u001b[0;34m\u001b[0m\u001b[0m\n\u001b[1;32m   1250\u001b[0m         \u001b[0midxs\u001b[0m\u001b[0;34m.\u001b[0m\u001b[0mremove\u001b[0m\u001b[0;34m(\u001b[0m\u001b[0mcandidate\u001b[0m\u001b[0;34m)\u001b[0m\u001b[0;34m\u001b[0m\u001b[0;34m\u001b[0m\u001b[0m\n\u001b[0;32m-> 1251\u001b[0;31m         \u001b[0mself\u001b[0m\u001b[0;34m.\u001b[0m\u001b[0mrandom_number_generator\u001b[0m\u001b[0;34m.\u001b[0m\u001b[0mshuffle\u001b[0m\u001b[0;34m(\u001b[0m\u001b[0midxs\u001b[0m\u001b[0;34m)\u001b[0m\u001b[0;34m\u001b[0m\u001b[0;34m\u001b[0m\u001b[0m\n\u001b[0m\u001b[1;32m   1252\u001b[0m         \u001b[0midxs\u001b[0m \u001b[0;34m=\u001b[0m \u001b[0midxs\u001b[0m\u001b[0;34m[\u001b[0m\u001b[0;34m:\u001b[0m\u001b[0mnumber_samples\u001b[0m\u001b[0;34m]\u001b[0m\u001b[0;34m\u001b[0m\u001b[0;34m\u001b[0m\u001b[0m\n\u001b[1;32m   1253\u001b[0m         \u001b[0;32mreturn\u001b[0m \u001b[0midxs\u001b[0m\u001b[0;34m\u001b[0m\u001b[0;34m\u001b[0m\u001b[0m\n",
            "\u001b[0;31mKeyboardInterrupt\u001b[0m: "
          ]
        }
      ]
    },
    {
      "cell_type": "code",
      "metadata": {
        "colab": {
          "base_uri": "https://localhost:8080/",
          "height": 356
        },
        "id": "F3awePolL2CG",
        "outputId": "caa353e9-28dc-40c3-9b6d-19da0a85eb93"
      },
      "source": [
        "iter = [5, 10, 15, 20]\n",
        "res = []\n",
        "for i in iter:\n",
        "    res.append(get_rocauc(Xd, X, y, i, c))"
      ],
      "execution_count": null,
      "outputs": [
        {
          "output_type": "error",
          "ename": "KeyboardInterrupt",
          "evalue": "ignored",
          "traceback": [
            "\u001b[0;31m---------------------------------------------------------------------------\u001b[0m",
            "\u001b[0;31mKeyboardInterrupt\u001b[0m                         Traceback (most recent call last)",
            "\u001b[0;32m<ipython-input-16-3182fb53d798>\u001b[0m in \u001b[0;36m<module>\u001b[0;34m()\u001b[0m\n\u001b[1;32m      2\u001b[0m \u001b[0mres\u001b[0m \u001b[0;34m=\u001b[0m \u001b[0;34m[\u001b[0m\u001b[0;34m]\u001b[0m\u001b[0;34m\u001b[0m\u001b[0;34m\u001b[0m\u001b[0m\n\u001b[1;32m      3\u001b[0m \u001b[0;32mfor\u001b[0m \u001b[0mi\u001b[0m \u001b[0;32min\u001b[0m \u001b[0miter\u001b[0m\u001b[0;34m:\u001b[0m\u001b[0;34m\u001b[0m\u001b[0;34m\u001b[0m\u001b[0m\n\u001b[0;32m----> 4\u001b[0;31m     \u001b[0mres\u001b[0m\u001b[0;34m.\u001b[0m\u001b[0mappend\u001b[0m\u001b[0;34m(\u001b[0m\u001b[0mget_rocauc\u001b[0m\u001b[0;34m(\u001b[0m\u001b[0mXd\u001b[0m\u001b[0;34m,\u001b[0m \u001b[0mX\u001b[0m\u001b[0;34m,\u001b[0m \u001b[0my\u001b[0m\u001b[0;34m,\u001b[0m \u001b[0mi\u001b[0m\u001b[0;34m)\u001b[0m\u001b[0;34m)\u001b[0m\u001b[0;34m\u001b[0m\u001b[0;34m\u001b[0m\u001b[0m\n\u001b[0m",
            "\u001b[0;32m<ipython-input-10-8fde1f9c3a5f>\u001b[0m in \u001b[0;36mget_rocauc\u001b[0;34m(Xd, X, y, n_estimators, cv, **kwargs)\u001b[0m\n\u001b[1;32m      1\u001b[0m \u001b[0;32mdef\u001b[0m \u001b[0mget_rocauc\u001b[0m\u001b[0;34m(\u001b[0m\u001b[0mXd\u001b[0m\u001b[0;34m,\u001b[0m \u001b[0mX\u001b[0m\u001b[0;34m,\u001b[0m \u001b[0my\u001b[0m\u001b[0;34m,\u001b[0m \u001b[0mn_estimators\u001b[0m\u001b[0;34m,\u001b[0m \u001b[0mcv\u001b[0m\u001b[0;34m=\u001b[0m\u001b[0;36m3\u001b[0m\u001b[0;34m,\u001b[0m \u001b[0;34m**\u001b[0m\u001b[0mkwargs\u001b[0m\u001b[0;34m)\u001b[0m\u001b[0;34m:\u001b[0m\u001b[0;34m\u001b[0m\u001b[0;34m\u001b[0m\u001b[0m\n\u001b[1;32m      2\u001b[0m \u001b[0;34m\u001b[0m\u001b[0m\n\u001b[0;32m----> 3\u001b[0;31m     \u001b[0mans\u001b[0m \u001b[0;34m=\u001b[0m \u001b[0mmy_cv\u001b[0m\u001b[0;34m(\u001b[0m\u001b[0mXd\u001b[0m\u001b[0;34m,\u001b[0m \u001b[0my\u001b[0m\u001b[0;34m,\u001b[0m \u001b[0mtol\u001b[0m\u001b[0;34m=\u001b[0m\u001b[0;36m0.1\u001b[0m\u001b[0;34m,\u001b[0m \u001b[0mnum_runs\u001b[0m\u001b[0;34m=\u001b[0m\u001b[0mn_estimators\u001b[0m\u001b[0;34m,\u001b[0m \u001b[0mcv\u001b[0m\u001b[0;34m=\u001b[0m\u001b[0mcv\u001b[0m\u001b[0;34m,\u001b[0m \u001b[0;34m**\u001b[0m\u001b[0mkwargs\u001b[0m\u001b[0;34m)\u001b[0m\u001b[0;34m\u001b[0m\u001b[0;34m\u001b[0m\u001b[0m\n\u001b[0m\u001b[1;32m      4\u001b[0m \u001b[0;34m\u001b[0m\u001b[0m\n\u001b[1;32m      5\u001b[0m     \u001b[0mlgbm\u001b[0m \u001b[0;34m=\u001b[0m \u001b[0mlgb\u001b[0m\u001b[0;34m.\u001b[0m\u001b[0mLGBMClassifier\u001b[0m\u001b[0;34m(\u001b[0m\u001b[0mn_estimators\u001b[0m\u001b[0;34m=\u001b[0m\u001b[0mn_estimators\u001b[0m\u001b[0;34m)\u001b[0m\u001b[0;34m\u001b[0m\u001b[0;34m\u001b[0m\u001b[0m\n",
            "\u001b[0;32m<ipython-input-6-02084ffbaadd>\u001b[0m in \u001b[0;36mmy_cv\u001b[0;34m(X, y, tol, num_runs, cv, **kwargs)\u001b[0m\n\u001b[1;32m      5\u001b[0m         \u001b[0ma\u001b[0m\u001b[0;34m,\u001b[0m \u001b[0mb\u001b[0m \u001b[0;34m=\u001b[0m \u001b[0;34m(\u001b[0m\u001b[0mX\u001b[0m\u001b[0;34m.\u001b[0m\u001b[0mshape\u001b[0m\u001b[0;34m[\u001b[0m\u001b[0;36m0\u001b[0m\u001b[0;34m]\u001b[0m \u001b[0;34m//\u001b[0m \u001b[0mcv\u001b[0m\u001b[0;34m)\u001b[0m \u001b[0;34m*\u001b[0m \u001b[0mi\u001b[0m\u001b[0;34m,\u001b[0m \u001b[0;34m(\u001b[0m\u001b[0mX\u001b[0m\u001b[0;34m.\u001b[0m\u001b[0mshape\u001b[0m\u001b[0;34m[\u001b[0m\u001b[0;36m0\u001b[0m\u001b[0;34m]\u001b[0m \u001b[0;34m//\u001b[0m \u001b[0mcv\u001b[0m\u001b[0;34m)\u001b[0m \u001b[0;34m*\u001b[0m \u001b[0;34m(\u001b[0m\u001b[0mi\u001b[0m \u001b[0;34m+\u001b[0m \u001b[0;36m1\u001b[0m\u001b[0;34m)\u001b[0m\u001b[0;34m\u001b[0m\u001b[0;34m\u001b[0m\u001b[0m\n\u001b[1;32m      6\u001b[0m         \u001b[0mm\u001b[0m \u001b[0;34m=\u001b[0m \u001b[0mOne_vs_all\u001b[0m\u001b[0;34m(\u001b[0m\u001b[0mtol\u001b[0m\u001b[0;34m=\u001b[0m\u001b[0mtol\u001b[0m\u001b[0;34m,\u001b[0m \u001b[0mmax_iter\u001b[0m\u001b[0;34m=\u001b[0m\u001b[0mnum_runs\u001b[0m\u001b[0;34m)\u001b[0m\u001b[0;34m\u001b[0m\u001b[0;34m\u001b[0m\u001b[0m\n\u001b[0;32m----> 7\u001b[0;31m         \u001b[0mm\u001b[0m\u001b[0;34m.\u001b[0m\u001b[0mfit\u001b[0m\u001b[0;34m(\u001b[0m\u001b[0mnp\u001b[0m\u001b[0;34m.\u001b[0m\u001b[0mvstack\u001b[0m\u001b[0;34m(\u001b[0m\u001b[0;34m(\u001b[0m\u001b[0mX\u001b[0m\u001b[0;34m[\u001b[0m\u001b[0;34m:\u001b[0m\u001b[0ma\u001b[0m\u001b[0;34m]\u001b[0m\u001b[0;34m,\u001b[0m \u001b[0mX\u001b[0m\u001b[0;34m[\u001b[0m\u001b[0mb\u001b[0m\u001b[0;34m:\u001b[0m\u001b[0;34m]\u001b[0m\u001b[0;34m)\u001b[0m\u001b[0;34m)\u001b[0m\u001b[0;34m,\u001b[0m \u001b[0mnp\u001b[0m\u001b[0;34m.\u001b[0m\u001b[0mappend\u001b[0m\u001b[0;34m(\u001b[0m\u001b[0my\u001b[0m\u001b[0;34m[\u001b[0m\u001b[0;34m:\u001b[0m\u001b[0ma\u001b[0m\u001b[0;34m]\u001b[0m\u001b[0;34m,\u001b[0m \u001b[0my\u001b[0m\u001b[0;34m[\u001b[0m\u001b[0mb\u001b[0m\u001b[0;34m:\u001b[0m\u001b[0;34m]\u001b[0m\u001b[0;34m)\u001b[0m\u001b[0;34m,\u001b[0m \u001b[0mnp\u001b[0m\u001b[0;34m.\u001b[0m\u001b[0mmax\u001b[0m\u001b[0;34m(\u001b[0m\u001b[0mX\u001b[0m\u001b[0;34m,\u001b[0m \u001b[0maxis\u001b[0m\u001b[0;34m=\u001b[0m\u001b[0;36m0\u001b[0m\u001b[0;34m)\u001b[0m\u001b[0;34m,\u001b[0m \u001b[0;34m**\u001b[0m\u001b[0mkwargs\u001b[0m\u001b[0;34m)\u001b[0m\u001b[0;34m\u001b[0m\u001b[0;34m\u001b[0m\u001b[0m\n\u001b[0m\u001b[1;32m      8\u001b[0m         \u001b[0mans\u001b[0m\u001b[0;34m[\u001b[0m\u001b[0ma\u001b[0m\u001b[0;34m:\u001b[0m\u001b[0mb\u001b[0m\u001b[0;34m]\u001b[0m \u001b[0;34m=\u001b[0m \u001b[0mm\u001b[0m\u001b[0;34m.\u001b[0m\u001b[0mpredict\u001b[0m\u001b[0;34m(\u001b[0m\u001b[0mX\u001b[0m\u001b[0;34m[\u001b[0m\u001b[0ma\u001b[0m\u001b[0;34m:\u001b[0m\u001b[0mb\u001b[0m\u001b[0;34m]\u001b[0m\u001b[0;34m)\u001b[0m\u001b[0;34m\u001b[0m\u001b[0;34m\u001b[0m\u001b[0m\n\u001b[1;32m      9\u001b[0m \u001b[0;34m\u001b[0m\u001b[0m\n",
            "\u001b[0;32m<ipython-input-5-b7b6d29020a1>\u001b[0m in \u001b[0;36mfit\u001b[0;34m(self, X, y, max_elems, **kwargs)\u001b[0m\n\u001b[1;32m     22\u001b[0m             \u001b[0my_tmp\u001b[0m\u001b[0;34m[\u001b[0m\u001b[0my\u001b[0m \u001b[0;34m==\u001b[0m \u001b[0mk\u001b[0m\u001b[0;34m]\u001b[0m \u001b[0;34m=\u001b[0m \u001b[0;36m1\u001b[0m\u001b[0;34m\u001b[0m\u001b[0;34m\u001b[0m\u001b[0m\n\u001b[1;32m     23\u001b[0m             \u001b[0my_tmp\u001b[0m\u001b[0;34m[\u001b[0m\u001b[0my\u001b[0m \u001b[0;34m!=\u001b[0m \u001b[0mk\u001b[0m\u001b[0;34m]\u001b[0m \u001b[0;34m=\u001b[0m \u001b[0;34m-\u001b[0m\u001b[0;36m1\u001b[0m\u001b[0;34m\u001b[0m\u001b[0;34m\u001b[0m\u001b[0m\n\u001b[0;32m---> 24\u001b[0;31m             \u001b[0mtmp_model\u001b[0m\u001b[0;34m.\u001b[0m\u001b[0mfit\u001b[0m\u001b[0;34m(\u001b[0m\u001b[0mX\u001b[0m\u001b[0;34m,\u001b[0m \u001b[0my_tmp\u001b[0m\u001b[0;34m,\u001b[0m \u001b[0mmax_elems\u001b[0m\u001b[0;34m,\u001b[0m \u001b[0;34m**\u001b[0m\u001b[0mkwargs\u001b[0m\u001b[0;34m)\u001b[0m\u001b[0;34m\u001b[0m\u001b[0;34m\u001b[0m\u001b[0m\n\u001b[0m\u001b[1;32m     25\u001b[0m             \u001b[0mself\u001b[0m\u001b[0;34m.\u001b[0m\u001b[0mmodels\u001b[0m\u001b[0;34m.\u001b[0m\u001b[0mappend\u001b[0m\u001b[0;34m(\u001b[0m\u001b[0mtmp_model\u001b[0m\u001b[0;34m)\u001b[0m\u001b[0;34m\u001b[0m\u001b[0;34m\u001b[0m\u001b[0m\n\u001b[1;32m     26\u001b[0m \u001b[0;34m\u001b[0m\u001b[0m\n",
            "\u001b[0;32m<ipython-input-14-8b79665ad8bd>\u001b[0m in \u001b[0;36mfit\u001b[0;34m(self, X_train, y_train, max_elems, **kwargs)\u001b[0m\n\u001b[1;32m     45\u001b[0m         \u001b[0;32mfor\u001b[0m \u001b[0m_\u001b[0m \u001b[0;32min\u001b[0m \u001b[0mrange\u001b[0m\u001b[0;34m(\u001b[0m\u001b[0mself\u001b[0m\u001b[0;34m.\u001b[0m\u001b[0mmax_iter\u001b[0m\u001b[0;34m)\u001b[0m\u001b[0;34m:\u001b[0m\u001b[0;34m\u001b[0m\u001b[0;34m\u001b[0m\u001b[0m\n\u001b[1;32m     46\u001b[0m             \u001b[0;31m#Подбор нового эл.кл.\u001b[0m\u001b[0;34m\u001b[0m\u001b[0;34m\u001b[0m\u001b[0;34m\u001b[0m\u001b[0m\n\u001b[0;32m---> 47\u001b[0;31m             \u001b[0mtmp\u001b[0m \u001b[0;34m=\u001b[0m \u001b[0mdifferential_evolution\u001b[0m\u001b[0;34m(\u001b[0m\u001b[0mW\u001b[0m\u001b[0;34m,\u001b[0m \u001b[0mbounds\u001b[0m\u001b[0;34m,\u001b[0m \u001b[0mpopsize\u001b[0m\u001b[0;34m=\u001b[0m\u001b[0;36m15\u001b[0m\u001b[0;34m,\u001b[0m \u001b[0;34m**\u001b[0m\u001b[0mkwargs\u001b[0m\u001b[0;34m)\u001b[0m\u001b[0;34m.\u001b[0m\u001b[0mx\u001b[0m\u001b[0;34m\u001b[0m\u001b[0;34m\u001b[0m\u001b[0m\n\u001b[0m\u001b[1;32m     48\u001b[0m             \u001b[0;31m#tmp = differential_evolution(W1, bounds).x\u001b[0m\u001b[0;34m\u001b[0m\u001b[0;34m\u001b[0m\u001b[0;34m\u001b[0m\u001b[0m\n\u001b[1;32m     49\u001b[0m             \u001b[0mself\u001b[0m\u001b[0;34m.\u001b[0m\u001b[0msigmas\u001b[0m\u001b[0;34m.\u001b[0m\u001b[0mappend\u001b[0m\u001b[0;34m(\u001b[0m\u001b[0;34m(\u001b[0m\u001b[0mtmp\u001b[0m\u001b[0;34m[\u001b[0m\u001b[0;36m0\u001b[0m\u001b[0;34m]\u001b[0m\u001b[0;34m,\u001b[0m \u001b[0mtmp\u001b[0m\u001b[0;34m[\u001b[0m\u001b[0;36m1\u001b[0m\u001b[0;34m]\u001b[0m\u001b[0;34m,\u001b[0m \u001b[0mtmp\u001b[0m\u001b[0;34m[\u001b[0m\u001b[0;36m2\u001b[0m\u001b[0;34m:\u001b[0m\u001b[0;34m]\u001b[0m\u001b[0;34m)\u001b[0m\u001b[0;34m)\u001b[0m\u001b[0;34m\u001b[0m\u001b[0;34m\u001b[0m\u001b[0m\n",
            "\u001b[0;32m/usr/local/lib/python3.6/dist-packages/scipy/optimize/_differentialevolution.py\u001b[0m in \u001b[0;36mdifferential_evolution\u001b[0;34m(func, bounds, args, strategy, maxiter, popsize, tol, mutation, recombination, seed, callback, disp, polish, init, atol, updating, workers, constraints)\u001b[0m\n\u001b[1;32m    304\u001b[0m                                      \u001b[0mworkers\u001b[0m\u001b[0;34m=\u001b[0m\u001b[0mworkers\u001b[0m\u001b[0;34m,\u001b[0m\u001b[0;34m\u001b[0m\u001b[0;34m\u001b[0m\u001b[0m\n\u001b[1;32m    305\u001b[0m                                      constraints=constraints) as solver:\n\u001b[0;32m--> 306\u001b[0;31m         \u001b[0mret\u001b[0m \u001b[0;34m=\u001b[0m \u001b[0msolver\u001b[0m\u001b[0;34m.\u001b[0m\u001b[0msolve\u001b[0m\u001b[0;34m(\u001b[0m\u001b[0;34m)\u001b[0m\u001b[0;34m\u001b[0m\u001b[0;34m\u001b[0m\u001b[0m\n\u001b[0m\u001b[1;32m    307\u001b[0m \u001b[0;34m\u001b[0m\u001b[0m\n\u001b[1;32m    308\u001b[0m     \u001b[0;32mreturn\u001b[0m \u001b[0mret\u001b[0m\u001b[0;34m\u001b[0m\u001b[0;34m\u001b[0m\u001b[0m\n",
            "\u001b[0;32m/usr/local/lib/python3.6/dist-packages/scipy/optimize/_differentialevolution.py\u001b[0m in \u001b[0;36msolve\u001b[0;34m(self)\u001b[0m\n\u001b[1;32m    751\u001b[0m             \u001b[0;31m# evolve the population by a generation\u001b[0m\u001b[0;34m\u001b[0m\u001b[0;34m\u001b[0m\u001b[0;34m\u001b[0m\u001b[0m\n\u001b[1;32m    752\u001b[0m             \u001b[0;32mtry\u001b[0m\u001b[0;34m:\u001b[0m\u001b[0;34m\u001b[0m\u001b[0;34m\u001b[0m\u001b[0m\n\u001b[0;32m--> 753\u001b[0;31m                 \u001b[0mnext\u001b[0m\u001b[0;34m(\u001b[0m\u001b[0mself\u001b[0m\u001b[0;34m)\u001b[0m\u001b[0;34m\u001b[0m\u001b[0;34m\u001b[0m\u001b[0m\n\u001b[0m\u001b[1;32m    754\u001b[0m             \u001b[0;32mexcept\u001b[0m \u001b[0mStopIteration\u001b[0m\u001b[0;34m:\u001b[0m\u001b[0;34m\u001b[0m\u001b[0;34m\u001b[0m\u001b[0m\n\u001b[1;32m    755\u001b[0m                 \u001b[0mwarning_flag\u001b[0m \u001b[0;34m=\u001b[0m \u001b[0;32mTrue\u001b[0m\u001b[0;34m\u001b[0m\u001b[0;34m\u001b[0m\u001b[0m\n",
            "\u001b[0;32m/usr/local/lib/python3.6/dist-packages/scipy/optimize/_differentialevolution.py\u001b[0m in \u001b[0;36m__next__\u001b[0;34m(self)\u001b[0m\n\u001b[1;32m   1056\u001b[0m \u001b[0;34m\u001b[0m\u001b[0m\n\u001b[1;32m   1057\u001b[0m                 \u001b[0;31m# create a trial solution\u001b[0m\u001b[0;34m\u001b[0m\u001b[0;34m\u001b[0m\u001b[0;34m\u001b[0m\u001b[0m\n\u001b[0;32m-> 1058\u001b[0;31m                 \u001b[0mtrial\u001b[0m \u001b[0;34m=\u001b[0m \u001b[0mself\u001b[0m\u001b[0;34m.\u001b[0m\u001b[0m_mutate\u001b[0m\u001b[0;34m(\u001b[0m\u001b[0mcandidate\u001b[0m\u001b[0;34m)\u001b[0m\u001b[0;34m\u001b[0m\u001b[0;34m\u001b[0m\u001b[0m\n\u001b[0m\u001b[1;32m   1059\u001b[0m \u001b[0;34m\u001b[0m\u001b[0m\n\u001b[1;32m   1060\u001b[0m                 \u001b[0;31m# ensuring that it's in the range [0, 1)\u001b[0m\u001b[0;34m\u001b[0m\u001b[0;34m\u001b[0m\u001b[0;34m\u001b[0m\u001b[0m\n",
            "\u001b[0;32m/usr/local/lib/python3.6/dist-packages/scipy/optimize/_differentialevolution.py\u001b[0m in \u001b[0;36m_mutate\u001b[0;34m(self, candidate)\u001b[0m\n\u001b[1;32m   1171\u001b[0m                                         self._select_samples(candidate, 5))\n\u001b[1;32m   1172\u001b[0m         \u001b[0;32melse\u001b[0m\u001b[0;34m:\u001b[0m\u001b[0;34m\u001b[0m\u001b[0;34m\u001b[0m\u001b[0m\n\u001b[0;32m-> 1173\u001b[0;31m             \u001b[0mbprime\u001b[0m \u001b[0;34m=\u001b[0m \u001b[0mself\u001b[0m\u001b[0;34m.\u001b[0m\u001b[0mmutation_func\u001b[0m\u001b[0;34m(\u001b[0m\u001b[0mself\u001b[0m\u001b[0;34m.\u001b[0m\u001b[0m_select_samples\u001b[0m\u001b[0;34m(\u001b[0m\u001b[0mcandidate\u001b[0m\u001b[0;34m,\u001b[0m \u001b[0;36m5\u001b[0m\u001b[0;34m)\u001b[0m\u001b[0;34m)\u001b[0m\u001b[0;34m\u001b[0m\u001b[0;34m\u001b[0m\u001b[0m\n\u001b[0m\u001b[1;32m   1174\u001b[0m \u001b[0;34m\u001b[0m\u001b[0m\n\u001b[1;32m   1175\u001b[0m         \u001b[0;32mif\u001b[0m \u001b[0mself\u001b[0m\u001b[0;34m.\u001b[0m\u001b[0mstrategy\u001b[0m \u001b[0;32min\u001b[0m \u001b[0mself\u001b[0m\u001b[0;34m.\u001b[0m\u001b[0m_binomial\u001b[0m\u001b[0;34m:\u001b[0m\u001b[0;34m\u001b[0m\u001b[0;34m\u001b[0m\u001b[0m\n",
            "\u001b[0;32m/usr/local/lib/python3.6/dist-packages/scipy/optimize/_differentialevolution.py\u001b[0m in \u001b[0;36m_select_samples\u001b[0;34m(self, candidate, number_samples)\u001b[0m\n\u001b[1;32m   1247\u001b[0m         \u001b[0mwithout\u001b[0m \u001b[0mreplacement\u001b[0m\u001b[0;34m.\u001b[0m  \u001b[0mYou\u001b[0m \u001b[0mcan\u001b[0m\u001b[0;31m'\u001b[0m\u001b[0mt\u001b[0m \u001b[0mhave\u001b[0m \u001b[0mthe\u001b[0m \u001b[0moriginal\u001b[0m \u001b[0mcandidate\u001b[0m \u001b[0meither\u001b[0m\u001b[0;34m.\u001b[0m\u001b[0;34m\u001b[0m\u001b[0;34m\u001b[0m\u001b[0m\n\u001b[1;32m   1248\u001b[0m         \"\"\"\n\u001b[0;32m-> 1249\u001b[0;31m         \u001b[0midxs\u001b[0m \u001b[0;34m=\u001b[0m \u001b[0mlist\u001b[0m\u001b[0;34m(\u001b[0m\u001b[0mrange\u001b[0m\u001b[0;34m(\u001b[0m\u001b[0mself\u001b[0m\u001b[0;34m.\u001b[0m\u001b[0mnum_population_members\u001b[0m\u001b[0;34m)\u001b[0m\u001b[0;34m)\u001b[0m\u001b[0;34m\u001b[0m\u001b[0;34m\u001b[0m\u001b[0m\n\u001b[0m\u001b[1;32m   1250\u001b[0m         \u001b[0midxs\u001b[0m\u001b[0;34m.\u001b[0m\u001b[0mremove\u001b[0m\u001b[0;34m(\u001b[0m\u001b[0mcandidate\u001b[0m\u001b[0;34m)\u001b[0m\u001b[0;34m\u001b[0m\u001b[0;34m\u001b[0m\u001b[0m\n\u001b[1;32m   1251\u001b[0m         \u001b[0mself\u001b[0m\u001b[0;34m.\u001b[0m\u001b[0mrandom_number_generator\u001b[0m\u001b[0;34m.\u001b[0m\u001b[0mshuffle\u001b[0m\u001b[0;34m(\u001b[0m\u001b[0midxs\u001b[0m\u001b[0;34m)\u001b[0m\u001b[0;34m\u001b[0m\u001b[0;34m\u001b[0m\u001b[0m\n",
            "\u001b[0;31mKeyboardInterrupt\u001b[0m: "
          ]
        }
      ]
    },
    {
      "cell_type": "code",
      "metadata": {
        "id": "jzEz7PQekgVn"
      },
      "source": [
        "plt.figure(figsize=(7, 5))\n",
        "name = [\"El.Cl.\", \"LGBM\", \"XGBoost\", \"CatBoost\"]\n",
        "for i in range(4):\n",
        "    t = []\n",
        "    for elem in res:\n",
        "        t.append(elem[i])\n",
        "    plt.plot(iter, t, label=name[i])\n",
        "plt.legend()\n",
        "plt.title(\"cross validation ROC-AUC, dermatology-dataset\")\n",
        "plt.savefig(\"dermatology-inv.pdf\")"
      ],
      "execution_count": null,
      "outputs": []
    },
    {
      "cell_type": "code",
      "metadata": {
        "colab": {
          "base_uri": "https://localhost:8080/"
        },
        "id": "2cz9r2O7iQVB",
        "outputId": "bd4a1b32-5d60-43f6-fc6a-f3e4949fe541"
      },
      "source": [
        "m = One_vs_all(max_iter=10)\n",
        "m.fit(Xd, y, np.max(Xd, axis=0))\n",
        "ans = m.predict(Xd)"
      ],
      "execution_count": null,
      "outputs": [
        {
          "output_type": "stream",
          "text": [
            "[[0.08659356 0.31818392 0.08327144 0.1892685  0.08378917 0.08398458]\n",
            " [0.91425614 0.13160769 0.08327144 0.13130779 0.08378917 0.08398458]\n",
            " [0.08659356 0.22874947 0.91552727 0.26089711 0.08378917 0.08398458]\n",
            " ...\n",
            " [0.08659356 0.09908876 0.91552727 0.14801616 0.08378917 0.08398458]\n",
            " [0.08659356 0.07215011 0.91552727 0.17176207 0.08378917 0.08398458]\n",
            " [0.91425614 0.1925442  0.08327144 0.10909743 0.08378917 0.08398458]]\n"
          ],
          "name": "stdout"
        }
      ]
    },
    {
      "cell_type": "code",
      "metadata": {
        "colab": {
          "base_uri": "https://localhost:8080/"
        },
        "id": "Gkn8PoDKiV_I",
        "outputId": "e2c68a37-664f-4ed1-d631-01c63c1eeb80"
      },
      "source": [
        "classes = np.arange(len(np.unique(y)))\n",
        "tmp = ohe(y, classes)\n",
        "\n",
        "roc_auc_score(tmp, ohe(ans, classes), average='macro')"
      ],
      "execution_count": null,
      "outputs": [
        {
          "output_type": "execute_result",
          "data": {
            "text/plain": [
              "0.9801540333785836"
            ]
          },
          "metadata": {
            "tags": []
          },
          "execution_count": 27
        }
      ]
    },
    {
      "cell_type": "code",
      "metadata": {
        "id": "uwgIiaWBcQ0l"
      },
      "source": [
        "data_car = pd.read_csv('/content/drive/My Drive/car.data', header=None)\n",
        "data_car = data_car.replace('low', 0)\n",
        "data_car = data_car.replace('med', 1)\n",
        "data_car = data_car.replace('high', 2)\n",
        "data_car = data_car.replace('vhigh', 3)\n",
        "\n",
        "data_car = data_car.replace('5more', 5)\n",
        "data_car = data_car.replace('more', 5)\n",
        "\n",
        "data_car = data_car.replace('small', 0)\n",
        "data_car = data_car.replace('big', 2)\n",
        "\n",
        "data_car = data_car.replace('unacc', 0)\n",
        "data_car = data_car.replace('acc', 1)\n",
        "data_car = data_car.replace('good', 2)\n",
        "data_car = data_car.replace('vgood', 3)"
      ],
      "execution_count": null,
      "outputs": []
    },
    {
      "cell_type": "code",
      "metadata": {
        "id": "W7JAY2z7cQ0p"
      },
      "source": [
        "X = data_car.values[:, :6].astype(int)\n",
        "y = data_car[6].values"
      ],
      "execution_count": null,
      "outputs": []
    },
    {
      "cell_type": "code",
      "metadata": {
        "id": "5Voduii6cQ0r",
        "colab": {
          "base_uri": "https://localhost:8080/"
        },
        "outputId": "560263fb-7b71-49f1-8f36-b04b9ae6a580"
      },
      "source": [
        "X1, c = enc(X, thr=3)\n",
        "Xd = add_inverse(X1, c)\n",
        "#Xd = X1\n",
        "cv = 3\n",
        "feature_subset = 1\n",
        "'m = ' + str(math.ceil(Xd.shape[0]*(cv-1)/cv)), 'k = ' + str(np.max(Xd) + 1),\\\n",
        "'n = ' + str(int(Xd.shape[1] * feature_subset ))"
      ],
      "execution_count": null,
      "outputs": [
        {
          "output_type": "execute_result",
          "data": {
            "text/plain": [
              "('m = 1152', 'k = 4', 'n = 9')"
            ]
          },
          "metadata": {
            "tags": []
          },
          "execution_count": 18
        }
      ]
    },
    {
      "cell_type": "code",
      "metadata": {
        "colab": {
          "base_uri": "https://localhost:8080/"
        },
        "id": "Ab7tlY3zu1Ql",
        "outputId": "3abc1523-fa22-429b-d9fa-14c2453c16da"
      },
      "source": [
        "X1.shape, c"
      ],
      "execution_count": null,
      "outputs": [
        {
          "output_type": "execute_result",
          "data": {
            "text/plain": [
              "((1728, 6), 3)"
            ]
          },
          "metadata": {
            "tags": []
          },
          "execution_count": 16
        }
      ]
    },
    {
      "cell_type": "code",
      "metadata": {
        "colab": {
          "base_uri": "https://localhost:8080/"
        },
        "id": "Y4j4s5NQCJkR",
        "outputId": "07a9a675-52cb-44c5-a2fa-a8cc477822af"
      },
      "source": [
        "get_rocauc(Xd, X, y, 40, c, cv=5)"
      ],
      "execution_count": null,
      "outputs": [
        {
          "output_type": "execute_result",
          "data": {
            "text/plain": [
              "[0.6514588909120158,\n",
              " 0.8184679955870813,\n",
              " 0.7144089707054504,\n",
              " 0.8598738218862682]"
            ]
          },
          "metadata": {
            "tags": []
          },
          "execution_count": 27
        }
      ]
    },
    {
      "cell_type": "code",
      "metadata": {
        "id": "0hqI85oYcQ0t"
      },
      "source": [
        "iter = [25, 50, 75, 100, 125]\n",
        "res = []\n",
        "for i in iter:\n",
        "    res.append(get_rocauc(Xd, X, y, i, c))"
      ],
      "execution_count": null,
      "outputs": []
    },
    {
      "cell_type": "code",
      "metadata": {
        "colab": {
          "base_uri": "https://localhost:8080/",
          "height": 336
        },
        "id": "ZpxAdVOr30Em",
        "outputId": "e3917cb3-6749-45be-d2e8-dcb98963e272"
      },
      "source": [
        "#fig, ax = plt.subplots(4, 1)\n",
        "plt.figure(figsize=(7, 5))\n",
        "name = [\"El.Cl.\", \"LGBM\", \"XGBoost\", \"CatBoost\"]\n",
        "for i in range(4):\n",
        "    t = []\n",
        "    for elem in res:\n",
        "        t.append(elem[i])\n",
        "    plt.plot(iter, t, label=name[i])\n",
        "plt.legend()\n",
        "plt.title(\"cross validation ROC-AUC, car-dataset\")\n",
        "plt.savefig(\"car-inv.pdf\")"
      ],
      "execution_count": null,
      "outputs": [
        {
          "output_type": "display_data",
          "data": {
            "image/png": "[encoded data removed]",
            "text/plain": [
              "<Figure size 504x360 with 1 Axes>"
            ]
          },
          "metadata": {
            "tags": [],
            "needs_background": "light"
          }
        }
      ]
    },
    {
      "cell_type": "code",
      "metadata": {
        "id": "7Na1GCTcFP36"
      },
      "source": [
        ""
      ],
      "execution_count": null,
      "outputs": []
    }
  ]
}