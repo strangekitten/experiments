{
  "nbformat": 4,
  "nbformat_minor": 0,
  "metadata": {
    "colab": {
      "name": "try boosting_ lax.ipynb",
      "provenance": [],
      "collapsed_sections": []
    },
    "kernelspec": {
      "display_name": "Python 3",
      "language": "python",
      "name": "python3"
    },
    "language_info": {
      "codemirror_mode": {
        "name": "ipython",
        "version": 3
      },
      "file_extension": ".py",
      "mimetype": "text/x-python",
      "name": "python",
      "nbconvert_exporter": "python",
      "pygments_lexer": "ipython3",
      "version": "3.7.3"
    }
  },
  "cells": [
    {
      "cell_type": "code",
      "metadata": {
        "colab": {
          "base_uri": "https://localhost:8080/"
        },
        "id": "ku0HFSxkGRDz",
        "outputId": "040fe320-a720-4095-af3b-86e661521b86"
      },
      "source": [
        "pip install CatBoost"
      ],
      "execution_count": 2,
      "outputs": [
        {
          "output_type": "stream",
          "text": [
            "Collecting CatBoost\n",
            "\u001b[?25l  Downloading https://files.pythonhosted.org/packages/96/3b/bb419654adcf7efff42ed8a3f84e50c8f236424b7ed1cc8ccd290852e003/catboost-0.24.4-cp37-none-manylinux1_x86_64.whl (65.7MB)\n",
            "\u001b[K     |████████████████████████████████| 65.7MB 61kB/s \n",
            "\u001b[?25hRequirement already satisfied: pandas>=0.24.0 in /usr/local/lib/python3.7/dist-packages (from CatBoost) (1.1.5)\n",
            "Requirement already satisfied: plotly in /usr/local/lib/python3.7/dist-packages (from CatBoost) (4.4.1)\n",
            "Requirement already satisfied: matplotlib in /usr/local/lib/python3.7/dist-packages (from CatBoost) (3.2.2)\n",
            "Requirement already satisfied: graphviz in /usr/local/lib/python3.7/dist-packages (from CatBoost) (0.10.1)\n",
            "Requirement already satisfied: numpy>=1.16.0 in /usr/local/lib/python3.7/dist-packages (from CatBoost) (1.19.5)\n",
            "Requirement already satisfied: scipy in /usr/local/lib/python3.7/dist-packages (from CatBoost) (1.4.1)\n",
            "Requirement already satisfied: six in /usr/local/lib/python3.7/dist-packages (from CatBoost) (1.15.0)\n",
            "Requirement already satisfied: python-dateutil>=2.7.3 in /usr/local/lib/python3.7/dist-packages (from pandas>=0.24.0->CatBoost) (2.8.1)\n",
            "Requirement already satisfied: pytz>=2017.2 in /usr/local/lib/python3.7/dist-packages (from pandas>=0.24.0->CatBoost) (2018.9)\n",
            "Requirement already satisfied: retrying>=1.3.3 in /usr/local/lib/python3.7/dist-packages (from plotly->CatBoost) (1.3.3)\n",
            "Requirement already satisfied: pyparsing!=2.0.4,!=2.1.2,!=2.1.6,>=2.0.1 in /usr/local/lib/python3.7/dist-packages (from matplotlib->CatBoost) (2.4.7)\n",
            "Requirement already satisfied: kiwisolver>=1.0.1 in /usr/local/lib/python3.7/dist-packages (from matplotlib->CatBoost) (1.3.1)\n",
            "Requirement already satisfied: cycler>=0.10 in /usr/local/lib/python3.7/dist-packages (from matplotlib->CatBoost) (0.10.0)\n",
            "Installing collected packages: CatBoost\n",
            "Successfully installed CatBoost-0.24.4\n"
          ],
          "name": "stdout"
        }
      ]
    },
    {
      "cell_type": "code",
      "metadata": {
        "id": "cHOka93ncQz1"
      },
      "source": [
        "import numpy as np\n",
        "from scipy.optimize import differential_evolution\n",
        "from scipy.special import expit\n",
        "from sklearn.metrics import roc_auc_score\n",
        "import pandas as pd\n",
        "import math\n",
        "from sklearn.tree import DecisionTreeRegressor\n",
        "import xgboost as xgb\n",
        "import lightgbm as lgb\n",
        "from sklearn.model_selection import cross_val_predict\n",
        "from catboost import CatBoostClassifier\n",
        "import matplotlib.pyplot as plt\n",
        "import math\n",
        "import time\n",
        "\n",
        "import torch\n",
        "import torch.nn as nn\n",
        "import torch.nn.functional as F\n",
        "import torch.optim as optim\n",
        "from torch.autograd import Variable\n",
        "from torch.nn import Parameter\n",
        "from torchvision import datasets, transforms"
      ],
      "execution_count": 3,
      "outputs": []
    },
    {
      "cell_type": "code",
      "metadata": {
        "id": "DPtms3ChcUMJ",
        "colab": {
          "base_uri": "https://localhost:8080/"
        },
        "outputId": "4d1ac2e8-851b-4686-8621-81e9243ae919"
      },
      "source": [
        "from google.colab import drive\n",
        "drive.mount('/content/drive')"
      ],
      "execution_count": 4,
      "outputs": [
        {
          "output_type": "stream",
          "text": [
            "Mounted at /content/drive\n"
          ],
          "name": "stdout"
        }
      ]
    },
    {
      "cell_type": "markdown",
      "metadata": {
        "id": "J3u-yn7Dciyp"
      },
      "source": [
        ""
      ]
    },
    {
      "cell_type": "code",
      "metadata": {
        "id": "gWphUweH6QOC"
      },
      "source": [
        "class Net(nn.Module):\n",
        "    def __init__(self, num_features):\n",
        "        super().__init__()\n",
        "        self.weights = nn.Parameter(torch.randn(num_features, 1) / math.sqrt(num_features))\n",
        "        self.bias = nn.Parameter(torch.zeros(1))\n",
        "\n",
        "    def forward(self, xb):\n",
        "        return xb @ self.weights + self.bias\n",
        "\n",
        "\n",
        "\n",
        "def f(b):\n",
        "    round_b = torch.round(torch.clamp(b, 0))\n",
        "    print((X < round_b[None, :]).all(axis=1).int())\n",
        "    return (((X < round_b[None, :]).all(axis=1).int() - y) ** 2).sum()\n",
        "\n",
        "def lax(optimized_f, num_features, mean_val_feat=0, alpha1=0.1, alpha2=0.1):\n",
        "    pred_f = 1e10\n",
        "    mu = torch.zeros(num_features) + mean_val_feat\n",
        "    log_sigma = torch.ones(num_features)\n",
        "    model = Net(num_features)\n",
        "    while True:\n",
        "\n",
        "        eps = torch.normal(torch.zeros(num_features), torch.ones(num_features))\n",
        "        b = mu + eps * torch.exp(log_sigma)\n",
        "        b.requires_grad_()\n",
        "        pred = model.forward(b)\n",
        "\n",
        "        pred.backward(retain_graph=True)\n",
        "        step_mu = (optimized_f(b) - pred) * (b - mu) / (torch.exp(log_sigma) ** 2 + 1e-8) + b.grad \n",
        "        step_sigma = (optimized_f(b) - pred)  * ((b - mu)** 2 / (torch.exp(log_sigma) ** 2 + 1e-8) - 1) + b.grad * eps * torch.exp(log_sigma)\n",
        "        g_theta = step_mu.sum() + step_sigma.sum()\n",
        "        g_theta.backward()\n",
        "        \n",
        "        with torch.no_grad():\n",
        "            log_sigma -= alpha1 * step_sigma * torch.exp(log_sigma)\n",
        "            mu -= alpha1 * step_mu\n",
        "            model.weights -= 2 * g_theta * model.weights.grad\n",
        "            model.bias -= 2 * g_theta * model.bias.grad\n",
        "\n",
        "\n",
        "            model.weights.zero_()\n",
        "            model.bias.zero_()\n",
        "            if optimized_f(b) <= pred_f and pred_f - optimized_f(b) < 0.1:\n",
        "\n",
        "                break\n",
        "            pred_f = optimized_f(b)\n",
        "\n",
        "\n",
        "    return torch.round(torch.clamp(b, 0))\n"
      ],
      "execution_count": 38,
      "outputs": []
    },
    {
      "cell_type": "code",
      "metadata": {
        "id": "7wHav9iH7f91"
      },
      "source": [
        "\n"
      ],
      "execution_count": null,
      "outputs": []
    },
    {
      "cell_type": "code",
      "metadata": {
        "id": "24sVvlPucQz8"
      },
      "source": [
        "class Boosting_Elcl:\n",
        "    def __init__(self, tol=0.4, max_iter=100, inv_feat=0, feature_subset=0.7):\n",
        "        self.tol = tol\n",
        "        self.max_iter = max_iter\n",
        "        self.inv_feat = inv_feat\n",
        "        self.feature_subset = feature_subset\n",
        "        self.method = \"lax\"\n",
        "        pass\n",
        "    def fit(self, X_train, y_train, max_elems, **kwargs):\n",
        "        self.max_elems = max_elems\n",
        "        self.trees = []            \n",
        "        self.sigmas = []\n",
        "        target = y_train.copy()\n",
        "        # меняем обозначение класса с 0 на -1\n",
        "        target[target == 0] = -1\n",
        "        y_train[y_train == 0] = -1\n",
        "        #границы для y1, y2\n",
        "        A = 10/self.max_iter\n",
        "        bounds = [(-A, A), (-A, A)]\n",
        "        #границы для значений сигма\n",
        "        #bounds.extend([(0, 3 * i) for i in max_elems])\n",
        "        \n",
        "        ans = np.zeros(X_train.shape[0])\n",
        "        ttarget = target.copy()\n",
        "        tans = ans.copy()\n",
        "\n",
        "        def optimized_f_for_evolution(x):\n",
        "            y2, y1, sigma = x[0], x[1], x[2:]\n",
        "            tmp_res = np.all(new_X_train <= sigma[None, :], axis=1)\n",
        "            tmp_ans = np.zeros(tmp_res.shape)\n",
        "            tmp_ans[tmp_res == True] = y1\n",
        "            tmp_ans[tmp_res == False] = y2 \n",
        "            return np.sum((tmp_ans - target) ** 2)\n",
        "\n",
        "\n",
        "        for _ in range(self.max_iter):\n",
        "            new_X_train = X_train.copy()\n",
        "            feature_idx = np.arange(X_train.shape[1])\n",
        "            if self.feature_subset != 1:\n",
        "                \n",
        "                tmp = int((X_train.shape[1] - self.inv_feat) * self.feature_subset)\n",
        "                feature_idx = np.sort(np.random.choice(X_train.shape[1] - self.inv_feat, tmp, \n",
        "                                                       replace=False))\n",
        "                tmp_max_elems = max_elems[feature_idx]\n",
        "                \n",
        "                feature_idx = np.append(feature_idx, feature_idx + X_train.shape[1] - self.inv_feat)\n",
        "                feature_idx = feature_idx[feature_idx < new_X_train.shape[1]]\n",
        "                new_X_train = new_X_train[:, feature_idx]\n",
        "\n",
        "\n",
        "            #Подбор нового эл.кл.\n",
        "            if self.method == \"diff_evolution\":\n",
        "                bounds = [(-A, A), (-A, A)]\n",
        "                bounds.extend([(0, 10 * i) for i in max_elems[feature_idx]])\n",
        "                tmp = differential_evolution(optimized_f_for_evolution,  bounds, popsize=15, **kwargs).x\n",
        "\n",
        "                sigma = max_elems.copy()\n",
        "                sigma[feature_idx] = tmp[2:]\n",
        "                self.sigmas.append((tmp[0], tmp[1], sigma))\n",
        "\n",
        "            elif self.method == \"lax\":\n",
        "                def optimized_f_for_lax(sigma):\n",
        "                    tmp_res = (torch.from_numpy(new_X_train) <= sigma[None, :]).all(axis=1)\n",
        "                    tmp_ans = torch.zeros(tmp_res.shape)\n",
        "                    tmp_ans[tmp_res == True] = 1\n",
        "                    tmp_ans[tmp_res == False] = 0\n",
        "                    return ((tmp_ans - target) ** 2).mean()\n",
        "                sigma = max_elems.copy()\n",
        "                sigma[feature_idx] = lax(optimized_f_for_lax, new_X_train.shape[1], new_X_train.max() // 2).detach().numpy()\n",
        "                self.sigmas.append((0, 1, sigma))\n",
        "\n",
        "            #Получение предсказания композиции уже подобранных эл.кл.\n",
        "            res = np.all(X_train <= sigma[None, :], axis=1)\n",
        "            ans[res == True] += self.sigmas[-1][1]\n",
        "            ans[res == False] += self.sigmas[-1][0]\n",
        "            prob = expit(ans)\n",
        "            loss = np.mean(np.logaddexp(0, -y_train * ans))\n",
        "            \n",
        "            if loss < self.tol:\n",
        "                break\n",
        "            \n",
        "            #Вычисление нового target\n",
        "            target = y_train * expit(-y_train * ans)\n",
        "            #print(target)\n",
        "            #print(np.round(target, 4))\n",
        "            \n",
        "            tree = DecisionTreeRegressor(max_depth=1)\n",
        "            tree.fit(X_train, ttarget)\n",
        "            self.trees.append(tree)\n",
        "            tans += tree.predict(X_train)\n",
        "            ttarget = y_train * expit(-y_train * tans)\n",
        "\n",
        "            #print(\"elcl \", loss, \" tree \", np.mean(np.logaddexp(0, -y_train * tans)))\n",
        "            #print(np.sum((np.logaddexp(0, -y_train * tans) - np.logaddexp(0, -y_train * ans))** 2)**0.5)\n",
        "        y_train[y_train == -1] = 0\n",
        "\n",
        "    def predict(self, X_test):\n",
        "        ans = np.zeros(X_test.shape[0])\n",
        "        tans = ans.copy()\n",
        "        for y2, y1, sigma in self.sigmas:\n",
        "            res = np.all(X_test <= sigma[None, :], axis=1)\n",
        "            ans[res == True] += y1\n",
        "            ans[res == False] += y2\n",
        "            \n",
        "        \n",
        "        #Вероятность класса 1\n",
        "        proba = expit(ans)[:, np.newaxis]\n",
        "        #np.hstack((proba, 1 - proba))\n",
        "        \n",
        "        # Получаем метки\n",
        "        tmp = np.sign(ans)\n",
        "        tmp[tmp == -1] = 0\n",
        "        tmp = tmp.astype(np.int)\n",
        "\n",
        "        for tree in self.trees:\n",
        "            tans += tree.predict(X_test)\n",
        "        \n",
        "        return expit(ans)[:, np.newaxis] #proba\n",
        "        "
      ],
      "execution_count": 36,
      "outputs": []
    },
    {
      "cell_type": "code",
      "metadata": {
        "id": "TS8SXuMLcQz_"
      },
      "source": [
        "class One_vs_all:\n",
        "    def __init__(self, tol=0.4, max_iter=100, inv_feat=0):\n",
        "        self.tol = tol\n",
        "        self.max_iter = max_iter\n",
        "        self.inv_feat = inv_feat\n",
        "\n",
        "    def fit(self, X, y, max_elems, **kwargs):\n",
        "        self.classes = np.unique(y)\n",
        "        self.models = []\n",
        "\n",
        "        if len(self.classes) == 2:\n",
        "            tmp_model = Boosting_Elcl(tol=self.tol, max_iter=self.max_iter, inv_feat=self.inv_feat)\n",
        "            y_tmp = y.copy()\n",
        "            y_tmp[y == 1] = 1\n",
        "            y_tmp[y != 1] = -1\n",
        "            tmp_model.fit(X, y_tmp, max_elems, **kwargs)\n",
        "            self.models.append(tmp_model)\n",
        "            return\n",
        "        \n",
        "        for k in self.classes:\n",
        "            tmp_model = Boosting_Elcl(tol=self.tol, max_iter=self.max_iter, inv_feat=self.inv_feat)\n",
        "            y_tmp = y.copy()\n",
        "            y_tmp[y == k] = 1\n",
        "            y_tmp[y != k] = -1\n",
        "            tmp_model.fit(X, y_tmp, max_elems, **kwargs)\n",
        "            self.models.append(tmp_model)\n",
        "            \n",
        "    def predict(self, X):\n",
        "        res = np.zeros((X.shape[0], len(self.classes)))\n",
        "\n",
        "        if len(self.classes) == 2:\n",
        "            res[:, 1] = self.models[0].predict(X)[:, 0]\n",
        "            res[:, 0] = 1 - res[:, 1]\n",
        "\n",
        "        else:\n",
        "            for k, model in enumerate(self.models):\n",
        "                res[:, k] = model.predict(X)[:, 0]\n",
        "        #print(res)\n",
        "        return np.argmax(res, axis=1)\n",
        "            "
      ],
      "execution_count": 8,
      "outputs": []
    },
    {
      "cell_type": "code",
      "metadata": {
        "id": "9kC0jnNouIQ8"
      },
      "source": [
        "def my_cv(X, y, tol, num_runs, inv_feat, cv = 3, **kwargs):\n",
        "    ans = np.zeros((X.shape[0]))\n",
        "    ind = np.random.shuffle(np.arange(X.shape[0]))\n",
        "    for i in range(cv):\n",
        "        a, b = (X.shape[0] // cv) * i, (X.shape[0] // cv) * (i + 1)\n",
        "        m = One_vs_all(tol=tol, max_iter=num_runs, inv_feat=inv_feat)\n",
        "        m.fit(np.vstack((X[:a], X[b:])), np.append(y[:a], y[b:]), np.max(X, axis=0), **kwargs)\n",
        "        ans[a:b] = m.predict(X[a:b])\n",
        "    \n",
        "    return ans"
      ],
      "execution_count": 9,
      "outputs": []
    },
    {
      "cell_type": "code",
      "metadata": {
        "id": "i6eMmPNccQ0B"
      },
      "source": [
        "def enc(X, thr):\n",
        "    newX = X.copy()\n",
        "    inv = X.shape[1] - 1\n",
        "    c = 0\n",
        "    for i in range(X.shape[1]):\n",
        "        encode = {k:j for j, k in enumerate(sorted(np.unique(X[:, i])))}\n",
        "        if max(encode.values()) < thr:\n",
        "            new_i = inv\n",
        "            inv -= 1\n",
        "        else:\n",
        "            new_i = c\n",
        "            c += 1\n",
        "        for j in range(X.shape[0]):\n",
        "            newX[j, new_i] = encode[X[j, i]]\n",
        "\n",
        "    return newX, c"
      ],
      "execution_count": 10,
      "outputs": []
    },
    {
      "cell_type": "code",
      "metadata": {
        "id": "-zp-s0HgcQ0E"
      },
      "source": [
        "def add_inverse(X, size):\n",
        "    #a = np.arange(X.shape[1])\n",
        "    #ind = np.random.choice(a, size=size, replace=False)\n",
        "    ind = np.arange(size)\n",
        "    newX = np.zeros((X.shape[0], X.shape[1] + len(ind)), dtype=np.int)\n",
        "    newX[:, : X.shape[1]] = X\n",
        "    for j, i in enumerate(ind):\n",
        "        newX[:, X.shape[1] + j] = np.max(X[:, i]) - X[:, i]\n",
        "    return newX"
      ],
      "execution_count": 11,
      "outputs": []
    },
    {
      "cell_type": "code",
      "metadata": {
        "id": "8snm_bV2cQ0G"
      },
      "source": [
        "\n",
        "def ohe(target, classes):\n",
        "    return (classes == target[:, None]).astype(int)"
      ],
      "execution_count": 12,
      "outputs": []
    },
    {
      "cell_type": "code",
      "metadata": {
        "id": "HmEk77QH0FsS"
      },
      "source": [
        "def get_rocauc(Xd, X, y, n_estimators, inv_feat, cv=3, **kwargs):\n",
        "\n",
        "    ans = my_cv(Xd, y, tol=0.1, num_runs=n_estimators, inv_feat=inv_feat, cv=cv, **kwargs)\n",
        "\n",
        "    lgbm = lgb.LGBMClassifier(n_estimators=n_estimators)\n",
        "    ans_lgbm = cross_val_predict(lgbm, X, y, cv=cv)\n",
        "\n",
        "    xgbm = xgb.XGBClassifier(n_estimators=n_estimators)\n",
        "    ans_xgbm = cross_val_predict(xgbm, X, y, cv=cv)\n",
        "\n",
        "    cb = CatBoostClassifier(iterations=n_estimators, verbose=False)\n",
        "    ans_cb = cross_val_predict(cb, X, y, cv=cv)\n",
        "\n",
        "    classes = np.arange(len(np.unique(y)))\n",
        "    tmp = ohe(y, classes)\n",
        "\n",
        "    return [roc_auc_score(tmp, ohe(ans, classes), average='macro'), roc_auc_score(tmp, ohe(ans_lgbm, classes), average='macro'),\n",
        "            roc_auc_score(tmp, ohe(ans_xgbm, classes), average='macro'), roc_auc_score(tmp, ohe(ans_cb.reshape(-1, ), classes), average='macro')]"
      ],
      "execution_count": 13,
      "outputs": []
    },
    {
      "cell_type": "code",
      "metadata": {
        "id": "bs0enKcVW53b"
      },
      "source": [
        "def get_rocauc_hist(X, y, n_estimators, cv=3, **kwargs):\n",
        "\n",
        "    lgbm = lgb.LGBMClassifier(n_estimators=n_estimators)\n",
        "    ans_lgbm = cross_val_predict(lgbm, X, y, cv=cv)\n",
        "\n",
        "    xgbm = xgb.XGBClassifier(n_estimators=n_estimators)\n",
        "    ans_xgbm = cross_val_predict(xgbm, X, y, cv=cv)\n",
        "\n",
        "    cb = CatBoostClassifier(iterations=n_estimators, verbose=False)\n",
        "    ans_cb = cross_val_predict(cb, X, y, cv=cv)\n",
        "\n",
        "    classes = np.arange(len(np.unique(y)))\n",
        "    tmp = ohe(y, classes)\n",
        "\n",
        "    return [roc_auc_score(tmp, ohe(ans_lgbm, classes), average='macro'),\n",
        "            roc_auc_score(tmp, ohe(ans_xgbm, classes), average='macro'), roc_auc_score(tmp, ohe(ans_cb.reshape(-1, ), classes), average='macro')]"
      ],
      "execution_count": 14,
      "outputs": []
    },
    {
      "cell_type": "code",
      "metadata": {
        "id": "9vNUdUKtcQ0R"
      },
      "source": [
        "data_ph = pd.read_csv('/content/drive/My Drive/datasets_81236_188723_ph-data.csv')\n",
        "X = data_ph.drop(columns=['label']).values.astype(int)\n",
        "y = data_ph[['label']].values[:, 0]"
      ],
      "execution_count": 15,
      "outputs": []
    },
    {
      "cell_type": "code",
      "metadata": {
        "colab": {
          "base_uri": "https://localhost:8080/"
        },
        "id": "bp97BkVocQ0T",
        "outputId": "00c7b619-0662-4f07-f734-91199412f2bf"
      },
      "source": [
        "X1, c = enc(X, thr=3)\n",
        "Xd = add_inverse(X1, c)\n",
        "feature_subset = 0.8\n",
        "cv = 3\n",
        "feature_subset = 1\n",
        "'m = ' + str(math.ceil(Xd.shape[0]*(cv-1)/cv)), 'k = ' + str(np.max(Xd) + 1),\\\n",
        "'n = ' + str(int(Xd.shape[1] * feature_subset))"
      ],
      "execution_count": 16,
      "outputs": [
        {
          "output_type": "execute_result",
          "data": {
            "text/plain": [
              "('m = 436', 'k = 186', 'n = 6')"
            ]
          },
          "metadata": {
            "tags": []
          },
          "execution_count": 16
        }
      ]
    },
    {
      "cell_type": "code",
      "metadata": {
        "colab": {
          "base_uri": "https://localhost:8080/"
        },
        "id": "qWFq_s16q5w5",
        "outputId": "39c2b4e5-1f8d-41d7-dd0f-9026c5b750a6"
      },
      "source": [
        "get_rocauc(Xd, X, y, 10, c)"
      ],
      "execution_count": 39,
      "outputs": [
        {
          "output_type": "execute_result",
          "data": {
            "text/plain": [
              "[0.50528522447606, 0.8331951273050112, 0.8399146920789616, 0.8318290509207212]"
            ]
          },
          "metadata": {
            "tags": []
          },
          "execution_count": 39
        }
      ]
    },
    {
      "cell_type": "code",
      "metadata": {
        "colab": {
          "base_uri": "https://localhost:8080/",
          "height": 206
        },
        "id": "Q3pk0wC4FWsT",
        "outputId": "c20b335c-51f5-4623-8afb-ea476c0f245a"
      },
      "source": [
        "classes = np.arange(len(np.unique(y)))\n",
        "tmp = ohe(y, classes)\n",
        "\n",
        "roc_auc_score(tmp, ohe(ans, classes), average='macro')"
      ],
      "execution_count": 40,
      "outputs": [
        {
          "output_type": "error",
          "ename": "NameError",
          "evalue": "ignored",
          "traceback": [
            "\u001b[0;31m---------------------------------------------------------------------------\u001b[0m",
            "\u001b[0;31mNameError\u001b[0m                                 Traceback (most recent call last)",
            "\u001b[0;32m<ipython-input-40-0f00cae45770>\u001b[0m in \u001b[0;36m<module>\u001b[0;34m()\u001b[0m\n\u001b[1;32m      2\u001b[0m \u001b[0mtmp\u001b[0m \u001b[0;34m=\u001b[0m \u001b[0mohe\u001b[0m\u001b[0;34m(\u001b[0m\u001b[0my\u001b[0m\u001b[0;34m,\u001b[0m \u001b[0mclasses\u001b[0m\u001b[0;34m)\u001b[0m\u001b[0;34m\u001b[0m\u001b[0;34m\u001b[0m\u001b[0m\n\u001b[1;32m      3\u001b[0m \u001b[0;34m\u001b[0m\u001b[0m\n\u001b[0;32m----> 4\u001b[0;31m \u001b[0mroc_auc_score\u001b[0m\u001b[0;34m(\u001b[0m\u001b[0mtmp\u001b[0m\u001b[0;34m,\u001b[0m \u001b[0mohe\u001b[0m\u001b[0;34m(\u001b[0m\u001b[0mans\u001b[0m\u001b[0;34m,\u001b[0m \u001b[0mclasses\u001b[0m\u001b[0;34m)\u001b[0m\u001b[0;34m,\u001b[0m \u001b[0maverage\u001b[0m\u001b[0;34m=\u001b[0m\u001b[0;34m'macro'\u001b[0m\u001b[0;34m)\u001b[0m\u001b[0;34m\u001b[0m\u001b[0;34m\u001b[0m\u001b[0m\n\u001b[0m",
            "\u001b[0;31mNameError\u001b[0m: name 'ans' is not defined"
          ]
        }
      ]
    },
    {
      "cell_type": "code",
      "metadata": {
        "id": "9RO_RzyUEbuD"
      },
      "source": [
        "m = One_vs_all(max_iter=20)\n",
        "m.fit(Xd, y, np.max(Xd, axis=0))\n",
        "ans = m.predict(Xd)"
      ],
      "execution_count": null,
      "outputs": []
    },
    {
      "cell_type": "code",
      "metadata": {
        "id": "FEu_a_IWXo87"
      },
      "source": [
        "iter = [10, 20, 30, 40, 50]\n",
        "res = []\n",
        "for i in iter:\n",
        "    res.append(get_rocauc(Xd, X, y, i, c))"
      ],
      "execution_count": null,
      "outputs": []
    },
    {
      "cell_type": "code",
      "metadata": {
        "colab": {
          "base_uri": "https://localhost:8080/",
          "height": 354
        },
        "id": "7v1j7MMtX_KR",
        "outputId": "475a0266-055a-4cd0-c2b1-36433ba12164"
      },
      "source": [
        "#fig, ax = plt.subplots(4, 1)\n",
        "plt.figure(figsize=(7, 5))\n",
        "name = [\"El.Cl. Boost\", \"LGBM\", \"XGBoost\", \"CatBoost\"]\n",
        "for i in range(4):\n",
        "    t = []\n",
        "    for elem in res:\n",
        "        t.append(elem[i])\n",
        "    plt.plot(iter, t, label=name[i])\n",
        "plt.legend()\n",
        "plt.title(\"cross validation ROC-AUC, ph-dataset\")\n",
        "#plt.savefig(\"ph-inv.pdf\")"
      ],
      "execution_count": null,
      "outputs": [
        {
          "output_type": "execute_result",
          "data": {
            "text/plain": [
              "Text(0.5, 1.0, 'cross validation ROC-AUC, ph-dataset')"
            ]
          },
          "metadata": {
            "tags": []
          },
          "execution_count": 23
        },
        {
          "output_type": "display_data",
          "data": {
            "image/png": "[encoded data removed]",
            "text/plain": [
              "<Figure size 504x360 with 1 Axes>"
            ]
          },
          "metadata": {
            "tags": [],
            "needs_background": "light"
          }
        }
      ]
    },
    {
      "cell_type": "code",
      "metadata": {
        "colab": {
          "base_uri": "https://localhost:8080/"
        },
        "id": "Q_xWSbAHcQ0d",
        "outputId": "4c50260f-9e46-422d-d835-0b53560817cf"
      },
      "source": [
        "data_heart = pd.read_csv('/content/drive/My Drive/datasets_33180_43520_heart.csv')\n",
        "\n",
        "X = data_heart.drop(columns=['target']).values.astype(int)\n",
        "y = data_heart[['target']].values[:, 0]\n",
        "\n",
        "X.shape, np.max(X)"
      ],
      "execution_count": null,
      "outputs": [
        {
          "output_type": "execute_result",
          "data": {
            "text/plain": [
              "((303, 13), 564)"
            ]
          },
          "metadata": {
            "tags": []
          },
          "execution_count": 70
        }
      ]
    },
    {
      "cell_type": "code",
      "metadata": {
        "id": "r1XF9UWyve6a"
      },
      "source": [
        ""
      ],
      "execution_count": null,
      "outputs": []
    },
    {
      "cell_type": "code",
      "metadata": {
        "id": "L4AFu3cDcQ0f"
      },
      "source": [
        "X1, c = enc(X, thr=3)\n",
        "\n",
        "inv_feat = c\n",
        "Xd = add_inverse(X1, c)\n",
        "cv = 3\n",
        "feature_subset = 0.8\n"
      ],
      "execution_count": null,
      "outputs": []
    },
    {
      "cell_type": "code",
      "metadata": {
        "colab": {
          "base_uri": "https://localhost:8080/"
        },
        "id": "ylsDqXxMuHQf",
        "outputId": "6cc9efef-aa0a-42f5-fd7e-505d2504dbcc"
      },
      "source": [
        "get_rocauc(Xd, X, y, 70, c, cv=5)"
      ],
      "execution_count": null,
      "outputs": [
        {
          "output_type": "execute_result",
          "data": {
            "text/plain": [
              "[0.7206192358366272,\n",
              " 0.8185770750988142,\n",
              " 0.8022397891963109,\n",
              " 0.8464426877470356]"
            ]
          },
          "metadata": {
            "tags": []
          },
          "execution_count": 97
        }
      ]
    },
    {
      "cell_type": "code",
      "metadata": {
        "id": "5hrXjV5vvfu3"
      },
      "source": [
        "iter = [10, 30, 50, 70, 100]\n",
        "res = []\n",
        "for i in iter:\n",
        "    res.append(get_rocauc(Xd, X, y, i, c, cv=5))"
      ],
      "execution_count": null,
      "outputs": []
    },
    {
      "cell_type": "code",
      "metadata": {
        "id": "cAsEFa_uvpG2",
        "colab": {
          "base_uri": "https://localhost:8080/",
          "height": 336
        },
        "outputId": "347cb095-a281-467b-b41a-53050a1493b7"
      },
      "source": [
        "\n",
        "#fig, ax = plt.subplots(4, 1)\n",
        "plt.figure(figsize=(7, 5))\n",
        "name = [\"El.Cl.\", \"LGBM\", \"XGBoost\", \"CatBoost\"]\n",
        "for i in range(4):\n",
        "    t = []\n",
        "    for elem in res:\n",
        "        t.append(elem[i])\n",
        "    plt.plot(iter, t, label=name[i])\n",
        "plt.legend()\n",
        "plt.title(\"cross validation ROC-AUC, heart-dataset\")\n",
        "plt.savefig(\"heart-inv.pdf\")"
      ],
      "execution_count": null,
      "outputs": [
        {
          "output_type": "display_data",
          "data": {
            "image/png": "[encoded data removed]",
            "text/plain": [
              "<Figure size 504x360 with 1 Axes>"
            ]
          },
          "metadata": {
            "tags": [],
            "needs_background": "light"
          }
        }
      ]
    },
    {
      "cell_type": "code",
      "metadata": {
        "colab": {
          "base_uri": "https://localhost:8080/"
        },
        "id": "EUhBqnjeGwdn",
        "outputId": "f5b12c71-6ba2-40eb-8d4b-6f8e7c890a62"
      },
      "source": [
        "get_rocauc(Xd, X, y, 200, c)"
      ],
      "execution_count": null,
      "outputs": [
        {
          "output_type": "execute_result",
          "data": {
            "text/plain": [
              "[0.5814888010540185, 0.8234519104084321, 0.814361001317523]"
            ]
          },
          "metadata": {
            "tags": []
          },
          "execution_count": 76
        }
      ]
    },
    {
      "cell_type": "code",
      "metadata": {
        "id": "44Dob-a5cB6q"
      },
      "source": [
        "#m = One_vs_all(max_iter=20)\n",
        "ans=my_cv(Xd, y, tol=0.1, num_runs=15, strategy='best1exp',\n",
        "                                          mutation=(1.2, 1.5), recombination=0.8, maxiter=5)\n",
        "#ans = m.predict(Xd)"
      ],
      "execution_count": null,
      "outputs": []
    },
    {
      "cell_type": "code",
      "metadata": {
        "colab": {
          "base_uri": "https://localhost:8080/"
        },
        "id": "sLhJBO9HcE5I",
        "outputId": "0134b3d1-97e9-4637-bcb7-dbb1ff6653b5"
      },
      "source": [
        "classes = np.arange(len(np.unique(y)))\n",
        "tmp = ohe(y, classes)\n",
        "\n",
        "roc_auc_score(tmp, ohe(ans, classes), average='macro')"
      ],
      "execution_count": null,
      "outputs": [
        {
          "output_type": "execute_result",
          "data": {
            "text/plain": [
              "0.5005270092226615"
            ]
          },
          "metadata": {
            "tags": []
          },
          "execution_count": 63
        }
      ]
    },
    {
      "cell_type": "code",
      "metadata": {
        "id": "ZfpD4cUlcQ0h"
      },
      "source": [
        "data_dermatology = pd.read_csv('/content/drive/My Drive/dermatology.csv')\n",
        "\n",
        "X = data_dermatology.drop(columns=['class']).values.astype(int)\n",
        "y = data_dermatology[['class']].values[:, 0] - 1"
      ],
      "execution_count": null,
      "outputs": []
    },
    {
      "cell_type": "code",
      "metadata": {
        "colab": {
          "base_uri": "https://localhost:8080/"
        },
        "id": "mEBYqUCUcQ0j",
        "outputId": "fbe9e0d5-e87d-4148-e70f-fe749aba2aa6"
      },
      "source": [
        "X1, c = enc(X, thr=3)\n",
        "inv_feat = 0\n",
        "Xd = add_inverse(X1, c)\n",
        "cv = 3\n",
        "feature_subset = 0.6\n",
        "'m = ' + str(math.ceil(Xd.shape[0]*(cv-1)/cv)), 'k = ' + str(np.max(Xd)+ 1),\\\n",
        "'n = ' + str(int(Xd.shape[1] * feature_subset ))"
      ],
      "execution_count": null,
      "outputs": [
        {
          "output_type": "execute_result",
          "data": {
            "text/plain": [
              "('m = 244', 'k = 61', 'n = 39')"
            ]
          },
          "metadata": {
            "tags": []
          },
          "execution_count": 101
        }
      ]
    },
    {
      "cell_type": "code",
      "metadata": {
        "colab": {
          "base_uri": "https://localhost:8080/",
          "height": 320
        },
        "id": "upuYzBK-L3T7",
        "outputId": "a53b118c-d063-46fd-c330-6806e35ffb19"
      },
      "source": [
        "get_rocauc(Xd, X, y, 2, c)"
      ],
      "execution_count": null,
      "outputs": [
        {
          "output_type": "error",
          "ename": "KeyboardInterrupt",
          "evalue": "ignored",
          "traceback": [
            "\u001b[0;31m---------------------------------------------------------------------------\u001b[0m",
            "\u001b[0;31mKeyboardInterrupt\u001b[0m                         Traceback (most recent call last)",
            "\u001b[0;32m<ipython-input-102-471f71fb6f9d>\u001b[0m in \u001b[0;36m<module>\u001b[0;34m()\u001b[0m\n\u001b[0;32m----> 1\u001b[0;31m \u001b[0mget_rocauc\u001b[0m\u001b[0;34m(\u001b[0m\u001b[0mXd\u001b[0m\u001b[0;34m,\u001b[0m \u001b[0mX\u001b[0m\u001b[0;34m,\u001b[0m \u001b[0my\u001b[0m\u001b[0;34m,\u001b[0m \u001b[0;36m2\u001b[0m\u001b[0;34m,\u001b[0m \u001b[0mc\u001b[0m\u001b[0;34m)\u001b[0m\u001b[0;34m\u001b[0m\u001b[0;34m\u001b[0m\u001b[0m\n\u001b[0m",
            "\u001b[0;32m<ipython-input-34-c71239e1b414>\u001b[0m in \u001b[0;36mget_rocauc\u001b[0;34m(Xd, X, y, n_estimators, inv_feat, cv, **kwargs)\u001b[0m\n\u001b[1;32m      1\u001b[0m \u001b[0;32mdef\u001b[0m \u001b[0mget_rocauc\u001b[0m\u001b[0;34m(\u001b[0m\u001b[0mXd\u001b[0m\u001b[0;34m,\u001b[0m \u001b[0mX\u001b[0m\u001b[0;34m,\u001b[0m \u001b[0my\u001b[0m\u001b[0;34m,\u001b[0m \u001b[0mn_estimators\u001b[0m\u001b[0;34m,\u001b[0m \u001b[0minv_feat\u001b[0m\u001b[0;34m,\u001b[0m \u001b[0mcv\u001b[0m\u001b[0;34m=\u001b[0m\u001b[0;36m3\u001b[0m\u001b[0;34m,\u001b[0m \u001b[0;34m**\u001b[0m\u001b[0mkwargs\u001b[0m\u001b[0;34m)\u001b[0m\u001b[0;34m:\u001b[0m\u001b[0;34m\u001b[0m\u001b[0;34m\u001b[0m\u001b[0m\n\u001b[1;32m      2\u001b[0m \u001b[0;34m\u001b[0m\u001b[0m\n\u001b[0;32m----> 3\u001b[0;31m     \u001b[0mans\u001b[0m \u001b[0;34m=\u001b[0m \u001b[0mmy_cv\u001b[0m\u001b[0;34m(\u001b[0m\u001b[0mXd\u001b[0m\u001b[0;34m,\u001b[0m \u001b[0my\u001b[0m\u001b[0;34m,\u001b[0m \u001b[0mtol\u001b[0m\u001b[0;34m=\u001b[0m\u001b[0;36m0.1\u001b[0m\u001b[0;34m,\u001b[0m \u001b[0mnum_runs\u001b[0m\u001b[0;34m=\u001b[0m\u001b[0mn_estimators\u001b[0m\u001b[0;34m,\u001b[0m \u001b[0minv_feat\u001b[0m\u001b[0;34m=\u001b[0m\u001b[0minv_feat\u001b[0m\u001b[0;34m,\u001b[0m \u001b[0mcv\u001b[0m\u001b[0;34m=\u001b[0m\u001b[0mcv\u001b[0m\u001b[0;34m,\u001b[0m \u001b[0;34m**\u001b[0m\u001b[0mkwargs\u001b[0m\u001b[0;34m)\u001b[0m\u001b[0;34m\u001b[0m\u001b[0;34m\u001b[0m\u001b[0m\n\u001b[0m\u001b[1;32m      4\u001b[0m \u001b[0;34m\u001b[0m\u001b[0m\n\u001b[1;32m      5\u001b[0m     \u001b[0mlgbm\u001b[0m \u001b[0;34m=\u001b[0m \u001b[0mlgb\u001b[0m\u001b[0;34m.\u001b[0m\u001b[0mLGBMClassifier\u001b[0m\u001b[0;34m(\u001b[0m\u001b[0mn_estimators\u001b[0m\u001b[0;34m=\u001b[0m\u001b[0mn_estimators\u001b[0m\u001b[0;34m)\u001b[0m\u001b[0;34m\u001b[0m\u001b[0;34m\u001b[0m\u001b[0m\n",
            "\u001b[0;32m<ipython-input-32-4af37944b90a>\u001b[0m in \u001b[0;36mmy_cv\u001b[0;34m(X, y, tol, num_runs, inv_feat, cv, **kwargs)\u001b[0m\n\u001b[1;32m      5\u001b[0m         \u001b[0ma\u001b[0m\u001b[0;34m,\u001b[0m \u001b[0mb\u001b[0m \u001b[0;34m=\u001b[0m \u001b[0;34m(\u001b[0m\u001b[0mX\u001b[0m\u001b[0;34m.\u001b[0m\u001b[0mshape\u001b[0m\u001b[0;34m[\u001b[0m\u001b[0;36m0\u001b[0m\u001b[0;34m]\u001b[0m \u001b[0;34m//\u001b[0m \u001b[0mcv\u001b[0m\u001b[0;34m)\u001b[0m \u001b[0;34m*\u001b[0m \u001b[0mi\u001b[0m\u001b[0;34m,\u001b[0m \u001b[0;34m(\u001b[0m\u001b[0mX\u001b[0m\u001b[0;34m.\u001b[0m\u001b[0mshape\u001b[0m\u001b[0;34m[\u001b[0m\u001b[0;36m0\u001b[0m\u001b[0;34m]\u001b[0m \u001b[0;34m//\u001b[0m \u001b[0mcv\u001b[0m\u001b[0;34m)\u001b[0m \u001b[0;34m*\u001b[0m \u001b[0;34m(\u001b[0m\u001b[0mi\u001b[0m \u001b[0;34m+\u001b[0m \u001b[0;36m1\u001b[0m\u001b[0;34m)\u001b[0m\u001b[0;34m\u001b[0m\u001b[0;34m\u001b[0m\u001b[0m\n\u001b[1;32m      6\u001b[0m         \u001b[0mm\u001b[0m \u001b[0;34m=\u001b[0m \u001b[0mOne_vs_all\u001b[0m\u001b[0;34m(\u001b[0m\u001b[0mtol\u001b[0m\u001b[0;34m=\u001b[0m\u001b[0mtol\u001b[0m\u001b[0;34m,\u001b[0m \u001b[0mmax_iter\u001b[0m\u001b[0;34m=\u001b[0m\u001b[0mnum_runs\u001b[0m\u001b[0;34m,\u001b[0m \u001b[0minv_feat\u001b[0m\u001b[0;34m=\u001b[0m\u001b[0minv_feat\u001b[0m\u001b[0;34m)\u001b[0m\u001b[0;34m\u001b[0m\u001b[0;34m\u001b[0m\u001b[0m\n\u001b[0;32m----> 7\u001b[0;31m         \u001b[0mm\u001b[0m\u001b[0;34m.\u001b[0m\u001b[0mfit\u001b[0m\u001b[0;34m(\u001b[0m\u001b[0mnp\u001b[0m\u001b[0;34m.\u001b[0m\u001b[0mvstack\u001b[0m\u001b[0;34m(\u001b[0m\u001b[0;34m(\u001b[0m\u001b[0mX\u001b[0m\u001b[0;34m[\u001b[0m\u001b[0;34m:\u001b[0m\u001b[0ma\u001b[0m\u001b[0;34m]\u001b[0m\u001b[0;34m,\u001b[0m \u001b[0mX\u001b[0m\u001b[0;34m[\u001b[0m\u001b[0mb\u001b[0m\u001b[0;34m:\u001b[0m\u001b[0;34m]\u001b[0m\u001b[0;34m)\u001b[0m\u001b[0;34m)\u001b[0m\u001b[0;34m,\u001b[0m \u001b[0mnp\u001b[0m\u001b[0;34m.\u001b[0m\u001b[0mappend\u001b[0m\u001b[0;34m(\u001b[0m\u001b[0my\u001b[0m\u001b[0;34m[\u001b[0m\u001b[0;34m:\u001b[0m\u001b[0ma\u001b[0m\u001b[0;34m]\u001b[0m\u001b[0;34m,\u001b[0m \u001b[0my\u001b[0m\u001b[0;34m[\u001b[0m\u001b[0mb\u001b[0m\u001b[0;34m:\u001b[0m\u001b[0;34m]\u001b[0m\u001b[0;34m)\u001b[0m\u001b[0;34m,\u001b[0m \u001b[0mnp\u001b[0m\u001b[0;34m.\u001b[0m\u001b[0mmax\u001b[0m\u001b[0;34m(\u001b[0m\u001b[0mX\u001b[0m\u001b[0;34m,\u001b[0m \u001b[0maxis\u001b[0m\u001b[0;34m=\u001b[0m\u001b[0;36m0\u001b[0m\u001b[0;34m)\u001b[0m\u001b[0;34m,\u001b[0m \u001b[0;34m**\u001b[0m\u001b[0mkwargs\u001b[0m\u001b[0;34m)\u001b[0m\u001b[0;34m\u001b[0m\u001b[0;34m\u001b[0m\u001b[0m\n\u001b[0m\u001b[1;32m      8\u001b[0m         \u001b[0mans\u001b[0m\u001b[0;34m[\u001b[0m\u001b[0ma\u001b[0m\u001b[0;34m:\u001b[0m\u001b[0mb\u001b[0m\u001b[0;34m]\u001b[0m \u001b[0;34m=\u001b[0m \u001b[0mm\u001b[0m\u001b[0;34m.\u001b[0m\u001b[0mpredict\u001b[0m\u001b[0;34m(\u001b[0m\u001b[0mX\u001b[0m\u001b[0;34m[\u001b[0m\u001b[0ma\u001b[0m\u001b[0;34m:\u001b[0m\u001b[0mb\u001b[0m\u001b[0;34m]\u001b[0m\u001b[0;34m)\u001b[0m\u001b[0;34m\u001b[0m\u001b[0;34m\u001b[0m\u001b[0m\n\u001b[1;32m      9\u001b[0m \u001b[0;34m\u001b[0m\u001b[0m\n",
            "\u001b[0;32m<ipython-input-66-7929d1f0a04e>\u001b[0m in \u001b[0;36mfit\u001b[0;34m(self, X, y, max_elems, **kwargs)\u001b[0m\n\u001b[1;32m     23\u001b[0m             \u001b[0my_tmp\u001b[0m\u001b[0;34m[\u001b[0m\u001b[0my\u001b[0m \u001b[0;34m==\u001b[0m \u001b[0mk\u001b[0m\u001b[0;34m]\u001b[0m \u001b[0;34m=\u001b[0m \u001b[0;36m1\u001b[0m\u001b[0;34m\u001b[0m\u001b[0;34m\u001b[0m\u001b[0m\n\u001b[1;32m     24\u001b[0m             \u001b[0my_tmp\u001b[0m\u001b[0;34m[\u001b[0m\u001b[0my\u001b[0m \u001b[0;34m!=\u001b[0m \u001b[0mk\u001b[0m\u001b[0;34m]\u001b[0m \u001b[0;34m=\u001b[0m \u001b[0;34m-\u001b[0m\u001b[0;36m1\u001b[0m\u001b[0;34m\u001b[0m\u001b[0;34m\u001b[0m\u001b[0m\n\u001b[0;32m---> 25\u001b[0;31m             \u001b[0mtmp_model\u001b[0m\u001b[0;34m.\u001b[0m\u001b[0mfit\u001b[0m\u001b[0;34m(\u001b[0m\u001b[0mX\u001b[0m\u001b[0;34m,\u001b[0m \u001b[0my_tmp\u001b[0m\u001b[0;34m,\u001b[0m \u001b[0mmax_elems\u001b[0m\u001b[0;34m,\u001b[0m \u001b[0;34m**\u001b[0m\u001b[0mkwargs\u001b[0m\u001b[0;34m)\u001b[0m\u001b[0;34m\u001b[0m\u001b[0;34m\u001b[0m\u001b[0m\n\u001b[0m\u001b[1;32m     26\u001b[0m             \u001b[0mself\u001b[0m\u001b[0;34m.\u001b[0m\u001b[0mmodels\u001b[0m\u001b[0;34m.\u001b[0m\u001b[0mappend\u001b[0m\u001b[0;34m(\u001b[0m\u001b[0mtmp_model\u001b[0m\u001b[0;34m)\u001b[0m\u001b[0;34m\u001b[0m\u001b[0;34m\u001b[0m\u001b[0m\n\u001b[1;32m     27\u001b[0m \u001b[0;34m\u001b[0m\u001b[0m\n",
            "\u001b[0;32m<ipython-input-93-805a853e31dc>\u001b[0m in \u001b[0;36mfit\u001b[0;34m(self, X_train, y_train, max_elems, **kwargs)\u001b[0m\n\u001b[1;32m     64\u001b[0m             \u001b[0mbounds\u001b[0m \u001b[0;34m=\u001b[0m \u001b[0;34m[\u001b[0m\u001b[0;34m(\u001b[0m\u001b[0;34m-\u001b[0m\u001b[0mA\u001b[0m\u001b[0;34m,\u001b[0m \u001b[0mA\u001b[0m\u001b[0;34m)\u001b[0m\u001b[0;34m,\u001b[0m \u001b[0;34m(\u001b[0m\u001b[0;34m-\u001b[0m\u001b[0mA\u001b[0m\u001b[0;34m,\u001b[0m \u001b[0mA\u001b[0m\u001b[0;34m)\u001b[0m\u001b[0;34m]\u001b[0m\u001b[0;34m\u001b[0m\u001b[0;34m\u001b[0m\u001b[0m\n\u001b[1;32m     65\u001b[0m             \u001b[0mbounds\u001b[0m\u001b[0;34m.\u001b[0m\u001b[0mextend\u001b[0m\u001b[0;34m(\u001b[0m\u001b[0;34m[\u001b[0m\u001b[0;34m(\u001b[0m\u001b[0;36m0\u001b[0m\u001b[0;34m,\u001b[0m \u001b[0;36m5\u001b[0m \u001b[0;34m*\u001b[0m \u001b[0mi\u001b[0m\u001b[0;34m)\u001b[0m \u001b[0;32mfor\u001b[0m \u001b[0mi\u001b[0m \u001b[0;32min\u001b[0m \u001b[0mmax_elems\u001b[0m\u001b[0;34m[\u001b[0m\u001b[0mfeature_idx\u001b[0m\u001b[0;34m]\u001b[0m\u001b[0;34m]\u001b[0m\u001b[0;34m)\u001b[0m\u001b[0;34m\u001b[0m\u001b[0;34m\u001b[0m\u001b[0m\n\u001b[0;32m---> 66\u001b[0;31m             \u001b[0mtmp\u001b[0m \u001b[0;34m=\u001b[0m \u001b[0mdifferential_evolution\u001b[0m\u001b[0;34m(\u001b[0m\u001b[0mW\u001b[0m\u001b[0;34m,\u001b[0m  \u001b[0mbounds\u001b[0m\u001b[0;34m,\u001b[0m \u001b[0mpopsize\u001b[0m\u001b[0;34m=\u001b[0m\u001b[0;36m15\u001b[0m\u001b[0;34m,\u001b[0m \u001b[0;34m**\u001b[0m\u001b[0mkwargs\u001b[0m\u001b[0;34m)\u001b[0m\u001b[0;34m.\u001b[0m\u001b[0mx\u001b[0m\u001b[0;34m\u001b[0m\u001b[0;34m\u001b[0m\u001b[0m\n\u001b[0m\u001b[1;32m     67\u001b[0m \u001b[0;34m\u001b[0m\u001b[0m\n\u001b[1;32m     68\u001b[0m             \u001b[0;31m#tmp = differential_evolution(W1, bounds).x\u001b[0m\u001b[0;34m\u001b[0m\u001b[0;34m\u001b[0m\u001b[0;34m\u001b[0m\u001b[0m\n",
            "\u001b[0;32m/usr/local/lib/python3.6/dist-packages/scipy/optimize/_differentialevolution.py\u001b[0m in \u001b[0;36mdifferential_evolution\u001b[0;34m(func, bounds, args, strategy, maxiter, popsize, tol, mutation, recombination, seed, callback, disp, polish, init, atol, updating, workers, constraints)\u001b[0m\n\u001b[1;32m    304\u001b[0m                                      \u001b[0mworkers\u001b[0m\u001b[0;34m=\u001b[0m\u001b[0mworkers\u001b[0m\u001b[0;34m,\u001b[0m\u001b[0;34m\u001b[0m\u001b[0;34m\u001b[0m\u001b[0m\n\u001b[1;32m    305\u001b[0m                                      constraints=constraints) as solver:\n\u001b[0;32m--> 306\u001b[0;31m         \u001b[0mret\u001b[0m \u001b[0;34m=\u001b[0m \u001b[0msolver\u001b[0m\u001b[0;34m.\u001b[0m\u001b[0msolve\u001b[0m\u001b[0;34m(\u001b[0m\u001b[0;34m)\u001b[0m\u001b[0;34m\u001b[0m\u001b[0;34m\u001b[0m\u001b[0m\n\u001b[0m\u001b[1;32m    307\u001b[0m \u001b[0;34m\u001b[0m\u001b[0m\n\u001b[1;32m    308\u001b[0m     \u001b[0;32mreturn\u001b[0m \u001b[0mret\u001b[0m\u001b[0;34m\u001b[0m\u001b[0;34m\u001b[0m\u001b[0m\n",
            "\u001b[0;32m/usr/local/lib/python3.6/dist-packages/scipy/optimize/_differentialevolution.py\u001b[0m in \u001b[0;36msolve\u001b[0;34m(self)\u001b[0m\n\u001b[1;32m    751\u001b[0m             \u001b[0;31m# evolve the population by a generation\u001b[0m\u001b[0;34m\u001b[0m\u001b[0;34m\u001b[0m\u001b[0;34m\u001b[0m\u001b[0m\n\u001b[1;32m    752\u001b[0m             \u001b[0;32mtry\u001b[0m\u001b[0;34m:\u001b[0m\u001b[0;34m\u001b[0m\u001b[0;34m\u001b[0m\u001b[0m\n\u001b[0;32m--> 753\u001b[0;31m                 \u001b[0mnext\u001b[0m\u001b[0;34m(\u001b[0m\u001b[0mself\u001b[0m\u001b[0;34m)\u001b[0m\u001b[0;34m\u001b[0m\u001b[0;34m\u001b[0m\u001b[0m\n\u001b[0m\u001b[1;32m    754\u001b[0m             \u001b[0;32mexcept\u001b[0m \u001b[0mStopIteration\u001b[0m\u001b[0;34m:\u001b[0m\u001b[0;34m\u001b[0m\u001b[0;34m\u001b[0m\u001b[0m\n\u001b[1;32m    755\u001b[0m                 \u001b[0mwarning_flag\u001b[0m \u001b[0;34m=\u001b[0m \u001b[0;32mTrue\u001b[0m\u001b[0;34m\u001b[0m\u001b[0;34m\u001b[0m\u001b[0m\n",
            "\u001b[0;32m/usr/local/lib/python3.6/dist-packages/scipy/optimize/_differentialevolution.py\u001b[0m in \u001b[0;36m__next__\u001b[0;34m(self)\u001b[0m\n\u001b[1;32m   1056\u001b[0m \u001b[0;34m\u001b[0m\u001b[0m\n\u001b[1;32m   1057\u001b[0m                 \u001b[0;31m# create a trial solution\u001b[0m\u001b[0;34m\u001b[0m\u001b[0;34m\u001b[0m\u001b[0;34m\u001b[0m\u001b[0m\n\u001b[0;32m-> 1058\u001b[0;31m                 \u001b[0mtrial\u001b[0m \u001b[0;34m=\u001b[0m \u001b[0mself\u001b[0m\u001b[0;34m.\u001b[0m\u001b[0m_mutate\u001b[0m\u001b[0;34m(\u001b[0m\u001b[0mcandidate\u001b[0m\u001b[0;34m)\u001b[0m\u001b[0;34m\u001b[0m\u001b[0;34m\u001b[0m\u001b[0m\n\u001b[0m\u001b[1;32m   1059\u001b[0m \u001b[0;34m\u001b[0m\u001b[0m\n\u001b[1;32m   1060\u001b[0m                 \u001b[0;31m# ensuring that it's in the range [0, 1)\u001b[0m\u001b[0;34m\u001b[0m\u001b[0;34m\u001b[0m\u001b[0;34m\u001b[0m\u001b[0m\n",
            "\u001b[0;32m/usr/local/lib/python3.6/dist-packages/scipy/optimize/_differentialevolution.py\u001b[0m in \u001b[0;36m_mutate\u001b[0;34m(self, candidate)\u001b[0m\n\u001b[1;32m   1171\u001b[0m                                         self._select_samples(candidate, 5))\n\u001b[1;32m   1172\u001b[0m         \u001b[0;32melse\u001b[0m\u001b[0;34m:\u001b[0m\u001b[0;34m\u001b[0m\u001b[0;34m\u001b[0m\u001b[0m\n\u001b[0;32m-> 1173\u001b[0;31m             \u001b[0mbprime\u001b[0m \u001b[0;34m=\u001b[0m \u001b[0mself\u001b[0m\u001b[0;34m.\u001b[0m\u001b[0mmutation_func\u001b[0m\u001b[0;34m(\u001b[0m\u001b[0mself\u001b[0m\u001b[0;34m.\u001b[0m\u001b[0m_select_samples\u001b[0m\u001b[0;34m(\u001b[0m\u001b[0mcandidate\u001b[0m\u001b[0;34m,\u001b[0m \u001b[0;36m5\u001b[0m\u001b[0;34m)\u001b[0m\u001b[0;34m)\u001b[0m\u001b[0;34m\u001b[0m\u001b[0;34m\u001b[0m\u001b[0m\n\u001b[0m\u001b[1;32m   1174\u001b[0m \u001b[0;34m\u001b[0m\u001b[0m\n\u001b[1;32m   1175\u001b[0m         \u001b[0;32mif\u001b[0m \u001b[0mself\u001b[0m\u001b[0;34m.\u001b[0m\u001b[0mstrategy\u001b[0m \u001b[0;32min\u001b[0m \u001b[0mself\u001b[0m\u001b[0;34m.\u001b[0m\u001b[0m_binomial\u001b[0m\u001b[0;34m:\u001b[0m\u001b[0;34m\u001b[0m\u001b[0;34m\u001b[0m\u001b[0m\n",
            "\u001b[0;32m/usr/local/lib/python3.6/dist-packages/scipy/optimize/_differentialevolution.py\u001b[0m in \u001b[0;36m_select_samples\u001b[0;34m(self, candidate, number_samples)\u001b[0m\n\u001b[1;32m   1249\u001b[0m         \u001b[0midxs\u001b[0m \u001b[0;34m=\u001b[0m \u001b[0mlist\u001b[0m\u001b[0;34m(\u001b[0m\u001b[0mrange\u001b[0m\u001b[0;34m(\u001b[0m\u001b[0mself\u001b[0m\u001b[0;34m.\u001b[0m\u001b[0mnum_population_members\u001b[0m\u001b[0;34m)\u001b[0m\u001b[0;34m)\u001b[0m\u001b[0;34m\u001b[0m\u001b[0;34m\u001b[0m\u001b[0m\n\u001b[1;32m   1250\u001b[0m         \u001b[0midxs\u001b[0m\u001b[0;34m.\u001b[0m\u001b[0mremove\u001b[0m\u001b[0;34m(\u001b[0m\u001b[0mcandidate\u001b[0m\u001b[0;34m)\u001b[0m\u001b[0;34m\u001b[0m\u001b[0;34m\u001b[0m\u001b[0m\n\u001b[0;32m-> 1251\u001b[0;31m         \u001b[0mself\u001b[0m\u001b[0;34m.\u001b[0m\u001b[0mrandom_number_generator\u001b[0m\u001b[0;34m.\u001b[0m\u001b[0mshuffle\u001b[0m\u001b[0;34m(\u001b[0m\u001b[0midxs\u001b[0m\u001b[0;34m)\u001b[0m\u001b[0;34m\u001b[0m\u001b[0;34m\u001b[0m\u001b[0m\n\u001b[0m\u001b[1;32m   1252\u001b[0m         \u001b[0midxs\u001b[0m \u001b[0;34m=\u001b[0m \u001b[0midxs\u001b[0m\u001b[0;34m[\u001b[0m\u001b[0;34m:\u001b[0m\u001b[0mnumber_samples\u001b[0m\u001b[0;34m]\u001b[0m\u001b[0;34m\u001b[0m\u001b[0;34m\u001b[0m\u001b[0m\n\u001b[1;32m   1253\u001b[0m         \u001b[0;32mreturn\u001b[0m \u001b[0midxs\u001b[0m\u001b[0;34m\u001b[0m\u001b[0;34m\u001b[0m\u001b[0m\n",
            "\u001b[0;31mKeyboardInterrupt\u001b[0m: "
          ]
        }
      ]
    },
    {
      "cell_type": "code",
      "metadata": {
        "colab": {
          "base_uri": "https://localhost:8080/",
          "height": 356
        },
        "id": "F3awePolL2CG",
        "outputId": "caa353e9-28dc-40c3-9b6d-19da0a85eb93"
      },
      "source": [
        "iter = [5, 10, 15, 20]\n",
        "res = []\n",
        "for i in iter:\n",
        "    res.append(get_rocauc(Xd, X, y, i, c))"
      ],
      "execution_count": null,
      "outputs": [
        {
          "output_type": "error",
          "ename": "KeyboardInterrupt",
          "evalue": "ignored",
          "traceback": [
            "\u001b[0;31m---------------------------------------------------------------------------\u001b[0m",
            "\u001b[0;31mKeyboardInterrupt\u001b[0m                         Traceback (most recent call last)",
            "\u001b[0;32m<ipython-input-16-3182fb53d798>\u001b[0m in \u001b[0;36m<module>\u001b[0;34m()\u001b[0m\n\u001b[1;32m      2\u001b[0m \u001b[0mres\u001b[0m \u001b[0;34m=\u001b[0m \u001b[0;34m[\u001b[0m\u001b[0;34m]\u001b[0m\u001b[0;34m\u001b[0m\u001b[0;34m\u001b[0m\u001b[0m\n\u001b[1;32m      3\u001b[0m \u001b[0;32mfor\u001b[0m \u001b[0mi\u001b[0m \u001b[0;32min\u001b[0m \u001b[0miter\u001b[0m\u001b[0;34m:\u001b[0m\u001b[0;34m\u001b[0m\u001b[0;34m\u001b[0m\u001b[0m\n\u001b[0;32m----> 4\u001b[0;31m     \u001b[0mres\u001b[0m\u001b[0;34m.\u001b[0m\u001b[0mappend\u001b[0m\u001b[0;34m(\u001b[0m\u001b[0mget_rocauc\u001b[0m\u001b[0;34m(\u001b[0m\u001b[0mXd\u001b[0m\u001b[0;34m,\u001b[0m \u001b[0mX\u001b[0m\u001b[0;34m,\u001b[0m \u001b[0my\u001b[0m\u001b[0;34m,\u001b[0m \u001b[0mi\u001b[0m\u001b[0;34m)\u001b[0m\u001b[0;34m)\u001b[0m\u001b[0;34m\u001b[0m\u001b[0;34m\u001b[0m\u001b[0m\n\u001b[0m",
            "\u001b[0;32m<ipython-input-10-8fde1f9c3a5f>\u001b[0m in \u001b[0;36mget_rocauc\u001b[0;34m(Xd, X, y, n_estimators, cv, **kwargs)\u001b[0m\n\u001b[1;32m      1\u001b[0m \u001b[0;32mdef\u001b[0m \u001b[0mget_rocauc\u001b[0m\u001b[0;34m(\u001b[0m\u001b[0mXd\u001b[0m\u001b[0;34m,\u001b[0m \u001b[0mX\u001b[0m\u001b[0;34m,\u001b[0m \u001b[0my\u001b[0m\u001b[0;34m,\u001b[0m \u001b[0mn_estimators\u001b[0m\u001b[0;34m,\u001b[0m \u001b[0mcv\u001b[0m\u001b[0;34m=\u001b[0m\u001b[0;36m3\u001b[0m\u001b[0;34m,\u001b[0m \u001b[0;34m**\u001b[0m\u001b[0mkwargs\u001b[0m\u001b[0;34m)\u001b[0m\u001b[0;34m:\u001b[0m\u001b[0;34m\u001b[0m\u001b[0;34m\u001b[0m\u001b[0m\n\u001b[1;32m      2\u001b[0m \u001b[0;34m\u001b[0m\u001b[0m\n\u001b[0;32m----> 3\u001b[0;31m     \u001b[0mans\u001b[0m \u001b[0;34m=\u001b[0m \u001b[0mmy_cv\u001b[0m\u001b[0;34m(\u001b[0m\u001b[0mXd\u001b[0m\u001b[0;34m,\u001b[0m \u001b[0my\u001b[0m\u001b[0;34m,\u001b[0m \u001b[0mtol\u001b[0m\u001b[0;34m=\u001b[0m\u001b[0;36m0.1\u001b[0m\u001b[0;34m,\u001b[0m \u001b[0mnum_runs\u001b[0m\u001b[0;34m=\u001b[0m\u001b[0mn_estimators\u001b[0m\u001b[0;34m,\u001b[0m \u001b[0mcv\u001b[0m\u001b[0;34m=\u001b[0m\u001b[0mcv\u001b[0m\u001b[0;34m,\u001b[0m \u001b[0;34m**\u001b[0m\u001b[0mkwargs\u001b[0m\u001b[0;34m)\u001b[0m\u001b[0;34m\u001b[0m\u001b[0;34m\u001b[0m\u001b[0m\n\u001b[0m\u001b[1;32m      4\u001b[0m \u001b[0;34m\u001b[0m\u001b[0m\n\u001b[1;32m      5\u001b[0m     \u001b[0mlgbm\u001b[0m \u001b[0;34m=\u001b[0m \u001b[0mlgb\u001b[0m\u001b[0;34m.\u001b[0m\u001b[0mLGBMClassifier\u001b[0m\u001b[0;34m(\u001b[0m\u001b[0mn_estimators\u001b[0m\u001b[0;34m=\u001b[0m\u001b[0mn_estimators\u001b[0m\u001b[0;34m)\u001b[0m\u001b[0;34m\u001b[0m\u001b[0;34m\u001b[0m\u001b[0m\n",
            "\u001b[0;32m<ipython-input-6-02084ffbaadd>\u001b[0m in \u001b[0;36mmy_cv\u001b[0;34m(X, y, tol, num_runs, cv, **kwargs)\u001b[0m\n\u001b[1;32m      5\u001b[0m         \u001b[0ma\u001b[0m\u001b[0;34m,\u001b[0m \u001b[0mb\u001b[0m \u001b[0;34m=\u001b[0m \u001b[0;34m(\u001b[0m\u001b[0mX\u001b[0m\u001b[0;34m.\u001b[0m\u001b[0mshape\u001b[0m\u001b[0;34m[\u001b[0m\u001b[0;36m0\u001b[0m\u001b[0;34m]\u001b[0m \u001b[0;34m//\u001b[0m \u001b[0mcv\u001b[0m\u001b[0;34m)\u001b[0m \u001b[0;34m*\u001b[0m \u001b[0mi\u001b[0m\u001b[0;34m,\u001b[0m \u001b[0;34m(\u001b[0m\u001b[0mX\u001b[0m\u001b[0;34m.\u001b[0m\u001b[0mshape\u001b[0m\u001b[0;34m[\u001b[0m\u001b[0;36m0\u001b[0m\u001b[0;34m]\u001b[0m \u001b[0;34m//\u001b[0m \u001b[0mcv\u001b[0m\u001b[0;34m)\u001b[0m \u001b[0;34m*\u001b[0m \u001b[0;34m(\u001b[0m\u001b[0mi\u001b[0m \u001b[0;34m+\u001b[0m \u001b[0;36m1\u001b[0m\u001b[0;34m)\u001b[0m\u001b[0;34m\u001b[0m\u001b[0;34m\u001b[0m\u001b[0m\n\u001b[1;32m      6\u001b[0m         \u001b[0mm\u001b[0m \u001b[0;34m=\u001b[0m \u001b[0mOne_vs_all\u001b[0m\u001b[0;34m(\u001b[0m\u001b[0mtol\u001b[0m\u001b[0;34m=\u001b[0m\u001b[0mtol\u001b[0m\u001b[0;34m,\u001b[0m \u001b[0mmax_iter\u001b[0m\u001b[0;34m=\u001b[0m\u001b[0mnum_runs\u001b[0m\u001b[0;34m)\u001b[0m\u001b[0;34m\u001b[0m\u001b[0;34m\u001b[0m\u001b[0m\n\u001b[0;32m----> 7\u001b[0;31m         \u001b[0mm\u001b[0m\u001b[0;34m.\u001b[0m\u001b[0mfit\u001b[0m\u001b[0;34m(\u001b[0m\u001b[0mnp\u001b[0m\u001b[0;34m.\u001b[0m\u001b[0mvstack\u001b[0m\u001b[0;34m(\u001b[0m\u001b[0;34m(\u001b[0m\u001b[0mX\u001b[0m\u001b[0;34m[\u001b[0m\u001b[0;34m:\u001b[0m\u001b[0ma\u001b[0m\u001b[0;34m]\u001b[0m\u001b[0;34m,\u001b[0m \u001b[0mX\u001b[0m\u001b[0;34m[\u001b[0m\u001b[0mb\u001b[0m\u001b[0;34m:\u001b[0m\u001b[0;34m]\u001b[0m\u001b[0;34m)\u001b[0m\u001b[0;34m)\u001b[0m\u001b[0;34m,\u001b[0m \u001b[0mnp\u001b[0m\u001b[0;34m.\u001b[0m\u001b[0mappend\u001b[0m\u001b[0;34m(\u001b[0m\u001b[0my\u001b[0m\u001b[0;34m[\u001b[0m\u001b[0;34m:\u001b[0m\u001b[0ma\u001b[0m\u001b[0;34m]\u001b[0m\u001b[0;34m,\u001b[0m \u001b[0my\u001b[0m\u001b[0;34m[\u001b[0m\u001b[0mb\u001b[0m\u001b[0;34m:\u001b[0m\u001b[0;34m]\u001b[0m\u001b[0;34m)\u001b[0m\u001b[0;34m,\u001b[0m \u001b[0mnp\u001b[0m\u001b[0;34m.\u001b[0m\u001b[0mmax\u001b[0m\u001b[0;34m(\u001b[0m\u001b[0mX\u001b[0m\u001b[0;34m,\u001b[0m \u001b[0maxis\u001b[0m\u001b[0;34m=\u001b[0m\u001b[0;36m0\u001b[0m\u001b[0;34m)\u001b[0m\u001b[0;34m,\u001b[0m \u001b[0;34m**\u001b[0m\u001b[0mkwargs\u001b[0m\u001b[0;34m)\u001b[0m\u001b[0;34m\u001b[0m\u001b[0;34m\u001b[0m\u001b[0m\n\u001b[0m\u001b[1;32m      8\u001b[0m         \u001b[0mans\u001b[0m\u001b[0;34m[\u001b[0m\u001b[0ma\u001b[0m\u001b[0;34m:\u001b[0m\u001b[0mb\u001b[0m\u001b[0;34m]\u001b[0m \u001b[0;34m=\u001b[0m \u001b[0mm\u001b[0m\u001b[0;34m.\u001b[0m\u001b[0mpredict\u001b[0m\u001b[0;34m(\u001b[0m\u001b[0mX\u001b[0m\u001b[0;34m[\u001b[0m\u001b[0ma\u001b[0m\u001b[0;34m:\u001b[0m\u001b[0mb\u001b[0m\u001b[0;34m]\u001b[0m\u001b[0;34m)\u001b[0m\u001b[0;34m\u001b[0m\u001b[0;34m\u001b[0m\u001b[0m\n\u001b[1;32m      9\u001b[0m \u001b[0;34m\u001b[0m\u001b[0m\n",
            "\u001b[0;32m<ipython-input-5-b7b6d29020a1>\u001b[0m in \u001b[0;36mfit\u001b[0;34m(self, X, y, max_elems, **kwargs)\u001b[0m\n\u001b[1;32m     22\u001b[0m             \u001b[0my_tmp\u001b[0m\u001b[0;34m[\u001b[0m\u001b[0my\u001b[0m \u001b[0;34m==\u001b[0m \u001b[0mk\u001b[0m\u001b[0;34m]\u001b[0m \u001b[0;34m=\u001b[0m \u001b[0;36m1\u001b[0m\u001b[0;34m\u001b[0m\u001b[0;34m\u001b[0m\u001b[0m\n\u001b[1;32m     23\u001b[0m             \u001b[0my_tmp\u001b[0m\u001b[0;34m[\u001b[0m\u001b[0my\u001b[0m \u001b[0;34m!=\u001b[0m \u001b[0mk\u001b[0m\u001b[0;34m]\u001b[0m \u001b[0;34m=\u001b[0m \u001b[0;34m-\u001b[0m\u001b[0;36m1\u001b[0m\u001b[0;34m\u001b[0m\u001b[0;34m\u001b[0m\u001b[0m\n\u001b[0;32m---> 24\u001b[0;31m             \u001b[0mtmp_model\u001b[0m\u001b[0;34m.\u001b[0m\u001b[0mfit\u001b[0m\u001b[0;34m(\u001b[0m\u001b[0mX\u001b[0m\u001b[0;34m,\u001b[0m \u001b[0my_tmp\u001b[0m\u001b[0;34m,\u001b[0m \u001b[0mmax_elems\u001b[0m\u001b[0;34m,\u001b[0m \u001b[0;34m**\u001b[0m\u001b[0mkwargs\u001b[0m\u001b[0;34m)\u001b[0m\u001b[0;34m\u001b[0m\u001b[0;34m\u001b[0m\u001b[0m\n\u001b[0m\u001b[1;32m     25\u001b[0m             \u001b[0mself\u001b[0m\u001b[0;34m.\u001b[0m\u001b[0mmodels\u001b[0m\u001b[0;34m.\u001b[0m\u001b[0mappend\u001b[0m\u001b[0;34m(\u001b[0m\u001b[0mtmp_model\u001b[0m\u001b[0;34m)\u001b[0m\u001b[0;34m\u001b[0m\u001b[0;34m\u001b[0m\u001b[0m\n\u001b[1;32m     26\u001b[0m \u001b[0;34m\u001b[0m\u001b[0m\n",
            "\u001b[0;32m<ipython-input-14-8b79665ad8bd>\u001b[0m in \u001b[0;36mfit\u001b[0;34m(self, X_train, y_train, max_elems, **kwargs)\u001b[0m\n\u001b[1;32m     45\u001b[0m         \u001b[0;32mfor\u001b[0m \u001b[0m_\u001b[0m \u001b[0;32min\u001b[0m \u001b[0mrange\u001b[0m\u001b[0;34m(\u001b[0m\u001b[0mself\u001b[0m\u001b[0;34m.\u001b[0m\u001b[0mmax_iter\u001b[0m\u001b[0;34m)\u001b[0m\u001b[0;34m:\u001b[0m\u001b[0;34m\u001b[0m\u001b[0;34m\u001b[0m\u001b[0m\n\u001b[1;32m     46\u001b[0m             \u001b[0;31m#Подбор нового эл.кл.\u001b[0m\u001b[0;34m\u001b[0m\u001b[0;34m\u001b[0m\u001b[0;34m\u001b[0m\u001b[0m\n\u001b[0;32m---> 47\u001b[0;31m             \u001b[0mtmp\u001b[0m \u001b[0;34m=\u001b[0m \u001b[0mdifferential_evolution\u001b[0m\u001b[0;34m(\u001b[0m\u001b[0mW\u001b[0m\u001b[0;34m,\u001b[0m \u001b[0mbounds\u001b[0m\u001b[0;34m,\u001b[0m \u001b[0mpopsize\u001b[0m\u001b[0;34m=\u001b[0m\u001b[0;36m15\u001b[0m\u001b[0;34m,\u001b[0m \u001b[0;34m**\u001b[0m\u001b[0mkwargs\u001b[0m\u001b[0;34m)\u001b[0m\u001b[0;34m.\u001b[0m\u001b[0mx\u001b[0m\u001b[0;34m\u001b[0m\u001b[0;34m\u001b[0m\u001b[0m\n\u001b[0m\u001b[1;32m     48\u001b[0m             \u001b[0;31m#tmp = differential_evolution(W1, bounds).x\u001b[0m\u001b[0;34m\u001b[0m\u001b[0;34m\u001b[0m\u001b[0;34m\u001b[0m\u001b[0m\n\u001b[1;32m     49\u001b[0m             \u001b[0mself\u001b[0m\u001b[0;34m.\u001b[0m\u001b[0msigmas\u001b[0m\u001b[0;34m.\u001b[0m\u001b[0mappend\u001b[0m\u001b[0;34m(\u001b[0m\u001b[0;34m(\u001b[0m\u001b[0mtmp\u001b[0m\u001b[0;34m[\u001b[0m\u001b[0;36m0\u001b[0m\u001b[0;34m]\u001b[0m\u001b[0;34m,\u001b[0m \u001b[0mtmp\u001b[0m\u001b[0;34m[\u001b[0m\u001b[0;36m1\u001b[0m\u001b[0;34m]\u001b[0m\u001b[0;34m,\u001b[0m \u001b[0mtmp\u001b[0m\u001b[0;34m[\u001b[0m\u001b[0;36m2\u001b[0m\u001b[0;34m:\u001b[0m\u001b[0;34m]\u001b[0m\u001b[0;34m)\u001b[0m\u001b[0;34m)\u001b[0m\u001b[0;34m\u001b[0m\u001b[0;34m\u001b[0m\u001b[0m\n",
            "\u001b[0;32m/usr/local/lib/python3.6/dist-packages/scipy/optimize/_differentialevolution.py\u001b[0m in \u001b[0;36mdifferential_evolution\u001b[0;34m(func, bounds, args, strategy, maxiter, popsize, tol, mutation, recombination, seed, callback, disp, polish, init, atol, updating, workers, constraints)\u001b[0m\n\u001b[1;32m    304\u001b[0m                                      \u001b[0mworkers\u001b[0m\u001b[0;34m=\u001b[0m\u001b[0mworkers\u001b[0m\u001b[0;34m,\u001b[0m\u001b[0;34m\u001b[0m\u001b[0;34m\u001b[0m\u001b[0m\n\u001b[1;32m    305\u001b[0m                                      constraints=constraints) as solver:\n\u001b[0;32m--> 306\u001b[0;31m         \u001b[0mret\u001b[0m \u001b[0;34m=\u001b[0m \u001b[0msolver\u001b[0m\u001b[0;34m.\u001b[0m\u001b[0msolve\u001b[0m\u001b[0;34m(\u001b[0m\u001b[0;34m)\u001b[0m\u001b[0;34m\u001b[0m\u001b[0;34m\u001b[0m\u001b[0m\n\u001b[0m\u001b[1;32m    307\u001b[0m \u001b[0;34m\u001b[0m\u001b[0m\n\u001b[1;32m    308\u001b[0m     \u001b[0;32mreturn\u001b[0m \u001b[0mret\u001b[0m\u001b[0;34m\u001b[0m\u001b[0;34m\u001b[0m\u001b[0m\n",
            "\u001b[0;32m/usr/local/lib/python3.6/dist-packages/scipy/optimize/_differentialevolution.py\u001b[0m in \u001b[0;36msolve\u001b[0;34m(self)\u001b[0m\n\u001b[1;32m    751\u001b[0m             \u001b[0;31m# evolve the population by a generation\u001b[0m\u001b[0;34m\u001b[0m\u001b[0;34m\u001b[0m\u001b[0;34m\u001b[0m\u001b[0m\n\u001b[1;32m    752\u001b[0m             \u001b[0;32mtry\u001b[0m\u001b[0;34m:\u001b[0m\u001b[0;34m\u001b[0m\u001b[0;34m\u001b[0m\u001b[0m\n\u001b[0;32m--> 753\u001b[0;31m                 \u001b[0mnext\u001b[0m\u001b[0;34m(\u001b[0m\u001b[0mself\u001b[0m\u001b[0;34m)\u001b[0m\u001b[0;34m\u001b[0m\u001b[0;34m\u001b[0m\u001b[0m\n\u001b[0m\u001b[1;32m    754\u001b[0m             \u001b[0;32mexcept\u001b[0m \u001b[0mStopIteration\u001b[0m\u001b[0;34m:\u001b[0m\u001b[0;34m\u001b[0m\u001b[0;34m\u001b[0m\u001b[0m\n\u001b[1;32m    755\u001b[0m                 \u001b[0mwarning_flag\u001b[0m \u001b[0;34m=\u001b[0m \u001b[0;32mTrue\u001b[0m\u001b[0;34m\u001b[0m\u001b[0;34m\u001b[0m\u001b[0m\n",
            "\u001b[0;32m/usr/local/lib/python3.6/dist-packages/scipy/optimize/_differentialevolution.py\u001b[0m in \u001b[0;36m__next__\u001b[0;34m(self)\u001b[0m\n\u001b[1;32m   1056\u001b[0m \u001b[0;34m\u001b[0m\u001b[0m\n\u001b[1;32m   1057\u001b[0m                 \u001b[0;31m# create a trial solution\u001b[0m\u001b[0;34m\u001b[0m\u001b[0;34m\u001b[0m\u001b[0;34m\u001b[0m\u001b[0m\n\u001b[0;32m-> 1058\u001b[0;31m                 \u001b[0mtrial\u001b[0m \u001b[0;34m=\u001b[0m \u001b[0mself\u001b[0m\u001b[0;34m.\u001b[0m\u001b[0m_mutate\u001b[0m\u001b[0;34m(\u001b[0m\u001b[0mcandidate\u001b[0m\u001b[0;34m)\u001b[0m\u001b[0;34m\u001b[0m\u001b[0;34m\u001b[0m\u001b[0m\n\u001b[0m\u001b[1;32m   1059\u001b[0m \u001b[0;34m\u001b[0m\u001b[0m\n\u001b[1;32m   1060\u001b[0m                 \u001b[0;31m# ensuring that it's in the range [0, 1)\u001b[0m\u001b[0;34m\u001b[0m\u001b[0;34m\u001b[0m\u001b[0;34m\u001b[0m\u001b[0m\n",
            "\u001b[0;32m/usr/local/lib/python3.6/dist-packages/scipy/optimize/_differentialevolution.py\u001b[0m in \u001b[0;36m_mutate\u001b[0;34m(self, candidate)\u001b[0m\n\u001b[1;32m   1171\u001b[0m                                         self._select_samples(candidate, 5))\n\u001b[1;32m   1172\u001b[0m         \u001b[0;32melse\u001b[0m\u001b[0;34m:\u001b[0m\u001b[0;34m\u001b[0m\u001b[0;34m\u001b[0m\u001b[0m\n\u001b[0;32m-> 1173\u001b[0;31m             \u001b[0mbprime\u001b[0m \u001b[0;34m=\u001b[0m \u001b[0mself\u001b[0m\u001b[0;34m.\u001b[0m\u001b[0mmutation_func\u001b[0m\u001b[0;34m(\u001b[0m\u001b[0mself\u001b[0m\u001b[0;34m.\u001b[0m\u001b[0m_select_samples\u001b[0m\u001b[0;34m(\u001b[0m\u001b[0mcandidate\u001b[0m\u001b[0;34m,\u001b[0m \u001b[0;36m5\u001b[0m\u001b[0;34m)\u001b[0m\u001b[0;34m)\u001b[0m\u001b[0;34m\u001b[0m\u001b[0;34m\u001b[0m\u001b[0m\n\u001b[0m\u001b[1;32m   1174\u001b[0m \u001b[0;34m\u001b[0m\u001b[0m\n\u001b[1;32m   1175\u001b[0m         \u001b[0;32mif\u001b[0m \u001b[0mself\u001b[0m\u001b[0;34m.\u001b[0m\u001b[0mstrategy\u001b[0m \u001b[0;32min\u001b[0m \u001b[0mself\u001b[0m\u001b[0;34m.\u001b[0m\u001b[0m_binomial\u001b[0m\u001b[0;34m:\u001b[0m\u001b[0;34m\u001b[0m\u001b[0;34m\u001b[0m\u001b[0m\n",
            "\u001b[0;32m/usr/local/lib/python3.6/dist-packages/scipy/optimize/_differentialevolution.py\u001b[0m in \u001b[0;36m_select_samples\u001b[0;34m(self, candidate, number_samples)\u001b[0m\n\u001b[1;32m   1247\u001b[0m         \u001b[0mwithout\u001b[0m \u001b[0mreplacement\u001b[0m\u001b[0;34m.\u001b[0m  \u001b[0mYou\u001b[0m \u001b[0mcan\u001b[0m\u001b[0;31m'\u001b[0m\u001b[0mt\u001b[0m \u001b[0mhave\u001b[0m \u001b[0mthe\u001b[0m \u001b[0moriginal\u001b[0m \u001b[0mcandidate\u001b[0m \u001b[0meither\u001b[0m\u001b[0;34m.\u001b[0m\u001b[0;34m\u001b[0m\u001b[0;34m\u001b[0m\u001b[0m\n\u001b[1;32m   1248\u001b[0m         \"\"\"\n\u001b[0;32m-> 1249\u001b[0;31m         \u001b[0midxs\u001b[0m \u001b[0;34m=\u001b[0m \u001b[0mlist\u001b[0m\u001b[0;34m(\u001b[0m\u001b[0mrange\u001b[0m\u001b[0;34m(\u001b[0m\u001b[0mself\u001b[0m\u001b[0;34m.\u001b[0m\u001b[0mnum_population_members\u001b[0m\u001b[0;34m)\u001b[0m\u001b[0;34m)\u001b[0m\u001b[0;34m\u001b[0m\u001b[0;34m\u001b[0m\u001b[0m\n\u001b[0m\u001b[1;32m   1250\u001b[0m         \u001b[0midxs\u001b[0m\u001b[0;34m.\u001b[0m\u001b[0mremove\u001b[0m\u001b[0;34m(\u001b[0m\u001b[0mcandidate\u001b[0m\u001b[0;34m)\u001b[0m\u001b[0;34m\u001b[0m\u001b[0;34m\u001b[0m\u001b[0m\n\u001b[1;32m   1251\u001b[0m         \u001b[0mself\u001b[0m\u001b[0;34m.\u001b[0m\u001b[0mrandom_number_generator\u001b[0m\u001b[0;34m.\u001b[0m\u001b[0mshuffle\u001b[0m\u001b[0;34m(\u001b[0m\u001b[0midxs\u001b[0m\u001b[0;34m)\u001b[0m\u001b[0;34m\u001b[0m\u001b[0;34m\u001b[0m\u001b[0m\n",
            "\u001b[0;31mKeyboardInterrupt\u001b[0m: "
          ]
        }
      ]
    },
    {
      "cell_type": "code",
      "metadata": {
        "id": "jzEz7PQekgVn"
      },
      "source": [
        "plt.figure(figsize=(7, 5))\n",
        "name = [\"El.Cl.\", \"LGBM\", \"XGBoost\", \"CatBoost\"]\n",
        "for i in range(4):\n",
        "    t = []\n",
        "    for elem in res:\n",
        "        t.append(elem[i])\n",
        "    plt.plot(iter, t, label=name[i])\n",
        "plt.legend()\n",
        "plt.title(\"cross validation ROC-AUC, dermatology-dataset\")\n",
        "plt.savefig(\"dermatology-inv.pdf\")"
      ],
      "execution_count": null,
      "outputs": []
    },
    {
      "cell_type": "code",
      "metadata": {
        "colab": {
          "base_uri": "https://localhost:8080/"
        },
        "id": "2cz9r2O7iQVB",
        "outputId": "bd4a1b32-5d60-43f6-fc6a-f3e4949fe541"
      },
      "source": [
        "m = One_vs_all(max_iter=10)\n",
        "m.fit(Xd, y, np.max(Xd, axis=0))\n",
        "ans = m.predict(Xd)"
      ],
      "execution_count": null,
      "outputs": [
        {
          "output_type": "stream",
          "text": [
            "[[0.08659356 0.31818392 0.08327144 0.1892685  0.08378917 0.08398458]\n",
            " [0.91425614 0.13160769 0.08327144 0.13130779 0.08378917 0.08398458]\n",
            " [0.08659356 0.22874947 0.91552727 0.26089711 0.08378917 0.08398458]\n",
            " ...\n",
            " [0.08659356 0.09908876 0.91552727 0.14801616 0.08378917 0.08398458]\n",
            " [0.08659356 0.07215011 0.91552727 0.17176207 0.08378917 0.08398458]\n",
            " [0.91425614 0.1925442  0.08327144 0.10909743 0.08378917 0.08398458]]\n"
          ],
          "name": "stdout"
        }
      ]
    },
    {
      "cell_type": "code",
      "metadata": {
        "colab": {
          "base_uri": "https://localhost:8080/"
        },
        "id": "Gkn8PoDKiV_I",
        "outputId": "e2c68a37-664f-4ed1-d631-01c63c1eeb80"
      },
      "source": [
        "classes = np.arange(len(np.unique(y)))\n",
        "tmp = ohe(y, classes)\n",
        "\n",
        "roc_auc_score(tmp, ohe(ans, classes), average='macro')"
      ],
      "execution_count": null,
      "outputs": [
        {
          "output_type": "execute_result",
          "data": {
            "text/plain": [
              "0.9801540333785836"
            ]
          },
          "metadata": {
            "tags": []
          },
          "execution_count": 27
        }
      ]
    },
    {
      "cell_type": "code",
      "metadata": {
        "id": "uwgIiaWBcQ0l"
      },
      "source": [
        "data_car = pd.read_csv('/content/drive/My Drive/car.data', header=None)\n",
        "data_car = data_car.replace('low', 0)\n",
        "data_car = data_car.replace('med', 1)\n",
        "data_car = data_car.replace('high', 2)\n",
        "data_car = data_car.replace('vhigh', 3)\n",
        "\n",
        "data_car = data_car.replace('5more', 5)\n",
        "data_car = data_car.replace('more', 5)\n",
        "\n",
        "data_car = data_car.replace('small', 0)\n",
        "data_car = data_car.replace('big', 2)\n",
        "\n",
        "data_car = data_car.replace('unacc', 0)\n",
        "data_car = data_car.replace('acc', 1)\n",
        "data_car = data_car.replace('good', 2)\n",
        "data_car = data_car.replace('vgood', 3)"
      ],
      "execution_count": null,
      "outputs": []
    },
    {
      "cell_type": "code",
      "metadata": {
        "id": "W7JAY2z7cQ0p"
      },
      "source": [
        "X = data_car.values[:, :6].astype(int)\n",
        "y = data_car[6].values"
      ],
      "execution_count": null,
      "outputs": []
    },
    {
      "cell_type": "code",
      "metadata": {
        "id": "5Voduii6cQ0r",
        "colab": {
          "base_uri": "https://localhost:8080/"
        },
        "outputId": "560263fb-7b71-49f1-8f36-b04b9ae6a580"
      },
      "source": [
        "X1, c = enc(X, thr=3)\n",
        "Xd = add_inverse(X1, c)\n",
        "#Xd = X1\n",
        "cv = 3\n",
        "feature_subset = 1\n",
        "'m = ' + str(math.ceil(Xd.shape[0]*(cv-1)/cv)), 'k = ' + str(np.max(Xd) + 1),\\\n",
        "'n = ' + str(int(Xd.shape[1] * feature_subset ))"
      ],
      "execution_count": null,
      "outputs": [
        {
          "output_type": "execute_result",
          "data": {
            "text/plain": [
              "('m = 1152', 'k = 4', 'n = 9')"
            ]
          },
          "metadata": {
            "tags": []
          },
          "execution_count": 18
        }
      ]
    },
    {
      "cell_type": "code",
      "metadata": {
        "colab": {
          "base_uri": "https://localhost:8080/"
        },
        "id": "Ab7tlY3zu1Ql",
        "outputId": "3abc1523-fa22-429b-d9fa-14c2453c16da"
      },
      "source": [
        "X1.shape, c"
      ],
      "execution_count": null,
      "outputs": [
        {
          "output_type": "execute_result",
          "data": {
            "text/plain": [
              "((1728, 6), 3)"
            ]
          },
          "metadata": {
            "tags": []
          },
          "execution_count": 16
        }
      ]
    },
    {
      "cell_type": "code",
      "metadata": {
        "colab": {
          "base_uri": "https://localhost:8080/"
        },
        "id": "Y4j4s5NQCJkR",
        "outputId": "07a9a675-52cb-44c5-a2fa-a8cc477822af"
      },
      "source": [
        "get_rocauc(Xd, X, y, 40, c, cv=5)"
      ],
      "execution_count": null,
      "outputs": [
        {
          "output_type": "execute_result",
          "data": {
            "text/plain": [
              "[0.6514588909120158,\n",
              " 0.8184679955870813,\n",
              " 0.7144089707054504,\n",
              " 0.8598738218862682]"
            ]
          },
          "metadata": {
            "tags": []
          },
          "execution_count": 27
        }
      ]
    },
    {
      "cell_type": "code",
      "metadata": {
        "id": "0hqI85oYcQ0t"
      },
      "source": [
        "iter = [25, 50, 75, 100, 125]\n",
        "res = []\n",
        "for i in iter:\n",
        "    res.append(get_rocauc(Xd, X, y, i, c))"
      ],
      "execution_count": null,
      "outputs": []
    },
    {
      "cell_type": "code",
      "metadata": {
        "colab": {
          "base_uri": "https://localhost:8080/",
          "height": 336
        },
        "id": "ZpxAdVOr30Em",
        "outputId": "e3917cb3-6749-45be-d2e8-dcb98963e272"
      },
      "source": [
        "#fig, ax = plt.subplots(4, 1)\n",
        "plt.figure(figsize=(7, 5))\n",
        "name = [\"El.Cl.\", \"LGBM\", \"XGBoost\", \"CatBoost\"]\n",
        "for i in range(4):\n",
        "    t = []\n",
        "    for elem in res:\n",
        "        t.append(elem[i])\n",
        "    plt.plot(iter, t, label=name[i])\n",
        "plt.legend()\n",
        "plt.title(\"cross validation ROC-AUC, car-dataset\")\n",
        "plt.savefig(\"car-inv.pdf\")"
      ],
      "execution_count": null,
      "outputs": [
        {
          "output_type": "display_data",
          "data": {
            "image/png": "[encoded data removed]",
            "text/plain": [
              "<Figure size 504x360 with 1 Axes>"
            ]
          },
          "metadata": {
            "tags": [],
            "needs_background": "light"
          }
        }
      ]
    },
    {
      "cell_type": "code",
      "metadata": {
        "id": "7Na1GCTcFP36"
      },
      "source": [
        ""
      ],
      "execution_count": null,
      "outputs": []
    }
  ]
}